{
 "cells": [
  {
   "cell_type": "code",
   "execution_count": 1,
   "metadata": {},
   "outputs": [],
   "source": [
    "# import sys, numpy, math\n",
    "import scipy.stats as scipystats\n",
    "import matplotlib.pyplot as plt\n",
    "import numpy as np\n",
    "import numpy\n",
    "import re\n",
    "from scipy.stats import beta\n",
    "import sys, os, math\n",
    "from mpl_toolkits.mplot3d import Axes3D\n",
    "\n",
    "%matplotlib inline\n",
    "\n",
    "# Deemed colorblind safe: http://colorbrewer2.org/#type=qualitative&scheme=Dark2&n=3\n",
    "highConfColor     ='#1b9e77'\n",
    "medConfColor      ='#7570b3'\n",
    "lowConfColor      ='#d95f02'\n",
    "unclassifiedColor ='black'\n",
    "\n",
    "reference_dir = '../../../../HCC1395/HighConfidenceCalls/truth_v1.1/'"
   ]
  },
  {
   "cell_type": "code",
   "execution_count": 2,
   "metadata": {},
   "outputs": [],
   "source": [
    "sys.path.append('/home/lethalfang/apps/seqc2/somaticseq/')\n",
    "sys.path.append('/home/lethalfang/apps/seqc2/somaticseq/utilities')\n",
    "\n",
    "import genomic_file_handlers as genome\n",
    "from bedFileHandler import BedFile\n",
    "\n",
    "callableLoci = BedFile('{}/BED/mergeBed.MajorityAlignersCallable.bed'.format(reference_dir))"
   ]
  },
  {
   "cell_type": "code",
   "execution_count": 3,
   "metadata": {},
   "outputs": [],
   "source": [
    "truth_snv   = os.path.join(reference_dir, 'sSNV.MSDUKT.superSet.v1.2.vcf.gz' )\n",
    "truth_indel = os.path.join(reference_dir, 'sINDEL.MDKT.superSet.v1.2.vcf.gz' )\n",
    "\n",
    "ampliseq_snv_validation   = '/home/lethalfang/Documents/Bina/SMWG/AmpliSeqValidation/AmpliSeq.SNV.ValidationAnnotation.v1.2.tsv'\n",
    "ampliseq_indel_validation = '/home/lethalfang/Documents/Bina/SMWG/AmpliSeqValidation/AmpliSeq.INDEL.ValidationAnnotation.v1.2.tsv'"
   ]
  },
  {
   "cell_type": "code",
   "execution_count": 4,
   "metadata": {},
   "outputs": [],
   "source": [
    "def binom_interval(success, total, confint=0.95):\n",
    "    quantile = (1 - confint) / 2\n",
    "    lower = beta.ppf(quantile, success, total - success + 1)\n",
    "    upper = beta.ppf(1 - quantile, success + 1, total - success)\n",
    "    \n",
    "    if math.isnan(lower): lower = 0\n",
    "    if math.isnan(upper): upper = 1\n",
    "        \n",
    "    return (lower, upper)"
   ]
  },
  {
   "cell_type": "code",
   "execution_count": 5,
   "metadata": {},
   "outputs": [],
   "source": [
    "def combo(N, n):\n",
    "    return int( math.factorial(N)/( math.factorial(n) * math.factorial(N-n) ) )\n",
    "\n",
    "def prob(N, n, vaf):\n",
    "    return combo(N, n) * ( vaf**n ) * ( (1-vaf)**(N-n) )\n",
    "\n",
    "def cdf(N, vaf):\n",
    "    prob_i = []\n",
    "    for i in range(N+1):\n",
    "        prob_i.append( prob(N, i, vaf) )\n",
    "        \n",
    "    return np.cumsum( prob_i )\n",
    "\n",
    "def conf_interval(N, vaf, conf=0.95):\n",
    "\n",
    "    cdf_vector = cdf(N, vaf)\n",
    "    \n",
    "    outlier = (1-conf)/2\n",
    "    lower = cdf_vector <= outlier\n",
    "    upper = cdf_vector >= conf+outlier\n",
    "    \n",
    "    for i, bool_i in enumerate(lower):\n",
    "        if not bool_i:\n",
    "            lowerBound = i\n",
    "            break\n",
    "            \n",
    "    for i, bool_i in enumerate(upper):\n",
    "        if bool_i:\n",
    "            upperBound = i\n",
    "            break\n",
    "\n",
    "    return lowerBound, upperBound"
   ]
  },
  {
   "cell_type": "code",
   "execution_count": 6,
   "metadata": {},
   "outputs": [],
   "source": [
    "def R(x, y):\n",
    "    assert len(x) == len(y)\n",
    "    x1 = []\n",
    "    y1 = []\n",
    "    for x_i, y_i in zip(x,y):\n",
    "        if math.isfinite(x_i) and math.isfinite(y_i):\n",
    "            x1.append(x_i)\n",
    "            y1.append(y_i)\n",
    "            \n",
    "    return scipystats.pearsonr(x1,y1)[0]"
   ]
  },
  {
   "cell_type": "code",
   "execution_count": 7,
   "metadata": {},
   "outputs": [],
   "source": [
    "validationKeeper = {}"
   ]
  },
  {
   "cell_type": "code",
   "execution_count": 8,
   "metadata": {},
   "outputs": [],
   "source": [
    "totalStats = { \\\n",
    "              'snv':  {'HighConf':     {'total': 0, 'interpretable': 0, 'validated': 0, 'notValidated': 0}, \\\n",
    "                       'MedConf' :     {'total': 0, 'interpretable': 0, 'validated': 0, 'notValidated': 0}, \\\n",
    "                       'LowConf' :     {'total': 0, 'interpretable': 0, 'validated': 0, 'notValidated': 0}, \\\n",
    "                       'Unclassified': {'total': 0, 'interpretable': 0, 'validated': 0, 'notValidated': 0}, \\\n",
    "                      }, \\\n",
    "              'indel': {'HighConf':     {'total': 0, 'interpretable': 0, 'validated': 0, 'notValidated': 0}, \\\n",
    "                        'MedConf' :     {'total': 0, 'interpretable': 0, 'validated': 0, 'notValidated': 0}, \\\n",
    "                        'LowConf' :     {'total': 0, 'interpretable': 0, 'validated': 0, 'notValidated': 0}, \\\n",
    "                        'Unclassified': {'total': 0, 'interpretable': 0, 'validated': 0, 'notValidated': 0}, \\\n",
    "                       }, \\\n",
    "             }"
   ]
  },
  {
   "cell_type": "code",
   "execution_count": null,
   "metadata": {},
   "outputs": [],
   "source": []
  },
  {
   "cell_type": "code",
   "execution_count": 9,
   "metadata": {},
   "outputs": [
    {
     "name": "stdout",
     "output_type": "stream",
     "text": [
      "NonCallable positions = 95\n"
     ]
    }
   ],
   "source": [
    "ampliseqSnvResults = {}\n",
    "n_nonCallable = 0\n",
    "with open(ampliseq_snv_validation) as ampliseqSnv, open('/tmp/ampliSeqCallables.tsv', 'w') as callable_redirect:\n",
    "    \n",
    "    ampliseq_line = ampliseqSnv.readline().rstrip()\n",
    "    \n",
    "    callable_redirect.write( ampliseq_line + '\\n' )\n",
    "    \n",
    "    ampliseq_header     = ampliseq_line.split('\\t')\n",
    "    i_ampliseq_chrom    = ampliseq_header.index('CHROM')\n",
    "    i_ampliseq_pos      = ampliseq_header.index('POS')\n",
    "    i_ampliseq_ref      = ampliseq_header.index('REF')\n",
    "    i_ampliseq_alt      = ampliseq_header.index('ALT')\n",
    "    i_ampliseq_tVDP     = ampliseq_header.index('TumorVDP')\n",
    "    i_ampliseq_tDP      = ampliseq_header.index('TumorDP')\n",
    "    i_ampliseq_nVDP     = ampliseq_header.index('NormalVDP')\n",
    "    i_ampliseq_nDP      = ampliseq_header.index('NormalDP')\n",
    "    i_ampliseq_validate = ampliseq_header.index('VALIDATED')\n",
    "    \n",
    "    ampliseq_line = ampliseqSnv.readline().rstrip()\n",
    "    while ampliseq_line:\n",
    "        \n",
    "        ampliseq_item = ampliseq_line.split('\\t')\n",
    "        \n",
    "        variant_id = (ampliseq_item[i_ampliseq_chrom], int(ampliseq_item[i_ampliseq_pos]), ampliseq_item[i_ampliseq_ref], ampliseq_item[i_ampliseq_alt])\n",
    "        \n",
    "        if callableLoci.inRegion(variant_id[0], variant_id[1]):\n",
    "        \n",
    "            tVDP       = int( ampliseq_item[i_ampliseq_tVDP] )\n",
    "            tDP        = int( ampliseq_item[i_ampliseq_tDP] )\n",
    "            nVDP       = int( ampliseq_item[i_ampliseq_nVDP] )\n",
    "            nDP        = int( ampliseq_item[i_ampliseq_nDP] )\n",
    "            Validation = ampliseq_item[i_ampliseq_validate]\n",
    "\n",
    "            ampliseqSnvResults[variant_id] = {'tVDP': tVDP, 'tDP': tDP, 'nVDP': nVDP, 'nDP': nDP, 'Validation': Validation}\n",
    "            callable_redirect.write( ampliseq_line + '\\n' )\n",
    "            \n",
    "        else:\n",
    "            n_nonCallable += 1\n",
    "        \n",
    "        ampliseq_line = ampliseqSnv.readline().rstrip()\n",
    "        \n",
    "print('NonCallable positions =', n_nonCallable)"
   ]
  },
  {
   "cell_type": "code",
   "execution_count": 10,
   "metadata": {},
   "outputs": [
    {
     "name": "stdout",
     "output_type": "stream",
     "text": [
      "Callable Positions = 355\n"
     ]
    }
   ],
   "source": [
    "print('Callable Positions =', len(ampliseqSnvResults) )"
   ]
  },
  {
   "cell_type": "code",
   "execution_count": 11,
   "metadata": {},
   "outputs": [],
   "source": [
    "with genome.open_textfile(truth_snv) as goldSnv:\n",
    "    \n",
    "    gold_line = goldSnv.readline().rstrip()\n",
    "    \n",
    "    while gold_line.startswith('#'):\n",
    "        gold_line = goldSnv.readline().rstrip()\n",
    "        \n",
    "    while gold_line:\n",
    "        \n",
    "        gold_vcf   = genome.Vcf_line(gold_line)\n",
    "        variant_id = (gold_vcf.chromosome, gold_vcf.position, gold_vcf.refbase, gold_vcf.altbase)\n",
    "        \n",
    "        if variant_id in ampliseqSnvResults:\n",
    "            \n",
    "            TVAF     = float( gold_vcf.get_info_value('TVAF') )\n",
    "            nPASSES  = int( gold_vcf.get_info_value('nPASSES') )\n",
    "            nREJECTS = int( gold_vcf.get_info_value('nREJECTS') )\n",
    "            neuE     = int( gold_vcf.get_info_value('NeuSomaticE') )\n",
    "            \n",
    "            if 'HighConf' in gold_vcf.filters:\n",
    "                confLabel = 'HighConf'\n",
    "            elif 'MedConf' in gold_vcf.filters:\n",
    "                confLabel = 'MedConf'\n",
    "            elif 'LowConf' in gold_vcf.filters:\n",
    "                confLabel = 'LowConf'\n",
    "            elif 'Unclassified' in gold_vcf.filters:\n",
    "                confLabel = 'Unclassified'\n",
    "                \n",
    "            ampliseqSnvResults[variant_id].update({'TVAF': TVAF, 'confLabel': confLabel, 'nPASSES': nPASSES, 'neuE': neuE, 'nREJECTS': nREJECTS})\n",
    "            \n",
    "        gold_line = goldSnv.readline().rstrip()"
   ]
  },
  {
   "cell_type": "code",
   "execution_count": null,
   "metadata": {},
   "outputs": [],
   "source": []
  },
  {
   "cell_type": "code",
   "execution_count": 12,
   "metadata": {},
   "outputs": [],
   "source": [
    "validations     = []\n",
    "validationTVAFs = []\n",
    "goldTVAFs       = []\n",
    "nPASSES         = []\n",
    "neuE            = []\n",
    "nREJECTS        = []\n",
    "confLabels      = []\n",
    "\n",
    "for variant_i in ampliseqSnvResults:\n",
    "    \n",
    "    confLabels.append( ampliseqSnvResults[variant_i]['confLabel'] )\n",
    "    goldTVAFs.append( ampliseqSnvResults[variant_i]['TVAF'] )\n",
    "    nPASSES.append( ampliseqSnvResults[variant_i]['nPASSES'] )\n",
    "    neuE.append( ampliseqSnvResults[variant_i]['neuE'] )\n",
    "    nREJECTS.append( ampliseqSnvResults[variant_i]['nREJECTS'] )\n",
    "    \n",
    "    validation_i = ampliseqSnvResults[variant_i]['Validation'].split(',')\n",
    "\n",
    "    if variant_i not in validationKeeper:\n",
    "        validationKeeper[variant_i] = {}\n",
    "                \n",
    "    if 'YES' in validation_i:\n",
    "        validations.append( 'YES' )\n",
    "        validationKeeper[variant_i] = {'confLabel': ampliseqSnvResults[variant_i]['confLabel'], 'ampliSeq': 'YES'}\n",
    "    elif 'NO' in validation_i:\n",
    "        validations.append( 'NO' )\n",
    "        validationKeeper[variant_i] = {'confLabel': ampliseqSnvResults[variant_i]['confLabel'], 'ampliSeq': 'NO'}\n",
    "    else:\n",
    "        validations.append( 'UNKNOWN' )\n",
    "        validationKeeper[variant_i] = {'confLabel': ampliseqSnvResults[variant_i]['confLabel'], 'ampliSeq': 'UNKNOWN'}\n",
    "\n",
    "    try:\n",
    "        validationTVAFs.append( ampliseqSnvResults[variant_i]['tVDP'] / ampliseqSnvResults[variant_i]['tDP'] )\n",
    "    except ZeroDivisionError:\n",
    "        validationTVAFs.append( math.nan )\n",
    "        \n",
    "validationTVAFs = numpy.array(validationTVAFs)\n",
    "goldTVAFs       = numpy.array(goldTVAFs)\n",
    "nPASSES         = numpy.array(nPASSES)\n",
    "neuE            = numpy.array(neuE)\n",
    "nREJECTS        = numpy.array(nREJECTS)\n",
    "confLabels      = numpy.array(confLabels)\n",
    "validations     = numpy.array(validations)"
   ]
  },
  {
   "cell_type": "code",
   "execution_count": 13,
   "metadata": {},
   "outputs": [
    {
     "data": {
      "text/plain": [
       "((355,), (355,), (355,), (355,), (355,))"
      ]
     },
     "execution_count": 13,
     "metadata": {},
     "output_type": "execute_result"
    }
   ],
   "source": [
    "confLabels.shape, validations.shape, goldTVAFs.shape, nPASSES.shape, neuE.shape"
   ]
  },
  {
   "cell_type": "code",
   "execution_count": 14,
   "metadata": {
    "scrolled": true
   },
   "outputs": [
    {
     "data": {
      "image/png": "[encoded data removed]",
      "text/plain": [
       "<Figure size 576x432 with 1 Axes>"
      ]
     },
     "metadata": {
      "needs_background": "light"
     },
     "output_type": "display_data"
    }
   ],
   "source": [
    "plt.figure(figsize=(8,6))\n",
    "\n",
    "ms=36\n",
    "\n",
    "plt.scatter(goldTVAFs[ np.all( (confLabels=='Unclassified', validations=='YES'), axis=0) ], \\\n",
    "            validationTVAFs[ np.all( (confLabels=='Unclassified', validations=='YES'), axis=0) ], s=ms*1.3, color=unclassifiedColor, marker='v',)\n",
    "\n",
    "plt.scatter(goldTVAFs[ np.all( (confLabels=='LowConf', validations=='YES'), axis=0) ], \\\n",
    "            validationTVAFs[ np.all( (confLabels=='LowConf', validations=='YES'), axis=0) ] , s=ms*1.3, color=lowConfColor, marker='^',  )\n",
    "\n",
    "plt.scatter(goldTVAFs[ np.all( (confLabels=='MedConf', validations=='YES'), axis=0) ], \\\n",
    "            validationTVAFs[ np.all( (confLabels=='MedConf', validations=='YES'), axis=0) ], s=ms, color=medConfColor, marker='s', )\n",
    "\n",
    "plt.scatter(goldTVAFs[ np.all( (confLabels=='HighConf', validations=='YES'), axis=0) ], \\\n",
    "            validationTVAFs[ np.all( (confLabels=='HighConf', validations=='YES'), axis=0) ], s=ms, color=highConfColor, marker='o', alpha=0.7 )\n",
    "\n",
    "#plt.legend(('Unclassified', 'LowConf', 'MedConf',  'HighConf',  ), fontsize=12, loc='upper left')\n",
    "\n",
    "plt.scatter(goldTVAFs[ np.all( (confLabels=='Unclassified', validations=='NO'), axis=0) ], \\\n",
    "            validationTVAFs[ np.all( (confLabels=='Unclassified', validations=='NO'), axis=0) ], s=ms*1.3, color=unclassifiedColor, facecolors='none', marker='v')\n",
    "\n",
    "plt.scatter(goldTVAFs[ np.all( (confLabels=='LowConf', validations=='NO'), axis=0) ], \\\n",
    "            validationTVAFs[ np.all( (confLabels=='LowConf', validations=='NO'), axis=0) ], s=ms*1.3, color=lowConfColor, facecolors='none', marker='^')\n",
    "\n",
    "plt.scatter(goldTVAFs[ np.all( (confLabels=='MedConf', validations=='NO'), axis=0) ], \\\n",
    "            validationTVAFs[ np.all( (confLabels=='MedConf', validations=='NO'), axis=0) ], s=ms, color=medConfColor, facecolors='none', marker='s',)\n",
    "\n",
    "plt.scatter(goldTVAFs[ np.all( (confLabels=='HighConf', validations=='NO'), axis=0) ], \\\n",
    "            validationTVAFs[ np.all( (confLabels=='HighConf', validations=='NO'), axis=0) ], s=ms,  color=highConfColor, facecolors='none', marker='o')\n",
    "\n",
    "\n",
    "# plt.scatter(goldTVAFs[ np.all( (confLabels=='Unclassified', validations=='UNKNOWN'), axis=0) ], \\\n",
    "#             validationTVAFs[ np.all( (confLabels=='Unclassified', validations=='UNKNOWN'), axis=0) ], s=ms*1.8, color=unclassifiedColor, marker='1',)\n",
    "\n",
    "# plt.scatter(goldTVAFs[ np.all( (confLabels=='LowConf', validations=='UNKNOWN'), axis=0) ], \\\n",
    "#             validationTVAFs[ np.all( (confLabels=='LowConf', validations=='UNKNOWN'), axis=0) ], s=ms*1.8, color=lowConfColor, marker='2',)\n",
    "\n",
    "# plt.scatter(goldTVAFs[ np.all( (confLabels=='MedConf', validations=='UNKNOWN'), axis=0) ], \\\n",
    "#             validationTVAFs[ np.all( (confLabels=='MedConf', validations=='UNKNOWN'), axis=0) ], s=ms*1.8,  color=medConfColor, marker='+',)\n",
    "\n",
    "# plt.scatter(goldTVAFs[ np.all( (confLabels=='HighConf', validations=='UNKNOWN'), axis=0) ], \\\n",
    "#             validationTVAFs[ np.all( (confLabels=='HighConf', validations=='UNKNOWN'), axis=0) ], s=ms, color=highConfColor, marker='x',)\n",
    "\n",
    "\n",
    "x_range     = []\n",
    "lower_bound = []\n",
    "upper_bound = []\n",
    "\n",
    "vaf_i = 0.001\n",
    "while vaf_i < 1:\n",
    "    a, b = scipystats.binom.interval(0.95, 2000,vaf_i)\n",
    "    x_range.append(vaf_i)\n",
    "    lower_bound.append(a/2000)\n",
    "    upper_bound.append(b/2000)\n",
    "    vaf_i += 0.001\n",
    "    \n",
    "plt.plot(x_range, lower_bound, color='gray', linestyle = 'dashed')\n",
    "plt.plot(x_range, upper_bound, color='gray', linestyle = 'dashed')\n",
    "\n",
    "plt.xlabel('VAF (WGS Set)', size=12)\n",
    "plt.ylabel('VAF (AmpliSeq)', size=12)\n",
    "\n",
    "plt.savefig('../Main_Figures/Fig_2d_ampliseq_cross_validation.pdf', bbox_inches='tight')"
   ]
  },
  {
   "cell_type": "code",
   "execution_count": 15,
   "metadata": {},
   "outputs": [
    {
     "name": "stdout",
     "output_type": "stream",
     "text": [
      "0.9815461971044935\n",
      "0.6552752059618416\n",
      "0.8285266483876914\n",
      "0.847680980390323\n"
     ]
    }
   ],
   "source": [
    "print( R(goldTVAFs[ confLabels=='HighConf'],     validationTVAFs[ confLabels=='HighConf' ]))\n",
    "print( R(goldTVAFs[ confLabels=='MedConf'],      validationTVAFs[ confLabels=='MedConf' ]))\n",
    "print( R(goldTVAFs[ confLabels=='LowConf'],      validationTVAFs[ confLabels=='LowConf' ]))\n",
    "print( R(goldTVAFs[ confLabels=='Unclassified'], validationTVAFs[ confLabels=='Unclassified' ]))"
   ]
  },
  {
   "cell_type": "code",
   "execution_count": null,
   "metadata": {},
   "outputs": [],
   "source": []
  },
  {
   "cell_type": "code",
   "execution_count": null,
   "metadata": {},
   "outputs": [],
   "source": []
  },
  {
   "cell_type": "code",
   "execution_count": null,
   "metadata": {},
   "outputs": [],
   "source": []
  },
  {
   "cell_type": "code",
   "execution_count": 16,
   "metadata": {},
   "outputs": [
    {
     "data": {
      "image/png": "[encoded data removed]",
      "text/plain": [
       "<Figure size 1728x576 with 2 Axes>"
      ]
     },
     "metadata": {
      "needs_background": "light"
     },
     "output_type": "display_data"
    }
   ],
   "source": [
    "fig = plt.figure(figsize=(24,8))\n",
    "\n",
    "ax = fig.add_subplot(121, projection='3d')\n",
    "\n",
    "markersize = 60\n",
    "\n",
    "ax.scatter(nPASSES[   np.all( (confLabels=='HighConf', validations=='YES'), axis=0) ], \\\n",
    "           neuE[      np.all( (confLabels=='HighConf', validations=='YES'), axis=0) ], \\\n",
    "           goldTVAFs[ np.all( (confLabels=='HighConf', validations=='YES'), axis=0) ], \\\n",
    "           color=highConfColor, s=markersize, marker='o' )\n",
    "\n",
    "ax.scatter(nPASSES[   np.all( (confLabels=='MedConf', validations=='YES'), axis=0) ],  \\\n",
    "           neuE[      np.all( (confLabels=='MedConf', validations=='YES'), axis=0) ], \\\n",
    "           goldTVAFs[ np.all( (confLabels=='MedConf', validations=='YES'), axis=0) ], \\\n",
    "           color=medConfColor, s=markersize, marker='s' )\n",
    "\n",
    "ax.scatter(nPASSES[   np.all( (confLabels=='LowConf', validations=='YES'), axis=0) ],  \\\n",
    "           neuE[      np.all( (confLabels=='LowConf', validations=='YES'), axis=0) ], \\\n",
    "           goldTVAFs[ np.all( (confLabels=='LowConf', validations=='YES'), axis=0) ], \\\n",
    "           color=lowConfColor, s=markersize*1.3, marker='^'  )\n",
    "\n",
    "ax.scatter(nPASSES[   np.all( (confLabels=='Unclassified', validations=='YES'), axis=0) ],  \\\n",
    "           neuE[      np.all( (confLabels=='Unclassified', validations=='YES'), axis=0) ], \\\n",
    "           goldTVAFs[ np.all( (confLabels=='Unclassified', validations=='YES'), axis=0) ], \\\n",
    "           color=unclassifiedColor, s=markersize*1.3, marker='v'  )\n",
    "\n",
    "#ax.legend(('HighConf', 'MedConf', 'LowConf', 'Unclassified'))\n",
    "\n",
    "ax.scatter(nPASSES[   np.all( (confLabels=='HighConf', validations=='NO'), axis=0) ], \\\n",
    "           neuE[      np.all( (confLabels=='HighConf', validations=='NO'), axis=0) ], \\\n",
    "           goldTVAFs[ np.all( (confLabels=='HighConf', validations=='NO'), axis=0) ], \\\n",
    "           color=highConfColor, s=markersize, facecolor='white', marker='o' )\n",
    "\n",
    "\n",
    "ax.scatter(nPASSES[   np.all( (confLabels=='MedConf', validations=='NO'), axis=0) ], \\\n",
    "           neuE[      np.all( (confLabels=='MedConf', validations=='NO'), axis=0) ], \\\n",
    "           goldTVAFs[ np.all( (confLabels=='MedConf', validations=='NO'), axis=0) ], \\\n",
    "           color=medConfColor, s=markersize, facecolors='white', marker='s' )\n",
    "\n",
    "ax.scatter(nPASSES[   np.all( (confLabels=='LowConf', validations=='NO'), axis=0) ], \\\n",
    "         neuE[      np.all( (confLabels=='LowConf', validations=='NO'), axis=0) ], \\\n",
    "         goldTVAFs[ np.all( (confLabels=='LowConf', validations=='NO'), axis=0) ], \\\n",
    "         color=lowConfColor, s=markersize*1.3, facecolors='white', marker='^' )\n",
    "\n",
    "\n",
    "ax.scatter(nPASSES[  np.all( (confLabels=='Unclassified', validations=='NO'), axis=0) ], \\\n",
    "          neuE[      np.all( (confLabels=='Unclassified', validations=='NO'), axis=0) ], \\\n",
    "          goldTVAFs[ np.all( (confLabels=='Unclassified', validations=='NO'), axis=0) ], \\\n",
    "          color=unclassifiedColor, s=markersize*1.3, facecolors='white', marker='v' )\n",
    "\n",
    "\n",
    "\n",
    "# ax.scatter(nPASSES[   np.all( (confLabels=='HighConf', validations=='UNKNOWN'), axis=0) ], \\\n",
    "#            neuE[      np.all( (confLabels=='HighConf', validations=='UNKNOWN'), axis=0) ], \\\n",
    "#            goldTVAFs[ np.all( (confLabels=='HighConf', validations=='UNKNOWN'), axis=0) ], \\\n",
    "#            color=highConfColor, s=markersize, marker='x' )\n",
    "\n",
    "# ax.scatter(nPASSES[   np.all( (confLabels=='MedConf', validations=='UNKNOWN'), axis=0) ], \\\n",
    "#            neuE[      np.all( (confLabels=='MedConf', validations=='UNKNOWN'), axis=0) ], \\\n",
    "#            goldTVAFs[ np.all( (confLabels=='MedConf', validations=='UNKNOWN'), axis=0) ], \\\n",
    "#            color=medConfColor, s=markersize*1.8, marker='+' )\n",
    "\n",
    "# ax.scatter(nPASSES[   np.all( (confLabels=='LowConf', validations=='UNKNOWN'), axis=0) ], \\\n",
    "#            neuE[      np.all( (confLabels=='LowConf', validations=='UNKNOWN'), axis=0) ], \\\n",
    "#            goldTVAFs[ np.all( (confLabels=='LowConf', validations=='UNKNOWN'), axis=0) ], \\\n",
    "#            color=lowConfColor, s=markersize*1.8, marker='2' )\n",
    "\n",
    "# ax.scatter(nPASSES[   np.all( (confLabels=='Unclassified', validations=='UNKNOWN'), axis=0) ], \\\n",
    "#            neuE[      np.all( (confLabels=='Unclassified', validations=='UNKNOWN'), axis=0) ], \\\n",
    "#            goldTVAFs[ np.all( (confLabels=='Unclassified', validations=='UNKNOWN'), axis=0) ], \\\n",
    "#            color=unclassifiedColor, s=markersize*1.8, marker='1' )\n",
    "\n",
    "ax.set_xlim(0, 63)\n",
    "ax.set_ylim(0, 63)\n",
    "ax.set_zlim(0, 1)\n",
    "\n",
    "ax.set_xlabel('# of SomaticSeq PASSES')\n",
    "ax.set_ylabel('# of NeuSomatic-E PASSES')\n",
    "ax.set_zlabel('VAF')\n",
    "\n",
    "\n",
    "ax = fig.add_subplot(122)\n",
    "\n",
    "\n",
    "ax.scatter(0, 1-0.05*1, color=highConfColor,     s=markersize*2, marker='o')\n",
    "ax.scatter(0, 1-0.05*2, color=medConfColor,      s=markersize*2, marker='s')\n",
    "ax.scatter(0, 1-0.05*3, color=lowConfColor,      s=markersize*2, marker='^')\n",
    "ax.scatter(0, 1-0.05*4, color=unclassifiedColor, s=markersize*2, marker='v')\n",
    "\n",
    "ax.text(0.05, 1-0.05*1-0.01, 'HighConf, Validated', size=14)\n",
    "ax.text(0.05, 1-0.05*2-0.01, 'MedConf, Validated', size=14)\n",
    "ax.text(0.05, 1-0.05*3-0.01, 'LowConf, Validated', size=14)\n",
    "ax.text(0.05, 1-0.05*4-0.01, 'Unclassified, Validated', size=14)\n",
    "\n",
    "\n",
    "ax.scatter(0, 1-0.05*6, color=highConfColor,     facecolor='white', s=markersize*2, marker='o')\n",
    "ax.scatter(0, 1-0.05*7, color=medConfColor,      facecolor='white', s=markersize*2, marker='s')\n",
    "ax.scatter(0, 1-0.05*8, color=lowConfColor,      facecolor='white', s=markersize*2, marker='^')\n",
    "ax.scatter(0, 1-0.05*9, color=unclassifiedColor, facecolor='white', s=markersize*2, marker='v')\n",
    "\n",
    "\n",
    "ax.text(0.05, 1-0.05*6-0.01, 'HighConf, Not validated', size=14)\n",
    "ax.text(0.05, 1-0.05*7-0.01, 'MedConf, Not validated', size=14)\n",
    "ax.text(0.05, 1-0.05*8-0.01, 'LowConf, Not validated', size=14)\n",
    "ax.text(0.05, 1-0.05*9-0.01, 'Unclassified, Not validated', size=14)\n",
    "\n",
    "# ax.scatter(0, 1-0.05*11,  color=highConfColor,      s=markersize*3, marker='x')\n",
    "# ax.scatter(0, 1-0.05*12, color=medConfColor,       s=markersize*3, marker='+')\n",
    "# ax.scatter(0, 1-0.05*13, color=lowConfColor,       s=markersize*3, marker='2')\n",
    "# ax.scatter(0, 1-0.05*14, color=unclassifiedColor,  s=markersize*3, marker='1')\n",
    "\n",
    "# ax.text(0.05, 1-0.05*11-0.01, 'HighConf, uninterpretable', size=14)\n",
    "# ax.text(0.05, 1-0.05*12-0.01, 'MedConf, uninterpretable', size=14)\n",
    "# ax.text(0.05, 1-0.05*13-0.01, 'LowConf, uninterpretable', size=14)\n",
    "# ax.text(0.05, 1-0.05*14-0.01, 'Unclassified, uninterpretable', size=14)\n",
    "\n",
    "\n",
    "ax.get_xaxis().set_visible(False)\n",
    "ax.get_yaxis().set_visible(False)\n",
    "ax.set_frame_on(False)\n",
    "\n",
    "ax.set_xlim((-0.05, 1))\n",
    "ax.set_ylim((0.4, 1.1))\n",
    "\n",
    "plt.savefig('../Extended_Data_Figures/Extended_Data_Fig_01c_somaticseq_vs_neusomatic_validation.pdf', bbox_inches='tight' )"
   ]
  },
  {
   "cell_type": "code",
   "execution_count": null,
   "metadata": {},
   "outputs": [],
   "source": []
  },
  {
   "cell_type": "code",
   "execution_count": null,
   "metadata": {},
   "outputs": [],
   "source": []
  },
  {
   "cell_type": "code",
   "execution_count": null,
   "metadata": {},
   "outputs": [],
   "source": []
  },
  {
   "cell_type": "code",
   "execution_count": 17,
   "metadata": {},
   "outputs": [
    {
     "name": "stdout",
     "output_type": "stream",
     "text": [
      "251 HighConf\t(245/251) 97.6%\t(244/245) 99.6%\t97.2%\n",
      "18 MedConf\t(18/18) 100.0%\t(18/18) 100.0%\t100.0%\n",
      "51 LowConf\t(40/51) 78.4%\t(19/40) 47.5%\t37.3%\n",
      "35 Unclassified\t(22/35) 62.9%\t(4/22) 18.2%\t11.4%\n",
      "251\t(245/251) 97.6%\t(244/245) 99.6%\t(244/251) 97.2%\n",
      "18\t(18/18) 100.0%\t(18/18) 100.0%\t(18/18) 100.0%\n",
      "51\t(40/51) 78.4%\t(19/40) 47.5%\t(19/51) 37.3%\n",
      "35\t(22/35) 62.9%\t(4/22) 18.2%\t(4/35) 11.4%\n"
     ]
    }
   ],
   "source": [
    "for conf_i in 'HighConf', 'MedConf', 'LowConf', 'Unclassified':\n",
    "    \n",
    "    total_i = sum(confLabels==conf_i)\n",
    "    total_validated = sum(np.all((validations=='YES', confLabels==conf_i), axis=0))\n",
    "    total_invalidated = sum(np.all((validations=='NO', confLabels==conf_i), axis=0))\n",
    "    validate_rate = total_validated / (total_validated + total_invalidated)\n",
    "    interpretable_rate = (total_validated + total_invalidated)/total_i\n",
    "    \n",
    "    totalStats['snv'][conf_i]['total']         += total_i\n",
    "    totalStats['snv'][conf_i]['interpretable'] += (total_validated+total_invalidated)\n",
    "    totalStats['snv'][conf_i]['validated']     += total_validated\n",
    "    totalStats['snv'][conf_i]['notValidated']  += total_invalidated\n",
    "    \n",
    "    print('%g %s\\t(%i/%i) %.1f%%\\t(%i/%i) %.1f%%\\t%.1f%%' % (total_i, conf_i, total_validated+total_invalidated, total_i, 100*interpretable_rate, total_validated, total_validated + total_invalidated, 100*validate_rate, 100*interpretable_rate*validate_rate) )\n",
    "    \n",
    "\n",
    "for conf_i in 'HighConf', 'MedConf', 'LowConf', 'Unclassified':\n",
    "    \n",
    "    total_i = sum(confLabels==conf_i)\n",
    "    total_validated = sum(np.all((validations=='YES', confLabels==conf_i), axis=0))\n",
    "    total_invalidated = sum(np.all((validations=='NO', confLabels==conf_i), axis=0))\n",
    "    validate_rate = total_validated / (total_validated + total_invalidated)\n",
    "    interpretable_rate = (total_validated + total_invalidated)/total_i\n",
    "    \n",
    "    print('%g\\t(%i/%i) %.1f%%\\t(%i/%i) %.1f%%\\t(%i/%i) %.1f%%' % (total_i, total_validated+total_invalidated, total_i, 100*interpretable_rate, total_validated, total_validated + total_invalidated, 100*validate_rate , total_validated, total_i, 100*(total_validated/total_i) ))"
   ]
  },
  {
   "cell_type": "code",
   "execution_count": null,
   "metadata": {},
   "outputs": [],
   "source": []
  },
  {
   "cell_type": "code",
   "execution_count": null,
   "metadata": {},
   "outputs": [],
   "source": []
  },
  {
   "cell_type": "code",
   "execution_count": 18,
   "metadata": {},
   "outputs": [
    {
     "name": "stdout",
     "output_type": "stream",
     "text": [
      "HighConf SNV not validated:\n",
      "chr3\t71328321\tC\tT\n",
      "HighConf SNV Uninterpretable:\n",
      "chr1\t102718461\tG\tC\n",
      "chr1\t121380537\tC\tG\n",
      "chr2\t127740355\tA\tG\n",
      "chr3\t162063513\tT\tG\n",
      "chr5\t21904263\tA\tG\n",
      "chr6\t108864763\tA\tG\n"
     ]
    }
   ],
   "source": [
    "print('HighConf SNV not validated:')\n",
    "for variant_id in ampliseqSnvResults:\n",
    "    if ampliseqSnvResults[variant_id]['confLabel'] == 'HighConf' and 'NO' in ampliseqSnvResults[variant_id]['Validation'].split(','):\n",
    "        print(variant_id[0],variant_id[1],variant_id[2],variant_id[3], sep='\\t')\n",
    "        \n",
    "print('HighConf SNV Uninterpretable:')\n",
    "for variant_id in ampliseqSnvResults:\n",
    "    if ampliseqSnvResults[variant_id]['confLabel'] == 'HighConf' and 'UNKNOWN' in ampliseqSnvResults[variant_id]['Validation'].split(','):\n",
    "        print(variant_id[0],variant_id[1],variant_id[2],variant_id[3], sep='\\t')"
   ]
  },
  {
   "cell_type": "code",
   "execution_count": 19,
   "metadata": {},
   "outputs": [
    {
     "name": "stdout",
     "output_type": "stream",
     "text": [
      "MedConf SNV not validated:\n"
     ]
    }
   ],
   "source": [
    "print('MedConf SNV not validated:')\n",
    "for variant_id in ampliseqSnvResults:\n",
    "    if ampliseqSnvResults[variant_id]['confLabel'] == 'MedConf' and 'NO' in ampliseqSnvResults[variant_id]['Validation'].split(','):\n",
    "        print(variant_id[0],variant_id[1],variant_id[2],variant_id[3], sep='\\t')\n"
   ]
  },
  {
   "cell_type": "code",
   "execution_count": 20,
   "metadata": {},
   "outputs": [
    {
     "name": "stdout",
     "output_type": "stream",
     "text": [
      "Unclassified SNV potentially validated:\n",
      "chr3\t117937789\tC\tT\n",
      "chr8\t107631542\tG\tA\n",
      "chr8\t107631545\tT\tG\n",
      "chr11\t24722179\tT\tG\n"
     ]
    }
   ],
   "source": [
    "print('Unclassified SNV potentially validated:')\n",
    "for variant_id in ampliseqSnvResults:\n",
    "    if ampliseqSnvResults[variant_id]['confLabel'] == 'Unclassified' and 'YES' in ampliseqSnvResults[variant_id]['Validation'].split(','):\n",
    "        print(variant_id[0],variant_id[1],variant_id[2],variant_id[3], sep='\\t')"
   ]
  },
  {
   "cell_type": "code",
   "execution_count": 21,
   "metadata": {},
   "outputs": [
    {
     "name": "stdout",
     "output_type": "stream",
     "text": [
      "LowConf SNV potentially validated:\n",
      "chr1\t19209141\tC\tT\n",
      "chr1\t202463384\tG\tA\n",
      "chr2\t111227199\tT\tC\n",
      "chr2\t172657403\tC\tT\n",
      "chr2\t180173287\tA\tG\n",
      "chr2\t228407669\tA\tT\n",
      "chr3\t115867200\tT\tA\n",
      "chr4\t52550164\tC\tT\n",
      "chr5\t4254307\tC\tG\n",
      "chr5\t10794479\tT\tC\n",
      "chr5\t69090497\tT\tA\n",
      "chr6\t140911268\tC\tA\n",
      "chr7\t41496068\tC\tT\n",
      "chr13\t40663213\tA\tT\n",
      "chr13\t97463015\tT\tG\n",
      "chr16\t17203210\tC\tG\n",
      "chr19\t32811570\tC\tT\n",
      "chr19\t35488730\tA\tC\n",
      "chr19\t55768995\tC\tA\n"
     ]
    }
   ],
   "source": [
    "print('LowConf SNV potentially validated:')\n",
    "for variant_id in ampliseqSnvResults:\n",
    "    if ampliseqSnvResults[variant_id]['confLabel'] == 'LowConf' and 'YES' in ampliseqSnvResults[variant_id]['Validation'].split(','):\n",
    "        print(variant_id[0],variant_id[1],variant_id[2],variant_id[3], sep='\\t')"
   ]
  },
  {
   "cell_type": "code",
   "execution_count": 22,
   "metadata": {},
   "outputs": [
    {
     "name": "stdout",
     "output_type": "stream",
     "text": [
      "NonCallable Positions = 0\n"
     ]
    }
   ],
   "source": [
    "ampliseqIndelResults = {}\n",
    "n_NonCallable = 0\n",
    "with open(ampliseq_indel_validation) as ampliseqIndel:\n",
    "    \n",
    "    ampliseq_line = ampliseqIndel.readline().rstrip()\n",
    "    \n",
    "    ampliseq_header     = ampliseq_line.split('\\t')\n",
    "    i_ampliseq_chrom    = ampliseq_header.index('CHROM')\n",
    "    i_ampliseq_pos      = ampliseq_header.index('POS')\n",
    "    i_ampliseq_ref      = ampliseq_header.index('REF')\n",
    "    i_ampliseq_alt      = ampliseq_header.index('ALT')\n",
    "    i_ampliseq_tVDP     = ampliseq_header.index('TumorVDP')\n",
    "    i_ampliseq_tDP      = ampliseq_header.index('TumorDP')\n",
    "    i_ampliseq_nVDP     = ampliseq_header.index('NormalVDP')\n",
    "    i_ampliseq_nDP      = ampliseq_header.index('NormalDP')\n",
    "    i_ampliseq_validate = ampliseq_header.index('VALIDATED')\n",
    "    \n",
    "    ampliseq_line = ampliseqIndel.readline().rstrip()\n",
    "    while ampliseq_line:\n",
    "        \n",
    "        ampliseq_item = ampliseq_line.split('\\t')\n",
    "        \n",
    "        variant_id = (ampliseq_item[i_ampliseq_chrom], int(ampliseq_item[i_ampliseq_pos]), ampliseq_item[i_ampliseq_ref], ampliseq_item[i_ampliseq_alt])\n",
    "        \n",
    "        if callableLoci.inRegion(variant_id[0], variant_id[1]):\n",
    "            tVDP       = int( ampliseq_item[i_ampliseq_tVDP] )\n",
    "            tDP        = int( ampliseq_item[i_ampliseq_tDP] )\n",
    "            nVDP       = int( ampliseq_item[i_ampliseq_nVDP] )\n",
    "            nDP        = int( ampliseq_item[i_ampliseq_nDP] )\n",
    "            Validation = ampliseq_item[i_ampliseq_validate]\n",
    "\n",
    "            ampliseqIndelResults[variant_id] = {'tVDP': tVDP, 'tDP': tDP, 'nVDP': nVDP, 'nDP': nDP, 'Validation': Validation}\n",
    "        else:\n",
    "            n_NonCallable += 1\n",
    "        \n",
    "        ampliseq_line = ampliseqIndel.readline().rstrip()\n",
    "        \n",
    "print('NonCallable Positions =', n_NonCallable)"
   ]
  },
  {
   "cell_type": "code",
   "execution_count": 23,
   "metadata": {},
   "outputs": [],
   "source": [
    "with genome.open_textfile(truth_indel) as goldIndel:\n",
    "    \n",
    "    gold_line = goldIndel.readline().rstrip()\n",
    "    \n",
    "    while gold_line.startswith('#'):\n",
    "        gold_line = goldIndel.readline().rstrip()\n",
    "    \n",
    "    while gold_line:\n",
    "        \n",
    "        gold_vcf   = genome.Vcf_line(gold_line)\n",
    "        variant_id = (gold_vcf.chromosome, gold_vcf.position, gold_vcf.refbase, gold_vcf.altbase)\n",
    "        \n",
    "        if variant_id in ampliseqIndelResults:\n",
    "            \n",
    "            TVAF     = float( gold_vcf.get_info_value('TVAF') )\n",
    "            nPASSES  = int( gold_vcf.get_info_value('nPASSES') )\n",
    "            nREJECTS = int( gold_vcf.get_info_value('nREJECTS') )\n",
    "            \n",
    "            if 'HighConf' in gold_vcf.filters:\n",
    "                confLabel = 'HighConf'\n",
    "            elif 'MedConf' in gold_vcf.filters:\n",
    "                confLabel = 'MedConf'\n",
    "            elif 'LowConf' in gold_vcf.filters:\n",
    "                confLabel = 'LowConf'\n",
    "            elif 'Unclassified' in gold_vcf.filters:\n",
    "                confLabel = 'Unclassified'\n",
    "                \n",
    "            ampliseqIndelResults[variant_id].update({'TVAF': TVAF, 'confLabel': confLabel, 'nPASSES': nPASSES, 'nREJECTS': nREJECTS})\n",
    "        \n",
    "        gold_line = goldIndel.readline().rstrip()"
   ]
  },
  {
   "cell_type": "code",
   "execution_count": 24,
   "metadata": {},
   "outputs": [],
   "source": [
    "validations     = []\n",
    "validationTVAFs = []\n",
    "goldTVAFs       = []\n",
    "nPASSES         = []\n",
    "nREJECTS        = []\n",
    "confLabels      = []\n",
    "for variant_i in ampliseqIndelResults:\n",
    "    \n",
    "    confLabels.append( ampliseqIndelResults[variant_i]['confLabel'] )\n",
    "    goldTVAFs.append( ampliseqIndelResults[variant_i]['TVAF'] )\n",
    "    nPASSES.append( ampliseqIndelResults[variant_i]['nPASSES'] )\n",
    "    nREJECTS.append( ampliseqIndelResults[variant_i]['nREJECTS'] )\n",
    "    \n",
    "    validation_i = ampliseqIndelResults[variant_i]['Validation'].split(',')\n",
    "\n",
    "    if variant_i not in validationKeeper:\n",
    "        validationKeeper[variant_i] = {}\n",
    "                \n",
    "    if 'YES' in validation_i:\n",
    "        validations.append( 'YES' )\n",
    "        validationKeeper[variant_i] = {'confLabel': ampliseqIndelResults[variant_i]['confLabel'], 'ampliSeq': 'YES'}\n",
    "    elif 'NO' in validation_i:\n",
    "        validations.append( 'NO' )\n",
    "        validationKeeper[variant_i] = {'confLabel': ampliseqIndelResults[variant_i]['confLabel'], 'ampliSeq': 'NO'}\n",
    "    elif 'UNKNOWN' in validation_i:\n",
    "        validations.append( 'UNKNOWN' )\n",
    "        validationKeeper[variant_i] = {'confLabel': ampliseqIndelResults[variant_i]['confLabel'], 'ampliSeq': 'UNKNOWN'}\n",
    "    \n",
    "    try:\n",
    "        validationTVAFs.append( ampliseqIndelResults[variant_i]['tVDP'] / ampliseqIndelResults[variant_i]['tDP'] )\n",
    "    except ZeroDivisionError:\n",
    "        validationTVAFs.append( math.nan )\n",
    "        \n",
    "validationTVAFs = numpy.array(validationTVAFs)\n",
    "goldTVAFs       = numpy.array(goldTVAFs)\n",
    "nPASSES         = numpy.array(nPASSES)\n",
    "nREJECTS        = numpy.array(nREJECTS)\n",
    "confLabels      = numpy.array(confLabels)\n",
    "validations     = numpy.array(validations)"
   ]
  },
  {
   "cell_type": "code",
   "execution_count": null,
   "metadata": {},
   "outputs": [],
   "source": []
  },
  {
   "cell_type": "code",
   "execution_count": 25,
   "metadata": {
    "scrolled": true
   },
   "outputs": [
    {
     "data": {
      "image/png": "[encoded data removed]",
      "text/plain": [
       "<Figure size 576x432 with 1 Axes>"
      ]
     },
     "metadata": {
      "needs_background": "light"
     },
     "output_type": "display_data"
    }
   ],
   "source": [
    "plt.figure(figsize=(8,6))\n",
    "\n",
    "ms=36\n",
    "\n",
    "plt.scatter(goldTVAFs[ np.all( (confLabels=='Unclassified', validations=='YES'), axis=0) ], \\\n",
    "            validationTVAFs[ np.all( (confLabels=='Unclassified', validations=='YES'), axis=0) ], s=ms*1.3, color=unclassifiedColor, marker='v',)\n",
    "\n",
    "plt.scatter(goldTVAFs[ np.all( (confLabels=='LowConf', validations=='YES'), axis=0) ], \\\n",
    "            validationTVAFs[ np.all( (confLabels=='LowConf', validations=='YES'), axis=0) ] , s=ms*1.3, color=lowConfColor, marker='^',  )\n",
    "\n",
    "plt.scatter(goldTVAFs[ np.all( (confLabels=='MedConf', validations=='YES'), axis=0) ], \\\n",
    "            validationTVAFs[ np.all( (confLabels=='MedConf', validations=='YES'), axis=0) ], s=ms, color=medConfColor, marker='s', )\n",
    "\n",
    "plt.scatter(goldTVAFs[ np.all( (confLabels=='HighConf', validations=='YES'), axis=0) ], \\\n",
    "            validationTVAFs[ np.all( (confLabels=='HighConf', validations=='YES'), axis=0) ], s=ms, color=highConfColor, marker='o', )\n",
    "\n",
    "#plt.legend(('Unclassified', 'LowConf', 'MedConf',  'HighConf',  ), fontsize=12, loc='upper left')\n",
    "\n",
    "plt.scatter(goldTVAFs[ np.all( (confLabels=='Unclassified', validations=='NO'), axis=0) ], \\\n",
    "            validationTVAFs[ np.all( (confLabels=='Unclassified', validations=='NO'), axis=0) ], s=ms*1.3, color=unclassifiedColor, facecolors='none', marker='v')\n",
    "\n",
    "plt.scatter(goldTVAFs[ np.all( (confLabels=='LowConf', validations=='NO'), axis=0) ], \\\n",
    "            validationTVAFs[ np.all( (confLabels=='LowConf', validations=='NO'), axis=0) ], s=ms*1.3, color=lowConfColor, facecolors='none', marker='^')\n",
    "\n",
    "plt.scatter(goldTVAFs[ np.all( (confLabels=='MedConf', validations=='NO'), axis=0) ], \\\n",
    "            validationTVAFs[ np.all( (confLabels=='MedConf', validations=='NO'), axis=0) ], s=ms, color=medConfColor, facecolors='none', marker='s',)\n",
    "\n",
    "plt.scatter(goldTVAFs[ np.all( (confLabels=='HighConf', validations=='NO'), axis=0) ], \\\n",
    "            validationTVAFs[ np.all( (confLabels=='HighConf', validations=='NO'), axis=0) ], s=ms,  color=highConfColor, facecolors='none', marker='o')\n",
    "\n",
    "\n",
    "# plt.scatter(goldTVAFs[ np.all( (confLabels=='Unclassified', validations=='UNKNOWN'), axis=0) ], \\\n",
    "#             validationTVAFs[ np.all( (confLabels=='Unclassified', validations=='UNKNOWN'), axis=0) ], s=ms*1.8, color=unclassifiedColor, marker='1',)\n",
    "\n",
    "# plt.scatter(goldTVAFs[ np.all( (confLabels=='LowConf', validations=='UNKNOWN'), axis=0) ], \\\n",
    "#             validationTVAFs[ np.all( (confLabels=='LowConf', validations=='UNKNOWN'), axis=0) ], s=ms*1.8, color=lowConfColor, marker='2',)\n",
    "\n",
    "# plt.scatter(goldTVAFs[ np.all( (confLabels=='MedConf', validations=='UNKNOWN'), axis=0) ], \\\n",
    "#             validationTVAFs[ np.all( (confLabels=='MedConf', validations=='UNKNOWN'), axis=0) ], s=ms*1.8,  color=medConfColor, marker='+',)\n",
    "\n",
    "# plt.scatter(goldTVAFs[ np.all( (confLabels=='HighConf', validations=='UNKNOWN'), axis=0) ], \\\n",
    "#             validationTVAFs[ np.all( (confLabels=='HighConf', validations=='UNKNOWN'), axis=0) ], s=ms, color=highConfColor, marker='x',)\n",
    "\n",
    "\n",
    "x_range     = []\n",
    "lower_bound = []\n",
    "upper_bound = []\n",
    "\n",
    "vaf_i = 0.001\n",
    "while vaf_i < 1:\n",
    "    a, b = scipystats.binom.interval(0.95, 2000,vaf_i)\n",
    "    x_range.append(vaf_i)\n",
    "    lower_bound.append(a/2000)\n",
    "    upper_bound.append(b/2000)\n",
    "    vaf_i += 0.001\n",
    "    \n",
    "plt.plot(x_range, lower_bound, color='gray', linestyle = 'dashed')\n",
    "plt.plot(x_range, upper_bound, color='gray', linestyle = 'dashed')\n",
    "\n",
    "plt.xlabel('VAF (WGS Set)', size=12)\n",
    "plt.ylabel('VAF (AmpliSeq)', size=12)\n",
    "\n",
    "plt.savefig('../Extended_Data_Figures/Extended_Data_Fig_03a_ampliseq_indel_cross_validation.pdf', bbox_inches='tight')"
   ]
  },
  {
   "cell_type": "code",
   "execution_count": 26,
   "metadata": {},
   "outputs": [
    {
     "name": "stdout",
     "output_type": "stream",
     "text": [
      "0.9892277353554156\n"
     ]
    }
   ],
   "source": [
    "print( R(goldTVAFs[ confLabels=='HighConf'],  validationTVAFs[ confLabels=='HighConf' ]) )"
   ]
  },
  {
   "cell_type": "code",
   "execution_count": 27,
   "metadata": {},
   "outputs": [
    {
     "data": {
      "text/plain": [
       "(2, 2)"
      ]
     },
     "execution_count": 27,
     "metadata": {},
     "output_type": "execute_result"
    }
   ],
   "source": [
    "len(goldTVAFs[ confLabels=='Unclassified']), len(validationTVAFs[ confLabels=='Unclassified']), "
   ]
  },
  {
   "cell_type": "code",
   "execution_count": 28,
   "metadata": {},
   "outputs": [
    {
     "name": "stdout",
     "output_type": "stream",
     "text": [
      "17 HighConf\t(17/17) 100.0%\t(17/17) 100.0%\t100.0%\n",
      "1 MedConf\t(1/1) 100.0%\t(1/1) 100.0%\t100.0%\n",
      "1 LowConf\t(1/1) 100.0%\t(0/1) 0.0%\t0.0%\n",
      "2 Unclassified\t(1/2) 50.0%\t(0/1) 0.0%\t0.0%\n",
      "17\t(17/17) 100.0%\t(17/17) 100.0%\t(17/17) 100.0%\n",
      "1\t(1/1) 100.0%\t(1/1) 100.0%\t(1/1) 100.0%\n",
      "1\t(1/1) 100.0%\t(0/1) 0.0%\t(0/1) 0.0%\n",
      "2\t(1/2) 50.0%\t(0/1) 0.0%\t(0/2) 0.0%\n"
     ]
    }
   ],
   "source": [
    "for conf_i in 'HighConf', 'MedConf', 'LowConf', 'Unclassified':\n",
    "    \n",
    "    total_i = sum(confLabels==conf_i)\n",
    "    total_validated = sum(np.all((validations=='YES', confLabels==conf_i), axis=0))\n",
    "    total_invalidated = sum(np.all((validations=='NO', confLabels==conf_i), axis=0))\n",
    "    validate_rate = total_validated / (total_validated + total_invalidated)\n",
    "    interpretable_rate = (total_validated + total_invalidated)/total_i\n",
    "    \n",
    "    totalStats['indel'][conf_i]['total']         += total_i\n",
    "    totalStats['indel'][conf_i]['interpretable'] += (total_validated+total_invalidated)\n",
    "    totalStats['indel'][conf_i]['validated']     += total_validated\n",
    "    totalStats['indel'][conf_i]['notValidated']  += total_invalidated\n",
    "\n",
    "    print('%g %s\\t(%i/%i) %.1f%%\\t(%i/%i) %.1f%%\\t%.1f%%' % (total_i, conf_i, total_validated+total_invalidated, total_i, 100*interpretable_rate, total_validated, total_validated + total_invalidated, 100*validate_rate, 100*interpretable_rate*validate_rate) )\n",
    "    \n",
    "for conf_i in 'HighConf', 'MedConf', 'LowConf', 'Unclassified':\n",
    "    \n",
    "    total_i = sum(confLabels==conf_i)\n",
    "    total_validated = sum(np.all((validations=='YES', confLabels==conf_i), axis=0))\n",
    "    total_invalidated = sum(np.all((validations=='NO', confLabels==conf_i), axis=0))\n",
    "    validate_rate = total_validated / (total_validated + total_invalidated)\n",
    "    interpretable_rate = (total_validated + total_invalidated)/total_i\n",
    "    \n",
    "    print('%g\\t(%i/%i) %.1f%%\\t(%i/%i) %.1f%%\\t(%i/%i) %.1f%%' % (total_i, total_validated+total_invalidated, total_i, 100*interpretable_rate, total_validated, total_validated + total_invalidated, 100*validate_rate, total_validated, total_i, 100*(total_validated/total_i)) )"
   ]
  },
  {
   "cell_type": "code",
   "execution_count": null,
   "metadata": {},
   "outputs": [],
   "source": []
  },
  {
   "cell_type": "code",
   "execution_count": 29,
   "metadata": {},
   "outputs": [
    {
     "name": "stdout",
     "output_type": "stream",
     "text": [
      "HighConf INDEL not validated:\n",
      "HighConf INDEL Uninterpretable:\n"
     ]
    }
   ],
   "source": [
    "print('HighConf INDEL not validated:')\n",
    "for variant_id in ampliseqIndelResults:\n",
    "    if ampliseqIndelResults[variant_id]['confLabel'] == 'HighConf' and 'NO' in ampliseqIndelResults[variant_id]['Validation'].split(','):\n",
    "        print(variant_id[0],variant_id[1],variant_id[2],variant_id[3], sep='\\t')\n",
    "        \n",
    "print('HighConf INDEL Uninterpretable:')\n",
    "for variant_id in ampliseqIndelResults:\n",
    "    if ampliseqIndelResults[variant_id]['confLabel'] == 'HighConf' and 'UNKNOWN' in ampliseqIndelResults[variant_id]['Validation'].split(','):\n",
    "        print(variant_id[0],variant_id[1],variant_id[2],variant_id[3], sep='\\t')"
   ]
  },
  {
   "cell_type": "code",
   "execution_count": 30,
   "metadata": {},
   "outputs": [
    {
     "name": "stdout",
     "output_type": "stream",
     "text": [
      "Unclassified INDEL potentially validated:\n"
     ]
    }
   ],
   "source": [
    "print('Unclassified INDEL potentially validated:')\n",
    "for variant_id in ampliseqIndelResults:\n",
    "    if ampliseqIndelResults[variant_id]['confLabel'] == 'Unclassified' and 'YES' in ampliseqIndelResults[variant_id]['Validation'].split(','):\n",
    "        print(variant_id)"
   ]
  },
  {
   "cell_type": "code",
   "execution_count": null,
   "metadata": {},
   "outputs": [],
   "source": []
  },
  {
   "cell_type": "code",
   "execution_count": 31,
   "metadata": {},
   "outputs": [],
   "source": [
    "ion_snv_validation   = '/home/lethalfang/Documents/Bina/SMWG/IonTorrentValidation/v1.1.IonTorrentInfoForSNV.tsv'\n",
    "ion_indel_validation = '/home/lethalfang/Documents/Bina/SMWG/IonTorrentValidation/v1.1.IonTorrentInfoForINDEL.tsv'"
   ]
  },
  {
   "cell_type": "code",
   "execution_count": 32,
   "metadata": {},
   "outputs": [],
   "source": [
    "ionSnvResults = {}\n",
    "with open(ion_snv_validation) as snv:\n",
    "    \n",
    "    line_i = snv.readline().rstrip()\n",
    "    header = line_i.split('\\t')\n",
    "    \n",
    "    i_ID             = header.index('ID')\n",
    "    i_normalDP       = header.index('NORMAL_bam_DP')\n",
    "    i_normalForVarDP = header.index('NORMAL_bam_ALT_FOR')\n",
    "    i_normalRevVarDP = header.index('NORMAL_bam_ALT_REV')\n",
    "    i_tumorDP        = header.index('TUMOR_bam_DP')\n",
    "    i_tumorForVarDP  = header.index('TUMOR_bam_ALT_FOR')\n",
    "    i_tumorRevVarDP  = header.index('TUMOR_bam_ALT_REV')\n",
    "    \n",
    "    line_i = snv.readline().rstrip()\n",
    "    \n",
    "    while line_i:\n",
    "        \n",
    "        item       = line_i.split('\\t')\n",
    "        variant_id = ( item[0], int(item[1]), item[3], item[4] )\n",
    "        \n",
    "        if callableLoci.inRegion(variant_id[0], variant_id[1]):\n",
    "            t_dp  = int(item[i_tumorDP])\n",
    "            t_vdp = int(item[i_tumorForVarDP]) + int(item[i_tumorRevVarDP])\n",
    "            n_dp  = int(item[i_normalDP])\n",
    "            n_vdp = int(item[i_normalForVarDP]) + int(item[i_normalRevVarDP])\n",
    "        \n",
    "            goldvaf = float( re.search(r'TVAF=(1|0\\.[0-9]+)', item[i_ID]).groups()[0] )\n",
    "        \n",
    "            try:\n",
    "                ionTVAF = t_vdp / t_dp\n",
    "            except ZeroDivisionError:\n",
    "                ionTVAF = math.nan\n",
    "\n",
    "            ionSnvResults[variant_id] = {'tDP': t_dp, 'tVDP': t_vdp, 'nDP': n_dp, 'nVDP': n_vdp, 'ionTVAF': ionTVAF}\n",
    "        \n",
    "            # Simple rule to decide if validated or not:\n",
    "            if t_dp >= 8 and n_dp >= 10:\n",
    "            \n",
    "                # VALIDATED. If tumor DP low, at least 2 variants. If tumor DP>50, VAF at least 4% (need more than 2).\n",
    "                if (t_vdp >=2) and (t_vdp/t_dp > 10*n_vdp/n_dp):\n",
    "                \n",
    "                    ionSnvResults[variant_id].update({ 'Validation': 'YES' })\n",
    "                        \n",
    "                # INVALIDATED (Germline Signal)\n",
    "                elif n_dp >=20 and (n_vdp > 0.1*n_dp):\n",
    "                \n",
    "                    ionSnvResults[variant_id].update({ 'Validation': 'NO' })\n",
    "\n",
    "                # INVALIDATED (NO variant signal): Expect variant DP >= 5, but gets zero.\n",
    "                elif t_vdp == 0 and t_dp*goldvaf >= 5:\n",
    "\n",
    "                    ionSnvResults[variant_id].update({ 'Validation': 'NO' })\n",
    "\n",
    "            # UNKNOWN\n",
    "                else:\n",
    "                    ionSnvResults[variant_id].update({ 'Validation': 'UNKNOWN' })\n",
    "\n",
    "            # UNKNOWN  \n",
    "            else:\n",
    "                ionSnvResults[variant_id].update({ 'Validation': 'UNKNOWN' })\n",
    "        \n",
    "        line_i = snv.readline().rstrip()"
   ]
  },
  {
   "cell_type": "code",
   "execution_count": null,
   "metadata": {},
   "outputs": [],
   "source": []
  },
  {
   "cell_type": "code",
   "execution_count": 33,
   "metadata": {},
   "outputs": [],
   "source": [
    "with genome.open_textfile(truth_snv) as goldSnv:\n",
    "    \n",
    "    gold_line = goldSnv.readline().rstrip()\n",
    "    \n",
    "    while gold_line.startswith('#'):\n",
    "        gold_line = goldSnv.readline().rstrip()\n",
    "        \n",
    "    while gold_line:\n",
    "        \n",
    "        gold_vcf   = genome.Vcf_line(gold_line)\n",
    "        variant_id = (gold_vcf.chromosome, gold_vcf.position, gold_vcf.refbase, gold_vcf.altbase)\n",
    "        \n",
    "        if variant_id in ionSnvResults:\n",
    "            \n",
    "            TVAF     = float( gold_vcf.get_info_value('TVAF') )\n",
    "            nPASSES  = int( gold_vcf.get_info_value('nPASSES') )\n",
    "            try:\n",
    "                nREJECTS = int( gold_vcf.get_info_value('nREJECTS') )\n",
    "            except ValueError:\n",
    "                nREJECTS = math.nan\n",
    "            \n",
    "            if 'HighConf' in gold_vcf.filters:\n",
    "                confLabel = 'HighConf'\n",
    "            elif 'MedConf' in gold_vcf.filters:\n",
    "                confLabel = 'MedConf'\n",
    "            elif 'LowConf' in gold_vcf.filters:\n",
    "                confLabel = 'LowConf'\n",
    "            elif 'Unclassified' in gold_vcf.filters:\n",
    "                confLabel = 'Unclassified'\n",
    "                \n",
    "            ionSnvResults[variant_id].update({'TVAF': TVAF, 'confLabel': confLabel, 'nPASSES': nPASSES, 'nREJECTS': nREJECTS})\n",
    "        \n",
    "        gold_line = goldSnv.readline().rstrip()"
   ]
  },
  {
   "cell_type": "code",
   "execution_count": 34,
   "metadata": {},
   "outputs": [],
   "source": [
    "validations     = []\n",
    "validationTVAFs = []\n",
    "goldTVAFs       = []\n",
    "nPASSES         = []\n",
    "nREJECTS        = []\n",
    "confLabels      = []\n",
    "for variant_i in ionSnvResults:\n",
    "    \n",
    "    try:\n",
    "        confLabels.append( ionSnvResults[variant_i]['confLabel'] )\n",
    "    except KeyError:\n",
    "        print(variant_i)\n",
    "    goldTVAFs.append( ionSnvResults[variant_i]['TVAF'] )\n",
    "    nPASSES.append( ionSnvResults[variant_i]['nPASSES'] )\n",
    "    nREJECTS.append( ionSnvResults[variant_i]['nREJECTS'] )\n",
    "    \n",
    "    validation_i = ionSnvResults[variant_i]['Validation'].split(',')\n",
    "    \n",
    "    if variant_i not in validationKeeper:\n",
    "        validationKeeper[variant_i] = {}\n",
    "                \n",
    "    if 'YES' in validation_i:\n",
    "        validations.append( 'YES' )\n",
    "        validationKeeper[variant_i] = {'confLabel': ionSnvResults[variant_i]['confLabel'], 'ionTorrent': 'YES'}\n",
    "    elif 'NO' in validation_i:\n",
    "        validations.append( 'NO' )\n",
    "        validationKeeper[variant_i] = {'confLabel': ionSnvResults[variant_i]['confLabel'], 'ionTorrent': 'NO'}\n",
    "    elif 'UNKNOWN' in validation_i:\n",
    "        validations.append( 'UNKNOWN' )\n",
    "        validationKeeper[variant_i] = {'confLabel': ionSnvResults[variant_i]['confLabel'], 'ionTorrent': 'UNKNOWN'}\n",
    "    \n",
    "    try:\n",
    "        validationTVAFs.append( ionSnvResults[variant_i]['tVDP'] / ionSnvResults[variant_i]['tDP'] )\n",
    "    except ZeroDivisionError:\n",
    "        validationTVAFs.append( math.nan )\n",
    "        \n",
    "validationTVAFs = numpy.array(validationTVAFs)\n",
    "goldTVAFs       = numpy.array(goldTVAFs)\n",
    "nPASSES         = numpy.array(nPASSES)\n",
    "nREJECTS        = numpy.array(nREJECTS)\n",
    "confLabels      = numpy.array(confLabels)\n",
    "validations     = numpy.array(validations)"
   ]
  },
  {
   "cell_type": "code",
   "execution_count": null,
   "metadata": {},
   "outputs": [],
   "source": []
  },
  {
   "cell_type": "code",
   "execution_count": 35,
   "metadata": {},
   "outputs": [
    {
     "data": {
      "image/png": "[encoded data removed]",
      "text/plain": [
       "<Figure size 576x432 with 1 Axes>"
      ]
     },
     "metadata": {
      "needs_background": "light"
     },
     "output_type": "display_data"
    }
   ],
   "source": [
    "plt.figure(figsize=(8,6))\n",
    "\n",
    "ms=36\n",
    "\n",
    "# plt.scatter(0,1, s=ms*1.3, color=unclassifiedColor, marker='v' , facecolors='none')\n",
    "# plt.scatter(0,1, s=ms*1.3, color=lowConfColor,      marker='^' , facecolors='none')\n",
    "# plt.scatter(0,1, s=ms, color=medConfColor,      marker='s' , facecolors='none')\n",
    "# plt.scatter(0,1, s=ms, color=highConfColor,     marker='o' , facecolors='none')\n",
    "# plt.scatter(0,1, s=ms, color='white')\n",
    "\n",
    "# plt.legend(('Unclassified', 'LowConf', 'MedConf',  'HighConf',  ), fontsize=12, loc='upper left')\n",
    "\n",
    "\n",
    "plt.scatter(goldTVAFs[ np.all( (confLabels=='Unclassified', validations=='YES'), axis=0) ], \\\n",
    "            validationTVAFs[ np.all( (confLabels=='Unclassified', validations=='YES'), axis=0) ], s=ms*1.3, color=unclassifiedColor, marker='v', alpha=0.5)\n",
    "\n",
    "plt.scatter(goldTVAFs[ np.all( (confLabels=='LowConf', validations=='YES'), axis=0) ], \\\n",
    "            validationTVAFs[ np.all( (confLabels=='LowConf', validations=='YES'), axis=0) ] , s=ms*1.3, color=lowConfColor, marker='^',  )\n",
    "\n",
    "plt.scatter(goldTVAFs[ np.all( (confLabels=='MedConf', validations=='YES'), axis=0) ], \\\n",
    "            validationTVAFs[ np.all( (confLabels=='MedConf', validations=='YES'), axis=0) ], s=ms, color=medConfColor, marker='s', )\n",
    "\n",
    "plt.scatter(goldTVAFs[ np.all( (confLabels=='HighConf', validations=='YES'), axis=0) ], \\\n",
    "            validationTVAFs[ np.all( (confLabels=='HighConf', validations=='YES'), axis=0) ], s=ms, color=highConfColor, marker='o', alpha=0.5)\n",
    "\n",
    "\n",
    "plt.scatter(goldTVAFs[ np.all( (confLabels=='Unclassified', validations=='NO'), axis=0) ], \\\n",
    "            validationTVAFs[ np.all( (confLabels=='Unclassified', validations=='NO'), axis=0) ], s=ms*1.3, color=unclassifiedColor, facecolors='none', marker='v')\n",
    "\n",
    "plt.scatter(goldTVAFs[ np.all( (confLabels=='LowConf', validations=='NO'), axis=0) ], \\\n",
    "            validationTVAFs[ np.all( (confLabels=='LowConf', validations=='NO'), axis=0) ], s=ms*1.3, color=lowConfColor, facecolors='none', marker='^')\n",
    "\n",
    "plt.scatter(goldTVAFs[ np.all( (confLabels=='MedConf', validations=='NO'), axis=0) ], \\\n",
    "            validationTVAFs[ np.all( (confLabels=='MedConf', validations=='NO'), axis=0) ], s=ms, color=medConfColor, facecolors='none', marker='s',)\n",
    "\n",
    "plt.scatter(goldTVAFs[ np.all( (confLabels=='HighConf', validations=='NO'), axis=0) ], \\\n",
    "            validationTVAFs[ np.all( (confLabels=='HighConf', validations=='NO'), axis=0) ], s=ms,  color=highConfColor, facecolors='none', marker='o')\n",
    "\n",
    "\n",
    "# plt.scatter(goldTVAFs[ np.all( (confLabels=='HighConf', validations=='UNKNOWN'), axis=0) ], \\\n",
    "#             validationTVAFs[ np.all( (confLabels=='HighConf', validations=='UNKNOWN'), axis=0) ], s=ms, color=highConfColor, marker='x',)\n",
    "\n",
    "# plt.scatter(goldTVAFs[ np.all( (confLabels=='MedConf', validations=='UNKNOWN'), axis=0) ], \\\n",
    "#             validationTVAFs[ np.all( (confLabels=='MedConf', validations=='UNKNOWN'), axis=0) ], s=ms*1.8,  color=medConfColor, marker='+',)\n",
    "\n",
    "# plt.scatter(goldTVAFs[ np.all( (confLabels=='LowConf', validations=='UNKNOWN'), axis=0) ], \\\n",
    "#             validationTVAFs[ np.all( (confLabels=='LowConf', validations=='UNKNOWN'), axis=0) ], s=ms*1.8, color=lowConfColor, marker='2',)\n",
    "\n",
    "# plt.scatter(goldTVAFs[ np.all( (confLabels=='Unclassified', validations=='UNKNOWN'), axis=0) ], \\\n",
    "#             validationTVAFs[ np.all( (confLabels=='Unclassified', validations=='UNKNOWN'), axis=0) ], s=ms*1.8, color=unclassifiedColor, marker='1',)\n",
    "\n",
    "\n",
    "\n",
    "x_range     = []\n",
    "lower_bound = []\n",
    "upper_bound = []\n",
    "\n",
    "vaf_i = 0.001\n",
    "while vaf_i < 1:\n",
    "    a, b = scipystats.binom.interval(0.95, 34,vaf_i)\n",
    "    x_range.append(vaf_i)\n",
    "    lower_bound.append(a/34)\n",
    "    upper_bound.append(b/34)\n",
    "    vaf_i += 0.001\n",
    "    \n",
    "plt.plot(x_range, lower_bound, color='gray', linestyle = 'dashed')\n",
    "plt.plot(x_range, upper_bound, color='gray', linestyle = 'dashed')\n",
    "\n",
    "plt.xlabel('VAF (WGS Set)', size=12)\n",
    "plt.ylabel('VAF (Ion)', size=12)\n",
    "\n",
    "plt.savefig('../Main_Figures/Fig_2e_ion_cross_validation.pdf', bbox_inches='tight')"
   ]
  },
  {
   "cell_type": "code",
   "execution_count": 36,
   "metadata": {},
   "outputs": [
    {
     "name": "stdout",
     "output_type": "stream",
     "text": [
      "0.9299686398715011\n",
      "0.923020323170705\n",
      "0.2705409802086581\n",
      "0.8580828669205971\n"
     ]
    }
   ],
   "source": [
    "print( R(goldTVAFs[ confLabels=='HighConf'],  validationTVAFs[ confLabels=='HighConf' ]) )\n",
    "print( R(goldTVAFs[ confLabels=='MedConf'],  validationTVAFs[ confLabels=='MedConf' ]) )\n",
    "print( R(goldTVAFs[ confLabels=='LowConf'],  validationTVAFs[ confLabels=='LowConf' ]) )\n",
    "print( R(goldTVAFs[ confLabels=='Unclassified'],  validationTVAFs[ confLabels=='Unclassified' ]) )"
   ]
  },
  {
   "cell_type": "code",
   "execution_count": null,
   "metadata": {},
   "outputs": [],
   "source": []
  },
  {
   "cell_type": "code",
   "execution_count": 37,
   "metadata": {},
   "outputs": [
    {
     "name": "stdout",
     "output_type": "stream",
     "text": [
      "713 HighConf\t(636/713) 89.2%\t(630/636) 99.1%\t88.4%\n",
      "50 MedConf\t(27/50) 54.0%\t(27/27) 100.0%\t54.0%\n",
      "216 LowConf\t(38/216) 17.6%\t(33/38) 86.8%\t15.3%\n",
      "519 Unclassified\t(110/519) 21.2%\t(17/110) 15.5%\t3.3%\n",
      "713\t(636/713) 89.2%\t(630/636) 99.1%\t(630/713) 88.4%\n",
      "50\t(27/50) 54.0%\t(27/27) 100.0%\t(27/50) 54.0%\n",
      "216\t(38/216) 17.6%\t(33/38) 86.8%\t(33/216) 15.3%\n",
      "519\t(110/519) 21.2%\t(17/110) 15.5%\t(17/519) 3.3%\n"
     ]
    }
   ],
   "source": [
    "for conf_i in 'HighConf', 'MedConf', 'LowConf', 'Unclassified':\n",
    "    \n",
    "    total_i            = sum(confLabels==conf_i)\n",
    "    total_validated    = sum(np.all((validations=='YES', confLabels==conf_i), axis=0))\n",
    "    total_invalidated  = sum(np.all((validations=='NO', confLabels==conf_i), axis=0))\n",
    "    validate_rate      = total_validated / (total_validated + total_invalidated)\n",
    "    interpretable_rate = (total_validated + total_invalidated)/total_i\n",
    "\n",
    "    totalStats['snv'][conf_i]['total']         += total_i\n",
    "    totalStats['snv'][conf_i]['interpretable'] += (total_validated+total_invalidated)\n",
    "    totalStats['snv'][conf_i]['validated']     += total_validated\n",
    "    totalStats['snv'][conf_i]['notValidated']  += total_invalidated\n",
    "    \n",
    "    print('%g %s\\t(%i/%i) %.1f%%\\t(%i/%i) %.1f%%\\t%.1f%%' % (total_i, conf_i, total_validated+total_invalidated, total_i, 100*interpretable_rate, total_validated, total_validated + total_invalidated, 100*validate_rate, 100*interpretable_rate*validate_rate) )\n",
    "    \n",
    "for conf_i in 'HighConf', 'MedConf', 'LowConf', 'Unclassified':\n",
    "    \n",
    "    total_i            = sum(confLabels==conf_i)\n",
    "    total_validated    = sum(np.all((validations=='YES', confLabels==conf_i), axis=0))\n",
    "    total_invalidated  = sum(np.all((validations=='NO', confLabels==conf_i), axis=0))\n",
    "    validate_rate      = total_validated / (total_validated + total_invalidated)\n",
    "    interpretable_rate = (total_validated + total_invalidated)/total_i\n",
    "    \n",
    "    print('%g\\t(%i/%i) %.1f%%\\t(%i/%i) %.1f%%\\t(%i/%i) %.1f%%' % (total_i, total_validated+total_invalidated, total_i, 100*interpretable_rate, total_validated, total_validated + total_invalidated, 100*validate_rate , total_validated, total_i, 100*(total_validated/total_i) ))"
   ]
  },
  {
   "cell_type": "code",
   "execution_count": null,
   "metadata": {},
   "outputs": [],
   "source": []
  },
  {
   "cell_type": "code",
   "execution_count": 38,
   "metadata": {},
   "outputs": [
    {
     "name": "stdout",
     "output_type": "stream",
     "text": [
      "HighConf SNV not validated:\n",
      "chr2\t97211773\tC\tT\n",
      "chr5\t141332648\tC\tT\n",
      "chr6\t167208829\tG\tC\n",
      "chr9\t92885181\tT\tA\n",
      "chr10\t5882953\tG\tC\n",
      "chr15\t28815512\tG\tA\n",
      "HighConf SNV Uninterpretable:\n",
      "chr1\t12001578\tC\tT\n",
      "chr1\t33743669\tG\tC\n",
      "chr1\t36176447\tG\tA\n",
      "chr1\t107770629\tG\tA\n",
      "chr1\t116584988\tC\tA\n",
      "chr1\t168300462\tC\tA\n",
      "chr1\t179813632\tG\tA\n",
      "chr1\t179813633\tA\tC\n",
      "chr1\t228307554\tG\tA\n",
      "chr2\t171855929\tA\tC\n",
      "chr2\t232329722\tG\tC\n",
      "chr3\t38752270\tT\tA\n",
      "chr3\t72997533\tT\tA\n",
      "chr3\t126498142\tG\tA\n",
      "chr3\t160448892\tG\tT\n",
      "chr4\t343934\tC\tT\n",
      "chr4\t442068\tT\tC\n",
      "chr4\t1740801\tG\tA\n",
      "chr4\t15519875\tG\tC\n",
      "chr4\t38943498\tC\tT\n",
      "chr4\t41646299\tC\tG\n",
      "chr4\t128098247\tG\tA\n",
      "chr4\t153622026\tG\tC\n",
      "chr5\t103104741\tG\tA\n",
      "chr5\t178932532\tG\tT\n",
      "chr5\t179733119\tC\tG\n",
      "chr7\t4909705\tG\tC\n",
      "chr7\t30883201\tC\tG\n",
      "chr7\t47833095\tG\tA\n",
      "chr7\t143390060\tG\tA\n",
      "chr7\t151115391\tG\tA\n",
      "chr7\t151366935\tC\tT\n",
      "chr8\t94543935\tG\tA\n",
      "chr8\t132100024\tA\tG\n",
      "chr8\t142511012\tC\tG\n",
      "chr9\t32450033\tG\tA\n",
      "chr9\t99826856\tC\tA\n",
      "chr9\t127445102\tA\tG\n",
      "chr9\t136994920\tC\tT\n",
      "chr9\t138120682\tG\tA\n",
      "chr10\t13740500\tG\tA\n",
      "chr10\t27037173\tG\tA\n",
      "chr10\t80609406\tC\tT\n",
      "chr10\t104046624\tG\tC\n",
      "chr11\t6410518\tC\tT\n",
      "chr11\t56469901\tT\tA\n",
      "chr11\t93699152\tG\tA\n",
      "chr11\t126256472\tC\tT\n",
      "chr12\t6938930\tC\tT\n",
      "chr12\t67295104\tG\tA\n",
      "chr12\t72022345\tC\tT\n",
      "chr12\t132053416\tC\tA\n",
      "chr14\t24068643\tG\tA\n",
      "chr15\t56918208\tC\tG\n",
      "chr15\t89671702\tC\tA\n",
      "chr17\t18988513\tC\tT\n",
      "chr17\t29120930\tG\tC\n",
      "chr17\t45222039\tC\tT\n",
      "chr17\t45640596\tG\tT\n",
      "chr17\t78215833\tG\tA\n",
      "chr17\t80050160\tG\tT\n",
      "chr17\t81902393\tG\tT\n",
      "chr18\t22176910\tG\tC\n",
      "chr19\t2524582\tG\tA\n",
      "chr19\t12973460\tC\tT\n",
      "chr19\t16896605\tC\tG\n",
      "chr19\t17555816\tG\tT\n",
      "chr19\t39507413\tC\tG\n",
      "chr19\t49342311\tG\tC\n",
      "chr20\t6006318\tG\tC\n",
      "chr20\t31514436\tC\tG\n",
      "chr20\t37996832\tG\tA\n",
      "chr20\t51693765\tG\tA\n",
      "chr20\t64038223\tC\tA\n",
      "chr21\t46209725\tG\tA\n",
      "chr21\t46209726\tG\tA\n",
      "chr22\t29536548\tA\tG\n"
     ]
    }
   ],
   "source": [
    "print('HighConf SNV not validated:')\n",
    "for variant_id in ionSnvResults:\n",
    "    if ionSnvResults[variant_id]['confLabel'] == 'HighConf' and 'NO' in ionSnvResults[variant_id]['Validation'].split(','):\n",
    "        print(variant_id[0],variant_id[1],variant_id[2],variant_id[3], sep='\\t')\n",
    "        \n",
    "print('HighConf SNV Uninterpretable:')\n",
    "for variant_id in ionSnvResults:\n",
    "    if ionSnvResults[variant_id]['confLabel'] == 'HighConf' and 'UNKNOWN' in ionSnvResults[variant_id]['Validation'].split(','):\n",
    "        print(variant_id[0],variant_id[1],variant_id[2],variant_id[3], sep='\\t')"
   ]
  },
  {
   "cell_type": "code",
   "execution_count": 39,
   "metadata": {},
   "outputs": [
    {
     "name": "stdout",
     "output_type": "stream",
     "text": [
      "LowConf calls potentially validated:\n",
      "chr1\t29053344\tC\tT\n",
      "chr1\t33617572\tC\tG\n",
      "chr1\t39452086\tT\tC\n",
      "chr1\t116579677\tC\tA\n",
      "chr1\t201321924\tG\tA\n",
      "chr1\t201321925\tG\tA\n",
      "chr1\t227655016\tA\tC\n",
      "chr2\t178607249\tA\tG\n",
      "chr2\t184936649\tG\tT\n",
      "chr3\t129440343\tT\tA\n",
      "chr3\t134551984\tT\tC\n",
      "chr6\t118651323\tT\tC\n",
      "chr7\t102465725\tG\tA\n",
      "chr7\t107767595\tC\tT\n",
      "chr7\t111740124\tC\tG\n",
      "chr7\t128856685\tG\tA\n",
      "chr9\t94301165\tA\tC\n",
      "chr10\t101521626\tC\tT\n",
      "chr11\t72711404\tC\tT\n",
      "chr12\t18563498\tA\tG\n",
      "chr13\t23889342\tT\tA\n",
      "chr13\t49792519\tC\tG\n",
      "chr14\t24160167\tG\tC\n",
      "chr14\t50913150\tG\tA\n",
      "chr14\t77321401\tA\tG\n",
      "chr15\t68290629\tG\tC\n",
      "chr17\t7592599\tT\tG\n",
      "chr17\t50171511\tC\tG\n",
      "chr17\t81435567\tT\tC\n",
      "chr19\t6677931\tT\tC\n",
      "chr19\t18258430\tC\tT\n",
      "chr19\t35488730\tA\tC\n",
      "chr19\t58279880\tT\tA\n"
     ]
    }
   ],
   "source": [
    "print('LowConf calls potentially validated:')\n",
    "for variant_id in ionSnvResults:\n",
    "    if ionSnvResults[variant_id]['confLabel'] == 'LowConf' and 'YES' in ionSnvResults[variant_id]['Validation'].split(','):\n",
    "        print(variant_id[0],variant_id[1],variant_id[2],variant_id[3], sep='\\t')"
   ]
  },
  {
   "cell_type": "code",
   "execution_count": 40,
   "metadata": {},
   "outputs": [
    {
     "name": "stdout",
     "output_type": "stream",
     "text": [
      "Unclassified calls potentially validated:\n",
      "chr2\t3499139\tG\tC\n",
      "chr3\t156979303\tT\tG\n",
      "chr3\t195784077\tG\tT\n",
      "chr6\t116626747\tT\tA\n",
      "chr7\t128677593\tG\tA\n",
      "chr8\t23368194\tA\tT\n",
      "chr8\t23368207\tC\tT\n",
      "chr10\t77828865\tC\tT\n",
      "chr10\t122585191\tC\tT\n",
      "chr11\t44903400\tC\tG\n",
      "chr11\t69650998\tT\tC\n",
      "chr12\t109407973\tC\tT\n",
      "chr16\t4114370\tA\tG\n",
      "chr17\t8575269\tA\tG\n",
      "chr19\t8969831\tG\tA\n",
      "chr19\t41253729\tC\tT\n",
      "chr19\t43184852\tG\tA\n"
     ]
    }
   ],
   "source": [
    "print('Unclassified calls potentially validated:')\n",
    "for variant_id in ionSnvResults:\n",
    "    if ionSnvResults[variant_id]['confLabel'] == 'Unclassified' and 'YES' in ionSnvResults[variant_id]['Validation'].split(','):\n",
    "        print(variant_id[0],variant_id[1],variant_id[2],variant_id[3], sep='\\t')"
   ]
  },
  {
   "cell_type": "code",
   "execution_count": null,
   "metadata": {},
   "outputs": [],
   "source": []
  },
  {
   "cell_type": "code",
   "execution_count": 41,
   "metadata": {},
   "outputs": [],
   "source": [
    "ionIndelResults = {}\n",
    "with open(ion_indel_validation) as snv:\n",
    "    \n",
    "    line_i = snv.readline().rstrip()\n",
    "    header = line_i.split('\\t')\n",
    "    \n",
    "    i_ID             = header.index('ID')\n",
    "    i_normalDP       = header.index('NORMAL_bam_DP')\n",
    "    i_normalForVarDP = header.index('NORMAL_bam_ALT_FOR')\n",
    "    i_normalRevVarDP = header.index('NORMAL_bam_ALT_REV')\n",
    "    i_tumorDP        = header.index('TUMOR_bam_DP')\n",
    "    i_tumorForVarDP  = header.index('TUMOR_bam_ALT_FOR')\n",
    "    i_tumorRevVarDP  = header.index('TUMOR_bam_ALT_REV')\n",
    "    \n",
    "    line_i = snv.readline().rstrip()\n",
    "    \n",
    "    while line_i:\n",
    "        \n",
    "        item       = line_i.split('\\t')\n",
    "        variant_id = ( item[0], int(item[1]), item[3], item[4] )\n",
    "        \n",
    "        if callableLoci.inRegion(variant_id[0], variant_id[1]):\n",
    "            t_dp  = int(item[i_tumorDP])\n",
    "            t_vdp = int(item[i_tumorForVarDP]) + int(item[i_tumorRevVarDP])\n",
    "            n_dp  = int(item[i_normalDP])\n",
    "            n_vdp = int(item[i_normalForVarDP]) + int(item[i_normalRevVarDP])\n",
    "        \n",
    "            goldvaf = float( re.search(r'TVAF=(1|0\\.[0-9]+)', item[i_ID]).groups()[0] )\n",
    "        \n",
    "            try:\n",
    "                ionTVAF = t_vdp / t_dp\n",
    "            except ZeroDivisionError:\n",
    "                ionTVAF = math.nan\n",
    "\n",
    "            ionIndelResults[variant_id] = {'tDP': t_dp, 'tVDP': t_vdp, 'nDP': n_dp, 'nVDP': n_vdp, 'ionTVAF': ionTVAF}\n",
    "        \n",
    "            # Simple rule to decide if validated or not:\n",
    "            if t_dp >= 8 and n_dp >= 10:\n",
    "            \n",
    "                # VALIDATED. If tumor DP low, at least 2 variants. If tumor DP>50, VAF at least 4% (need more than 2).\n",
    "                if (t_vdp >=2) and (t_vdp/t_dp > 10*n_vdp/n_dp):\n",
    "                \n",
    "                    ionIndelResults[variant_id].update({ 'Validation': 'YES' })\n",
    "                        \n",
    "                # INVALIDATED (Germline Signal)\n",
    "                elif n_dp >=20 and (n_vdp > 0.1*n_dp):\n",
    "                \n",
    "                    ionIndelResults[variant_id].update({ 'Validation': 'NO' })\n",
    "\n",
    "                # INVALIDATED (NO variant signal): Expect variant DP >= 5, but gets zero.\n",
    "                elif t_vdp == 0 and t_dp*goldvaf >= 5:\n",
    "\n",
    "                    ionIndelResults[variant_id].update({ 'Validation': 'NO' })\n",
    "\n",
    "                # UNKNOWN\n",
    "                else:\n",
    "                    ionIndelResults[variant_id].update({ 'Validation': 'UNKNOWN' })\n",
    "\n",
    "            # UNKNOWN  \n",
    "            else:\n",
    "                ionIndelResults[variant_id].update({ 'Validation': 'UNKNOWN' })\n",
    "        \n",
    "        line_i = snv.readline().rstrip()"
   ]
  },
  {
   "cell_type": "code",
   "execution_count": 42,
   "metadata": {},
   "outputs": [],
   "source": [
    "with genome.open_textfile(truth_indel) as goldSnv:\n",
    "    \n",
    "    gold_line = goldSnv.readline().rstrip()\n",
    "    \n",
    "    while gold_line.startswith('#'):\n",
    "        gold_line = goldSnv.readline().rstrip()\n",
    "        \n",
    "    while gold_line:\n",
    "        \n",
    "        gold_vcf   = genome.Vcf_line(gold_line)\n",
    "        variant_id = (gold_vcf.chromosome, gold_vcf.position, gold_vcf.refbase, gold_vcf.altbase)\n",
    "        \n",
    "        if variant_id in ionIndelResults:\n",
    "            \n",
    "            TVAF     = float( gold_vcf.get_info_value('TVAF') )\n",
    "            nPASSES  = int( gold_vcf.get_info_value('nPASSES') )\n",
    "            try:\n",
    "                nREJECTS = int( gold_vcf.get_info_value('nREJECTS') )\n",
    "            except ValueError:\n",
    "                nREJECTS = math.nan\n",
    "            \n",
    "            if 'HighConf' in gold_vcf.filters:\n",
    "                confLabel = 'HighConf'\n",
    "            elif 'MedConf' in gold_vcf.filters:\n",
    "                confLabel = 'MedConf'\n",
    "            elif 'LowConf' in gold_vcf.filters:\n",
    "                confLabel = 'LowConf'\n",
    "            elif 'Unclassified' in gold_vcf.filters:\n",
    "                confLabel = 'Unclassified'\n",
    "                \n",
    "            ionIndelResults[variant_id].update({'TVAF': TVAF, 'confLabel': confLabel, 'nPASSES': nPASSES, 'nREJECTS': nREJECTS})\n",
    "        \n",
    "        gold_line = goldSnv.readline().rstrip()"
   ]
  },
  {
   "cell_type": "code",
   "execution_count": 43,
   "metadata": {},
   "outputs": [],
   "source": [
    "validations     = []\n",
    "validationTVAFs = []\n",
    "goldTVAFs       = []\n",
    "nPASSES         = []\n",
    "nREJECTS        = []\n",
    "confLabels      = []\n",
    "for variant_i in ionIndelResults:\n",
    "    \n",
    "    try:\n",
    "        confLabels.append( ionIndelResults[variant_i]['confLabel'] )\n",
    "    except KeyError:\n",
    "        print(variant_i)\n",
    "    goldTVAFs.append( ionIndelResults[variant_i]['TVAF'] )\n",
    "    nPASSES.append( ionIndelResults[variant_i]['nPASSES'] )\n",
    "    nREJECTS.append( ionIndelResults[variant_i]['nREJECTS'] )\n",
    "    \n",
    "    validation_i = ionIndelResults[variant_i]['Validation'].split(',')\n",
    "    \n",
    "    if variant_i not in validationKeeper:\n",
    "        validationKeeper[variant_i] = {}\n",
    "                \n",
    "    if 'YES' in validation_i:\n",
    "        validations.append( 'YES' )\n",
    "        validationKeeper[variant_i] = {'confLabel': ionIndelResults[variant_i]['confLabel'], 'ionTorrent': 'YES'}\n",
    "    elif 'NO' in validation_i:\n",
    "        validations.append( 'NO' )\n",
    "        validationKeeper[variant_i] = {'confLabel': ionIndelResults[variant_i]['confLabel'], 'ionTorrent': 'NO'}\n",
    "    elif 'UNKNOWN' in validation_i:\n",
    "        validations.append( 'UNKNOWN' )\n",
    "        validationKeeper[variant_i] = {'confLabel': ionIndelResults[variant_i]['confLabel'], 'ionTorrent': 'UNKNOWN'}\n",
    "    \n",
    "    try:\n",
    "        validationTVAFs.append( ionIndelResults[variant_i]['tVDP'] / ionIndelResults[variant_i]['tDP'] )\n",
    "    except ZeroDivisionError:\n",
    "        validationTVAFs.append( math.nan )\n",
    "        \n",
    "validationTVAFs = numpy.array(validationTVAFs)\n",
    "goldTVAFs       = numpy.array(goldTVAFs)\n",
    "nPASSES         = numpy.array(nPASSES)\n",
    "nREJECTS        = numpy.array(nREJECTS)\n",
    "confLabels      = numpy.array(confLabels)\n",
    "validations     = numpy.array(validations)"
   ]
  },
  {
   "cell_type": "code",
   "execution_count": null,
   "metadata": {},
   "outputs": [],
   "source": []
  },
  {
   "cell_type": "code",
   "execution_count": 44,
   "metadata": {},
   "outputs": [
    {
     "data": {
      "image/png": "[encoded data removed]",
      "text/plain": [
       "<Figure size 576x432 with 1 Axes>"
      ]
     },
     "metadata": {
      "needs_background": "light"
     },
     "output_type": "display_data"
    }
   ],
   "source": [
    "plt.figure(figsize=(8,6))\n",
    "\n",
    "ms=36\n",
    "\n",
    "# plt.scatter(0,1, s=ms*1.3, color=unclassifiedColor, marker='v' , facecolors='none')\n",
    "# plt.scatter(0,1, s=ms*1.3, color=lowConfColor,      marker='^' , facecolors='none')\n",
    "# plt.scatter(0,1, s=ms, color=medConfColor,      marker='s' , facecolors='none')\n",
    "# plt.scatter(0,1, s=ms, color=highConfColor,     marker='o' , facecolors='none')\n",
    "# plt.scatter(0,1, s=ms, color='white')\n",
    "\n",
    "# plt.legend(('Unclassified', 'LowConf', 'MedConf',  'HighConf',  ), fontsize=12, loc='upper left')\n",
    "\n",
    "plt.scatter(goldTVAFs[ np.all( (confLabels=='Unclassified', validations=='YES'), axis=0) ], \\\n",
    "            validationTVAFs[ np.all( (confLabels=='Unclassified', validations=='YES'), axis=0) ], s=ms*1.3, color=unclassifiedColor, marker='v',)\n",
    "\n",
    "plt.scatter(goldTVAFs[ np.all( (confLabels=='LowConf', validations=='YES'), axis=0) ], \\\n",
    "            validationTVAFs[ np.all( (confLabels=='LowConf', validations=='YES'), axis=0) ] , s=ms*1.3, color=lowConfColor, marker='^',  )\n",
    "\n",
    "plt.scatter(goldTVAFs[ np.all( (confLabels=='MedConf', validations=='YES'), axis=0) ], \\\n",
    "            validationTVAFs[ np.all( (confLabels=='MedConf', validations=='YES'), axis=0) ], s=ms, color=medConfColor, marker='s', )\n",
    "\n",
    "plt.scatter(goldTVAFs[ np.all( (confLabels=='HighConf', validations=='YES'), axis=0) ], \\\n",
    "            validationTVAFs[ np.all( (confLabels=='HighConf', validations=='YES'), axis=0) ], s=ms, color=highConfColor, marker='o', )\n",
    "\n",
    "\n",
    "plt.scatter(goldTVAFs[ np.all( (confLabels=='Unclassified', validations=='NO'), axis=0) ], \\\n",
    "            validationTVAFs[ np.all( (confLabels=='Unclassified', validations=='NO'), axis=0) ], s=ms*1.3, color=unclassifiedColor, facecolors='none', marker='v')\n",
    "\n",
    "plt.scatter(goldTVAFs[ np.all( (confLabels=='LowConf', validations=='NO'), axis=0) ], \\\n",
    "            validationTVAFs[ np.all( (confLabels=='LowConf', validations=='NO'), axis=0) ], s=ms*1.3, color=lowConfColor, facecolors='none', marker='^')\n",
    "\n",
    "plt.scatter(goldTVAFs[ np.all( (confLabels=='MedConf', validations=='NO'), axis=0) ], \\\n",
    "            validationTVAFs[ np.all( (confLabels=='MedConf', validations=='NO'), axis=0) ], s=ms, color=medConfColor, facecolors='none', marker='s',)\n",
    "\n",
    "plt.scatter(goldTVAFs[ np.all( (confLabels=='HighConf', validations=='NO'), axis=0) ], \\\n",
    "            validationTVAFs[ np.all( (confLabels=='HighConf', validations=='NO'), axis=0) ], s=ms,  color=highConfColor, facecolors='none', marker='o')\n",
    "\n",
    "\n",
    "# plt.scatter(goldTVAFs[ np.all( (confLabels=='Unclassified', validations=='UNKNOWN'), axis=0) ], \\\n",
    "#             validationTVAFs[ np.all( (confLabels=='Unclassified', validations=='UNKNOWN'), axis=0) ], s=ms*1.8, color=unclassifiedColor, marker='1',)\n",
    "\n",
    "# plt.scatter(goldTVAFs[ np.all( (confLabels=='LowConf', validations=='UNKNOWN'), axis=0) ], \\\n",
    "#             validationTVAFs[ np.all( (confLabels=='LowConf', validations=='UNKNOWN'), axis=0) ], s=ms*1.8, color=lowConfColor, marker='2',)\n",
    "\n",
    "# plt.scatter(goldTVAFs[ np.all( (confLabels=='MedConf', validations=='UNKNOWN'), axis=0) ], \\\n",
    "#             validationTVAFs[ np.all( (confLabels=='MedConf', validations=='UNKNOWN'), axis=0) ], s=ms*1.8,  color=medConfColor, marker='+',)\n",
    "\n",
    "# plt.scatter(goldTVAFs[ np.all( (confLabels=='HighConf', validations=='UNKNOWN'), axis=0) ], \\\n",
    "#             validationTVAFs[ np.all( (confLabels=='HighConf', validations=='UNKNOWN'), axis=0) ], s=ms, color=highConfColor, marker='x',)\n",
    "\n",
    "\n",
    "\n",
    "x_range     = []\n",
    "lower_bound = []\n",
    "upper_bound = []\n",
    "\n",
    "vaf_i = 0.001\n",
    "while vaf_i < 1:\n",
    "    a, b = scipystats.binom.interval(0.95, 34,vaf_i)\n",
    "    x_range.append(vaf_i)\n",
    "    lower_bound.append(a/34)\n",
    "    upper_bound.append(b/34)\n",
    "    vaf_i += 0.001\n",
    "    \n",
    "plt.plot(x_range, lower_bound, color='gray', linestyle = 'dashed')\n",
    "plt.plot(x_range, upper_bound, color='gray', linestyle = 'dashed')\n",
    "\n",
    "plt.xlabel('VAF (WGS Set)', size=12)\n",
    "plt.ylabel('VAF (Ion)', size=12)\n",
    "\n",
    "plt.savefig('../Extended_Data_Figures/Extended_Data_Fig_03b_ion_indel_cross_validation.pdf', bbox_inches='tight')"
   ]
  },
  {
   "cell_type": "code",
   "execution_count": 45,
   "metadata": {},
   "outputs": [
    {
     "name": "stdout",
     "output_type": "stream",
     "text": [
      "0.7658402460801275\n",
      "0.9342159843411844\n",
      "0.8179300327701017\n",
      "0.8984079486076955\n"
     ]
    }
   ],
   "source": [
    "print( R(goldTVAFs[ confLabels=='HighConf'],  validationTVAFs[ confLabels=='HighConf' ]) )\n",
    "print( R(goldTVAFs[ confLabels=='MedConf'],  validationTVAFs[ confLabels=='MedConf' ]) )\n",
    "print( R(goldTVAFs[ confLabels=='LowConf'],  validationTVAFs[ confLabels=='LowConf' ]) )\n",
    "print( R(goldTVAFs[ confLabels=='Unclassified'],  validationTVAFs[ confLabels=='Unclassified' ]) )"
   ]
  },
  {
   "cell_type": "code",
   "execution_count": null,
   "metadata": {},
   "outputs": [],
   "source": []
  },
  {
   "cell_type": "code",
   "execution_count": 46,
   "metadata": {},
   "outputs": [
    {
     "name": "stdout",
     "output_type": "stream",
     "text": [
      "40 HighConf\t(29/40) 72.5%\t(26/29) 89.7%\t65.0%\n",
      "3 MedConf\t(1/3) 33.3%\t(1/1) 100.0%\t33.3%\n",
      "10 LowConf\t(3/10) 30.0%\t(2/3) 66.7%\t20.0%\n",
      "24 Unclassified\t(3/24) 12.5%\t(3/3) 100.0%\t12.5%\n",
      "40\t(29/40) 72.5%\t(26/29) 89.7%\t(26/40) 65.0%\n",
      "3\t(1/3) 33.3%\t(1/1) 100.0%\t(1/3) 33.3%\n",
      "10\t(3/10) 30.0%\t(2/3) 66.7%\t(2/10) 20.0%\n",
      "24\t(3/24) 12.5%\t(3/3) 100.0%\t(3/24) 12.5%\n"
     ]
    }
   ],
   "source": [
    "for conf_i in 'HighConf', 'MedConf', 'LowConf', 'Unclassified':\n",
    "    \n",
    "    total_i            = sum(confLabels==conf_i)\n",
    "    total_validated    = sum(np.all((validations=='YES', confLabels==conf_i), axis=0))\n",
    "    total_invalidated  = sum(np.all((validations=='NO', confLabels==conf_i), axis=0))\n",
    "    validate_rate      = total_validated / (total_validated + total_invalidated)\n",
    "    interpretable_rate = (total_validated + total_invalidated)/total_i\n",
    "\n",
    "    totalStats['indel'][conf_i]['total']         += total_i\n",
    "    totalStats['indel'][conf_i]['interpretable'] += (total_validated+total_invalidated)\n",
    "    totalStats['indel'][conf_i]['validated']     += total_validated\n",
    "    totalStats['indel'][conf_i]['notValidated']  += total_invalidated\n",
    "\n",
    "    print('%g %s\\t(%i/%i) %.1f%%\\t(%i/%i) %.1f%%\\t%.1f%%' % (total_i, conf_i, total_validated+total_invalidated, total_i, 100*interpretable_rate, total_validated, total_validated + total_invalidated, 100*validate_rate, 100*interpretable_rate*validate_rate) )\n",
    "    \n",
    "    \n",
    "for conf_i in 'HighConf', 'MedConf', 'LowConf', 'Unclassified':\n",
    "    \n",
    "    total_i            = sum(confLabels==conf_i)\n",
    "    total_validated    = sum(np.all((validations=='YES', confLabels==conf_i), axis=0))\n",
    "    total_invalidated  = sum(np.all((validations=='NO', confLabels==conf_i), axis=0))\n",
    "    validate_rate      = total_validated / (total_validated + total_invalidated)\n",
    "    interpretable_rate = (total_validated + total_invalidated)/total_i\n",
    "    \n",
    "    print('%g\\t(%i/%i) %.1f%%\\t(%i/%i) %.1f%%\\t(%i/%i) %.1f%%' % (total_i, total_validated+total_invalidated, total_i, 100*interpretable_rate, total_validated, total_validated + total_invalidated, 100*validate_rate , total_validated, total_i, 100*(total_validated/total_i) ))"
   ]
  },
  {
   "cell_type": "code",
   "execution_count": null,
   "metadata": {},
   "outputs": [],
   "source": []
  },
  {
   "cell_type": "code",
   "execution_count": 47,
   "metadata": {},
   "outputs": [
    {
     "name": "stdout",
     "output_type": "stream",
     "text": [
      "HighConf Indel not validated:\n",
      "chr2\t7068190\tTCAGTGAGTAAGGTTTTCTTTAACAGGGTGATGC\tT\t41\t18\n",
      "chr4\t69200378\tTG\tT\t63\t0\n",
      "chr9\t92884541\tTGCCCTAACCC\tT\t62\t0\n",
      "HighConf Indel Uninterpretable:\n",
      "chr1\t235766274\tATTCCTGAAAAAATAAAAAAAACTCTCT\tA\t49\t5\n",
      "chr7\t44020406\tGAAGACACCTGTTGCC\tG\t51\t3\n",
      "chr7\t108106624\tGTCAAACACACTCTTTTTTTTTT\tG\t30\t20\n",
      "chr8\t56373145\tCCACTCCAAGGTACTCACCAAAGGCAATCAACATTTTTGG\tC\t40\t15\n",
      "chr9\t6554804\tAAGCAAAAGTCAAGAGCTTGGAAGCACCCTCC\tA\t36\t11\n",
      "chr10\t79942597\tGCAGCATTGTTGTCCTCC\tG\t58\t0\n",
      "chr11\t14843826\tGATTCTGATGGTAGAATTAACCATGGGCGAATTGCTTATATTTCTTCGA\tG\t34\t19\n",
      "chr13\t36972022\tTATAGCCATTTGATTCTGAGGGAAAAAGCAGAG\tT\t42\t15\n",
      "chr13\t106567754\tACCGCGACTC\tA\t44\t1\n",
      "chr17\t41771694\tGTGTACTGGCGCCCGCAGGCCTCATCCTCCTCCATGATGCCCT\tG\t41\t20\n",
      "chr22\t25894918\tGAGTGAGCACTCAAGAACTTTAGAC\tG\t61\t1\n"
     ]
    }
   ],
   "source": [
    "print('HighConf Indel not validated:')\n",
    "for variant_id in ionIndelResults:\n",
    "    if ionIndelResults[variant_id]['confLabel'] == 'HighConf' and 'NO' in ionIndelResults[variant_id]['Validation'].split(','):\n",
    "        print(variant_id[0],variant_id[1],variant_id[2],variant_id[3], ionIndelResults[variant_id]['nPASSES'], ionIndelResults[variant_id]['nREJECTS'], sep='\\t')\n",
    "        \n",
    "print('HighConf Indel Uninterpretable:')\n",
    "for variant_id in ionIndelResults:\n",
    "    if ionIndelResults[variant_id]['confLabel'] == 'HighConf' and 'UNKNOWN' in ionIndelResults[variant_id]['Validation'].split(','):\n",
    "        print(variant_id[0],variant_id[1],variant_id[2],variant_id[3], ionIndelResults[variant_id]['nPASSES'], ionIndelResults[variant_id]['nREJECTS'], sep='\\t')"
   ]
  },
  {
   "cell_type": "code",
   "execution_count": 48,
   "metadata": {},
   "outputs": [
    {
     "name": "stdout",
     "output_type": "stream",
     "text": [
      "Unclassified Indel potentially validated:\n",
      "chr10\t82232948\tTG\tT\t1\t19\n",
      "chr15\t30951922\tT\tTG\t13\t11\n",
      "chr20\t63693059\tGGGTGGGGGCCATCTGGGTCCAA\tG\t5\t5\n"
     ]
    }
   ],
   "source": [
    "print('Unclassified Indel potentially validated:')\n",
    "for variant_id in ionIndelResults:\n",
    "    if ionIndelResults[variant_id]['confLabel'] == 'Unclassified' and 'YES' in ionIndelResults[variant_id]['Validation'].split(','):\n",
    "        print(variant_id[0],variant_id[1],variant_id[2],variant_id[3], ionIndelResults[variant_id]['nPASSES'], ionIndelResults[variant_id]['nREJECTS'], sep='\\t')"
   ]
  },
  {
   "cell_type": "code",
   "execution_count": null,
   "metadata": {},
   "outputs": [],
   "source": []
  },
  {
   "cell_type": "code",
   "execution_count": 49,
   "metadata": {},
   "outputs": [],
   "source": [
    "exome = BedFile('/home/lethalfang/Documents/Bina/SMWG/Manuscript_01_Files/WES/human_all_v6_plus_UTR.liftover.to.hg38.sort.bed')"
   ]
  },
  {
   "cell_type": "code",
   "execution_count": 50,
   "metadata": {},
   "outputs": [],
   "source": [
    "tEA1 = '/home/lethalfang/Documents/Bina/SMWG/Manuscript_01_Files/WES/VAF.sSNV.v1.1.WES_EA_T_1.bwa.dedup.bam.txt.gz'\n",
    "tEA2 = '/home/lethalfang/Documents/Bina/SMWG/Manuscript_01_Files/WES/VAF.sSNV.v1.1.WES_EA_T_2.bwa.dedup.bam.txt.gz'\n",
    "tFD1 = '/home/lethalfang/Documents/Bina/SMWG/Manuscript_01_Files/WES/VAF.sSNV.v1.1.WES_FD_T_1.bwa.dedup.bam.txt.gz'\n",
    "tFD2 = '/home/lethalfang/Documents/Bina/SMWG/Manuscript_01_Files/WES/VAF.sSNV.v1.1.WES_FD_T_2.bwa.dedup.bam.txt.gz'\n",
    "tFD3 = '/home/lethalfang/Documents/Bina/SMWG/Manuscript_01_Files/WES/VAF.sSNV.v1.1.WES_FD_T_3.bwa.dedup.bam.txt.gz'\n",
    "tIL1 = '/home/lethalfang/Documents/Bina/SMWG/Manuscript_01_Files/WES/VAF.sSNV.v1.1.WES_IL_T_1.bwa.dedup.bam.txt.gz'\n",
    "tIL2 = '/home/lethalfang/Documents/Bina/SMWG/Manuscript_01_Files/WES/VAF.sSNV.v1.1.WES_IL_T_2.bwa.dedup.bam.txt.gz'\n",
    "tIL3 = '/home/lethalfang/Documents/Bina/SMWG/Manuscript_01_Files/WES/VAF.sSNV.v1.1.WES_IL_T_3.bwa.dedup.bam.txt.gz'\n",
    "tIL4 = '/home/lethalfang/Documents/Bina/SMWG/Manuscript_01_Files/WES/VAF.sSNV.v1.1.WES_IL_T_4.bwa.dedup.bam.txt.gz'\n",
    "tIL5 = '/home/lethalfang/Documents/Bina/SMWG/Manuscript_01_Files/WES/VAF.sSNV.v1.1.WES_IL_T_5.bwa.dedup.bam.txt.gz'\n",
    "tIL6 = '/home/lethalfang/Documents/Bina/SMWG/Manuscript_01_Files/WES/VAF.sSNV.v1.1.WES_IL_T_6.bwa.dedup.bam.txt.gz'\n",
    "tLL1 = '/home/lethalfang/Documents/Bina/SMWG/Manuscript_01_Files/WES/VAF.sSNV.v1.1.WES_LL_T_1.bwa.dedup.bam.txt.gz'\n",
    "tNC1 = '/home/lethalfang/Documents/Bina/SMWG/Manuscript_01_Files/WES/VAF.sSNV.v1.1.WES_NC_T_1.bwa.dedup.bam.txt.gz'\n",
    "tNV1 = '/home/lethalfang/Documents/Bina/SMWG/Manuscript_01_Files/WES/VAF.sSNV.v1.1.WES_NV_T_1.bwa.dedup.bam.txt.gz'\n",
    "tNV2 = '/home/lethalfang/Documents/Bina/SMWG/Manuscript_01_Files/WES/VAF.sSNV.v1.1.WES_NV_T_2.bwa.dedup.bam.txt.gz'\n",
    "tNV3 = '/home/lethalfang/Documents/Bina/SMWG/Manuscript_01_Files/WES/VAF.sSNV.v1.1.WES_NV_T_3.bwa.dedup.bam.txt.gz'\n",
    "\n",
    "nEA1 = '/home/lethalfang/Documents/Bina/SMWG/Manuscript_01_Files/WES/VAF.sSNV.v1.1.WES_EA_N_1.bwa.dedup.bam.txt.gz'\n",
    "nEA2 = '/home/lethalfang/Documents/Bina/SMWG/Manuscript_01_Files/WES/VAF.sSNV.v1.1.WES_EA_N_2.bwa.dedup.bam.txt.gz'\n",
    "nFD1 = '/home/lethalfang/Documents/Bina/SMWG/Manuscript_01_Files/WES/VAF.sSNV.v1.1.WES_FD_N_1.bwa.dedup.bam.txt.gz'\n",
    "nFD2 = '/home/lethalfang/Documents/Bina/SMWG/Manuscript_01_Files/WES/VAF.sSNV.v1.1.WES_FD_N_2.bwa.dedup.bam.txt.gz'\n",
    "nFD3 = '/home/lethalfang/Documents/Bina/SMWG/Manuscript_01_Files/WES/VAF.sSNV.v1.1.WES_FD_N_3.bwa.dedup.bam.txt.gz'\n",
    "nIL1 = '/home/lethalfang/Documents/Bina/SMWG/Manuscript_01_Files/WES/VAF.sSNV.v1.1.WES_IL_N_1.bwa.dedup.bam.txt.gz'\n",
    "nIL2 = '/home/lethalfang/Documents/Bina/SMWG/Manuscript_01_Files/WES/VAF.sSNV.v1.1.WES_IL_N_2.bwa.dedup.bam.txt.gz'\n",
    "nIL3 = '/home/lethalfang/Documents/Bina/SMWG/Manuscript_01_Files/WES/VAF.sSNV.v1.1.WES_IL_N_3.bwa.dedup.bam.txt.gz'\n",
    "nIL4 = '/home/lethalfang/Documents/Bina/SMWG/Manuscript_01_Files/WES/VAF.sSNV.v1.1.WES_IL_N_4.bwa.dedup.bam.txt.gz'\n",
    "nIL5 = '/home/lethalfang/Documents/Bina/SMWG/Manuscript_01_Files/WES/VAF.sSNV.v1.1.WES_IL_N_5.bwa.dedup.bam.txt.gz'\n",
    "nIL6 = '/home/lethalfang/Documents/Bina/SMWG/Manuscript_01_Files/WES/VAF.sSNV.v1.1.WES_IL_N_6.bwa.dedup.bam.txt.gz'\n",
    "nLL1 = '/home/lethalfang/Documents/Bina/SMWG/Manuscript_01_Files/WES/VAF.sSNV.v1.1.WES_LL_N_1.bwa.dedup.bam.txt.gz'\n",
    "nNC1 = '/home/lethalfang/Documents/Bina/SMWG/Manuscript_01_Files/WES/VAF.sSNV.v1.1.WES_NC_N_1.bwa.dedup.bam.txt.gz'\n",
    "nNV1 = '/home/lethalfang/Documents/Bina/SMWG/Manuscript_01_Files/WES/VAF.sSNV.v1.1.WES_NV_N_1.bwa.dedup.bam.txt.gz'\n",
    "nNV2 = '/home/lethalfang/Documents/Bina/SMWG/Manuscript_01_Files/WES/VAF.sSNV.v1.1.WES_NV_N_2.bwa.dedup.bam.txt.gz'\n",
    "nNV3 = '/home/lethalfang/Documents/Bina/SMWG/Manuscript_01_Files/WES/VAF.sSNV.v1.1.WES_NV_N_3.bwa.dedup.bam.txt.gz'\n",
    "\n",
    "t_vafFiles = [tEA1, tEA2, tFD1, tFD2, tFD3, tIL1, tIL2, tIL3, tIL4, tIL5, tIL6, tLL1, tNC1, tNV1, tNV2, tNV3]\n",
    "n_vafFiles = [nEA1, nEA2, nFD1, nFD2, nFD3, nIL1, nIL2, nIL3, nIL4, nIL5, nIL6, nLL1, nNC1, nNV1, nNV2, nNV3]"
   ]
  },
  {
   "cell_type": "code",
   "execution_count": 51,
   "metadata": {},
   "outputs": [],
   "source": [
    "WesVafs = {}\n",
    "for file_i in t_vafFiles:\n",
    "    with genome.open_textfile(file_i) as wes:\n",
    "        line_i = wes.readline().rstrip()\n",
    "        line_i = wes.readline().rstrip()\n",
    "        \n",
    "        while line_i:\n",
    "            \n",
    "            item = line_i.split('\\t')\n",
    "            \n",
    "            variant_id = (item[0], int(item[1]), item[2], item[3])\n",
    "            \n",
    "            if variant_id not in WesVafs:\n",
    "                WesVafs[variant_id] = {'TDP': [], 'TVarDP': [], 'TVAF': [], 'NDP': [], 'NVarDP': [], 'NVAF': [] }\n",
    "                \n",
    "            WesVafs[variant_id]['TDP'].append( int(item[4]) )\n",
    "            WesVafs[variant_id]['TVarDP'].append( int(item[5]) )\n",
    "            WesVafs[variant_id]['TVAF'].append( float(item[6]) )\n",
    "            \n",
    "            line_i = wes.readline().rstrip()\n",
    "            \n",
    "\n",
    "for file_i in n_vafFiles:\n",
    "    with genome.open_textfile(file_i) as wes:\n",
    "        line_i = wes.readline().rstrip()\n",
    "        line_i = wes.readline().rstrip()\n",
    "        \n",
    "        while line_i:\n",
    "            \n",
    "            item = line_i.split('\\t')\n",
    "            \n",
    "            variant_id = (item[0], int(item[1]), item[2], item[3])\n",
    "            \n",
    "            WesVafs[variant_id]['NDP'].append( int(item[4]) )\n",
    "            WesVafs[variant_id]['NVarDP'].append( int(item[5]) )\n",
    "            WesVafs[variant_id]['NVAF'].append( float(item[6]) )\n",
    "            \n",
    "            line_i = wes.readline().rstrip()"
   ]
  },
  {
   "cell_type": "code",
   "execution_count": 52,
   "metadata": {},
   "outputs": [],
   "source": [
    "goldset_VAF = []\n",
    "wes_VAF     = []\n",
    "\n",
    "goldset_vardp = []\n",
    "goldset_refdp = []\n",
    "wes_dp        = []\n",
    "wes_vardp     = []\n",
    "wes_refdp     = []\n",
    "n_wes_vardp   = []\n",
    "n_wes_dp      = []\n",
    "\n",
    "snv_highconf     = []\n",
    "snv_medconf      = []\n",
    "snv_lowconf      = []\n",
    "snv_unclassified = []\n",
    "\n",
    "wes_snvs         = []\n",
    "\n",
    "with genome.open_textfile(truth_snv) as superset:\n",
    "    \n",
    "    while line_i.startswith('#'):\n",
    "        line_i = superset.readline().rstrip()\n",
    "    \n",
    "    for line_i in superset:\n",
    "        \n",
    "        vcf_i = genome.Vcf_line( line_i.rstrip() )\n",
    "        \n",
    "        if exome.inRegion( vcf_i.chromosome, vcf_i.position ) and ('ArmLossInNormal' not in vcf_i.info):\n",
    "            \n",
    "            variant_id = vcf_i.chromosome, vcf_i.position, vcf_i.refbase, vcf_i.altbase\n",
    "            wes_snvs.append(variant_id)\n",
    "            \n",
    "            goldset_VAF.append( float(vcf_i.get_info_value('TVAF')) )\n",
    "            \n",
    "            bwaDP = vcf_i.get_info_value('bwaDP').split(',')\n",
    "            goldset_vardp.append( int(bwaDP[0]) )\n",
    "            goldset_refdp.append( int(bwaDP[1])-int(bwaDP[0]) )\n",
    "\n",
    "            wes_VAF.append(np.median(WesVafs[variant_id]['TVAF'] ) )\n",
    "            \n",
    "            wes_dp.append(      sum(WesVafs[variant_id]['TDP'] ) )\n",
    "            wes_vardp.append(   sum(WesVafs[variant_id]['TVarDP'] ) )\n",
    "            \n",
    "            n_wes_dp.append( sum(WesVafs[variant_id]['NDP'] ) )\n",
    "            n_wes_vardp.append(    sum(WesVafs[variant_id]['NVarDP'] ) )\n",
    "            \n",
    "            if re.search(r'HighConf', vcf_i.filters):\n",
    "                snv_highconf.append( True )\n",
    "                snv_medconf.append( False )\n",
    "                snv_lowconf.append( False )\n",
    "                snv_unclassified.append( False )\n",
    "                \n",
    "            elif re.search(r'MedConf', vcf_i.filters):\n",
    "                snv_highconf.append( False )\n",
    "                snv_medconf.append( True )\n",
    "                snv_lowconf.append( False )\n",
    "                snv_unclassified.append( False )\n",
    "                \n",
    "            elif re.search(r'LowConf', vcf_i.filters):\n",
    "                snv_highconf.append( False )\n",
    "                snv_medconf.append( False )\n",
    "                snv_lowconf.append( True )\n",
    "                snv_unclassified.append( False )\n",
    "                \n",
    "            elif re.search(r'Unclassified', vcf_i.filters):\n",
    "                snv_highconf.append(  False )\n",
    "                snv_medconf.append( False )\n",
    "                snv_lowconf.append( False )\n",
    "                snv_unclassified.append( True )"
   ]
  },
  {
   "cell_type": "code",
   "execution_count": null,
   "metadata": {},
   "outputs": [],
   "source": []
  },
  {
   "cell_type": "code",
   "execution_count": 53,
   "metadata": {},
   "outputs": [],
   "source": [
    "snv_highconf     = np.array(snv_highconf, dtype=bool)\n",
    "snv_medconf      = np.array(snv_medconf, dtype=bool)\n",
    "snv_lowconf      = np.array(snv_lowconf, dtype=bool)\n",
    "snv_unclassified = np.array(snv_unclassified, dtype=bool)\n",
    "\n",
    "goldset_VAF   = np.array(goldset_VAF)\n",
    "wes_VAF       = np.array(wes_VAF)\n",
    "\n",
    "goldset_vardp = np.array(goldset_vardp)\n",
    "goldset_refdp = np.array(goldset_refdp)\n",
    "wes_vardp     = np.array(wes_vardp)\n",
    "wes_dp        = np.array(wes_dp)\n",
    "n_wes_vardp   = np.array(n_wes_vardp)\n",
    "n_wes_dp      = np.array(n_wes_dp)"
   ]
  },
  {
   "cell_type": "code",
   "execution_count": 54,
   "metadata": {},
   "outputs": [],
   "source": [
    "snvValidated = []\n",
    "snvInvalidated = []\n",
    "snvUnknown = []\n",
    "\n",
    "for i, yes in enumerate(wes_VAF):\n",
    "        \n",
    "    # Simple rule to decide if validated or not:\n",
    "    if wes_dp[i] >= 100 and n_wes_dp[i] >= 100:\n",
    "            \n",
    "        # VALIDATED\n",
    "        # If tumor DP low, at least 2 variants. \n",
    "        # If tumor DP>50, VAF at least 4% (need more than 2).\n",
    "        if (wes_vardp[i] >= 32) and (wes_vardp[i]/wes_dp[i] > 10*n_wes_vardp[i]/n_wes_dp[i]):\n",
    "            snvValidated.append(True)\n",
    "            snvInvalidated.append(False)\n",
    "            snvUnknown.append(False)            \n",
    "            \n",
    "        # INVALIDATED (Germline Signal)\n",
    "        elif (n_wes_vardp[i] >= 0.02*n_wes_dp[i]):\n",
    "            snvValidated.append(False)\n",
    "            snvInvalidated.append(True)\n",
    "            snvUnknown.append(False)\n",
    "\n",
    "        # INVALIDATED (NO variant signal)\n",
    "        # Expect variant DP >= 10, but gets one or less.\n",
    "        elif wes_vardp[i] <= 1 and wes_dp[i]*goldset_VAF[i] >= 10:\n",
    "            snvValidated.append(False)\n",
    "            snvInvalidated.append(True)\n",
    "            snvUnknown.append(False)\n",
    "            \n",
    "        elif wes_vardp[i] <= 5 and wes_dp[i]*goldset_VAF[i] >= 50:\n",
    "            snvValidated.append(False)\n",
    "            snvInvalidated.append(True)\n",
    "            snvUnknown.append(False)\n",
    "\n",
    "        # UNKNOWN\n",
    "        else:\n",
    "            snvValidated.append(False)\n",
    "            snvInvalidated.append(False)\n",
    "            snvUnknown.append(True)\n",
    "\n",
    "    # UNKNOWN  \n",
    "    else:\n",
    "        snvValidated.append(False)\n",
    "        snvInvalidated.append(False)\n",
    "        snvUnknown.append(True)\n",
    "\n",
    "snvValidated   = np.array(snvValidated)\n",
    "snvInvalidated = np.array(snvInvalidated)\n",
    "snvUnknown     = np.array(snvUnknown)"
   ]
  },
  {
   "cell_type": "code",
   "execution_count": 55,
   "metadata": {},
   "outputs": [],
   "source": [
    "for i, variant_i in enumerate(wes_snvs):\n",
    "    \n",
    "    if variant_i not in validationKeeper:\n",
    "        validationKeeper[variant_i] = {}\n",
    "        \n",
    "    if snv_highconf[i]:\n",
    "        validationKeeper[variant_i]['confLabel'] = 'HighConf'\n",
    "    elif snv_medconf[i]:\n",
    "        validationKeeper[variant_i]['confLabel'] = 'MedConf'\n",
    "    elif snv_lowconf[i]:\n",
    "        validationKeeper[variant_i]['confLabel'] = 'LowConf'\n",
    "    elif snv_unclassified[i]:\n",
    "        validationKeeper[variant_i]['confLabel'] = 'Unclassified'\n",
    "    else:\n",
    "        print(variant_i)\n",
    "        \n",
    "    if snvValidated[i]:\n",
    "        validationKeeper[variant_i]['hiseqWES'] = 'YES'\n",
    "    elif snvInvalidated[i]:\n",
    "        validationKeeper[variant_i]['hiseqWES'] = 'NO'\n",
    "    elif snvUnknown[i]:\n",
    "        validationKeeper[variant_i]['hiseqWES'] = 'UNKNOWN'\n",
    "    else:\n",
    "        print(variant_i)    "
   ]
  },
  {
   "cell_type": "code",
   "execution_count": 56,
   "metadata": {},
   "outputs": [
    {
     "data": {
      "image/png": "[encoded data removed]",
      "text/plain": [
       "<Figure size 576x432 with 1 Axes>"
      ]
     },
     "metadata": {
      "needs_background": "light"
     },
     "output_type": "display_data"
    }
   ],
   "source": [
    "plt.figure(figsize=(8,6))\n",
    "\n",
    "ms=36\n",
    "\n",
    "# plt.scatter(0,1, s=ms*1.8, color=unclassifiedColor, marker='1' )\n",
    "# plt.scatter(0,1, s=ms*1.8, color=lowConfColor,      marker='2' )\n",
    "# plt.scatter(0,1, s=ms*1.8, color=medConfColor,      marker='+' )\n",
    "# plt.scatter(0,1, s=ms, color=highConfColor,     marker='x')\n",
    "# plt.scatter(0,1, s=ms, color='white')\n",
    "\n",
    "# plt.legend(('Unclassified', 'LowConf', 'MedConf',  'HighConf',  ), fontsize=12, loc='upper left')\n",
    "\n",
    "\n",
    "plt.scatter(goldset_VAF[ np.all( (snv_unclassified, snvValidated), axis=0 ) ], \\\n",
    "            wes_VAF[     np.all( (snv_unclassified, snvValidated), axis=0 ) ], s=ms*1.3, color=unclassifiedColor, alpha=0.7, marker='v')\n",
    "\n",
    "plt.scatter(goldset_VAF[ np.all( (snv_lowconf, snvValidated), axis=0 ) ], \\\n",
    "            wes_VAF[     np.all( (snv_lowconf, snvValidated), axis=0 ) ] , s=ms*1.3, color=lowConfColor,  alpha=1, marker='^' )\n",
    "\n",
    "plt.scatter(goldset_VAF[ np.all( (snv_medconf, snvValidated), axis=0 ) ], \\\n",
    "            wes_VAF[     np.all( (snv_medconf, snvValidated), axis=0 ) ] , s=ms, color=medConfColor,  alpha=1, marker='s' )\n",
    "\n",
    "plt.scatter(goldset_VAF[ np.all( (snv_highconf, snvValidated), axis=0 ) ], \\\n",
    "            wes_VAF[     np.all( (snv_highconf, snvValidated), axis=0 ) ], s=ms, color=highConfColor, alpha=0.7, marker='o' )\n",
    "\n",
    "\n",
    "\n",
    "\n",
    "plt.scatter(goldset_VAF[ np.all( (snv_unclassified, snvInvalidated), axis=0 ) ], \\\n",
    "            wes_VAF[     np.all( (snv_unclassified, snvInvalidated), axis=0 ) ], s=ms*1.3, color=unclassifiedColor, alpha=0.7, facecolors='none', marker='v')\n",
    "\n",
    "plt.scatter(goldset_VAF[ np.all( (snv_lowconf, snvInvalidated), axis=0 ) ], \\\n",
    "            wes_VAF[     np.all( (snv_lowconf, snvInvalidated), axis=0 ) ], s=ms*1.3, color=lowConfColor,  facecolors='none', marker='^')\n",
    "\n",
    "plt.scatter(goldset_VAF[ np.all( (snv_medconf, snvInvalidated), axis=0 ) ], \\\n",
    "            wes_VAF[     np.all( (snv_medconf, snvInvalidated), axis=0 ) ], s=ms, color=medConfColor,  facecolors='none', marker='s')\n",
    "\n",
    "plt.scatter(goldset_VAF[ np.all( (snv_highconf, snvInvalidated), axis=0 ) ], \\\n",
    "            wes_VAF[     np.all( (snv_highconf, snvInvalidated), axis=0 ) ], s=ms, color=highConfColor, facecolors='none', marker='o')\n",
    "\n",
    "\n",
    "\n",
    "# plt.scatter(goldset_VAF[ np.all( (snv_unclassified, snvUnknown), axis=0 ) ], \\\n",
    "#             wes_VAF[     np.all( (snv_unclassified, snvUnknown), axis=0 ) ], s=ms*1.8, color=unclassifiedColor, alpha=0.7, marker='1')\n",
    "\n",
    "# plt.scatter(goldset_VAF[ np.all( (snv_lowconf, snvUnknown), axis=0 ) ], \\\n",
    "#             wes_VAF[     np.all( (snv_lowconf, snvUnknown), axis=0 ) ], s=ms*1.8, color=lowConfColor,  marker='2')\n",
    "\n",
    "# plt.scatter(goldset_VAF[ np.all( (snv_medconf, snvUnknown), axis=0 ) ], \\\n",
    "#             wes_VAF[     np.all( (snv_medconf, snvUnknown), axis=0 ) ], s=ms*1.8,  color=medConfColor,  marker='+')\n",
    "\n",
    "# plt.scatter(goldset_VAF[ np.all( (snv_highconf, snvUnknown), axis=0 ) ], \\\n",
    "#             wes_VAF[     np.all( (snv_highconf, snvUnknown), axis=0 ) ], s=ms, color=highConfColor, marker='x')\n",
    "\n",
    "\n",
    "x_range     = []\n",
    "lower_bound = []\n",
    "upper_bound = []\n",
    "\n",
    "vaf_i = 0.001\n",
    "while vaf_i < 1:\n",
    "    a, b = scipystats.binom.interval(0.95, 100,vaf_i)\n",
    "    x_range.append(vaf_i)\n",
    "    lower_bound.append(a/100)\n",
    "    upper_bound.append(b/100)\n",
    "    vaf_i += 0.001\n",
    "    \n",
    "plt.plot(x_range, lower_bound, color='gray', linestyle = 'dashed')\n",
    "plt.plot(x_range, upper_bound, color='gray', linestyle = 'dashed')\n",
    "\n",
    "plt.xlabel('VAF (WGS Set)', size=12)\n",
    "plt.ylabel('VAF (WES Set)', size=12)\n",
    "\n",
    "plt.savefig('../Main_Figures/Fig_2f_wes_cross_validation.pdf', bbox_inches='tight')"
   ]
  },
  {
   "cell_type": "code",
   "execution_count": 57,
   "metadata": {},
   "outputs": [
    {
     "name": "stdout",
     "output_type": "stream",
     "text": [
      "1089 HighConf\t(1088/1089) 99.9%\t(1088/1088) 100.0%\t99.9%\n",
      "77 MedConf\t(74/77) 96.1%\t(74/74) 100.0%\t96.1%\n",
      "422 LowConf\t(244/422) 57.8%\t(204/244) 83.6%\t48.3%\n",
      "1162 Unclassified\t(538/1162) 46.3%\t(72/538) 13.4%\t6.2%\n",
      "1089\t(1088/1089) 99.9%\t(1088/1088) 100.0%\t(1088/1089) 99.9%\n",
      "77\t(74/77) 96.1%\t(74/74) 100.0%\t(74/77) 96.1%\n",
      "422\t(244/422) 57.8%\t(204/244) 83.6%\t(204/422) 48.3%\n",
      "1162\t(538/1162) 46.3%\t(72/538) 13.4%\t(72/1162) 6.2%\n"
     ]
    }
   ],
   "source": [
    "for conf_i, label_i in zip((snv_highconf, snv_medconf, snv_lowconf, snv_unclassified), ('HighConf', 'MedConf', 'LowConf', 'Unclassified')):\n",
    "    \n",
    "    total_i            = sum(conf_i)\n",
    "    total_validated    = sum(np.all( (conf_i, snvValidated), axis=0 ))\n",
    "    total_invalidated  = sum(np.all( (conf_i, snvInvalidated), axis=0 ))\n",
    "    validate_rate      = total_validated / (total_validated + total_invalidated)\n",
    "    interpretable_rate = (total_validated + total_invalidated)/total_i\n",
    "\n",
    "    totalStats['snv'][label_i]['total']         += total_i\n",
    "    totalStats['snv'][label_i]['interpretable'] += (total_validated+total_invalidated)\n",
    "    totalStats['snv'][label_i]['validated']     += total_validated\n",
    "    totalStats['snv'][label_i]['notValidated']  += total_invalidated\n",
    "\n",
    "    print('%g %s\\t(%i/%i) %.1f%%\\t(%i/%i) %.1f%%\\t%.1f%%' % (total_i, label_i, total_validated+total_invalidated, total_i, 100*interpretable_rate, total_validated, total_validated + total_invalidated, 100*validate_rate, 100*interpretable_rate*validate_rate) )\n",
    "    \n",
    "    \n",
    "for conf_i, label_i in zip((snv_highconf, snv_medconf, snv_lowconf, snv_unclassified), ('HighConf', 'MedConf', 'LowConf', 'Unclassified')):\n",
    "    \n",
    "    total_i            = sum(conf_i)\n",
    "    total_validated    = sum(np.all( (conf_i, snvValidated), axis=0 ))\n",
    "    total_invalidated  = sum(np.all( (conf_i, snvInvalidated), axis=0 ))\n",
    "    validate_rate      = total_validated / (total_validated + total_invalidated)\n",
    "    interpretable_rate = (total_validated + total_invalidated)/total_i\n",
    "    \n",
    "    print('%g\\t(%i/%i) %.1f%%\\t(%i/%i) %.1f%%\\t(%i/%i) %.1f%%' % (total_i, total_validated+total_invalidated, total_i, 100*interpretable_rate, total_validated, total_validated + total_invalidated, 100*validate_rate , total_validated, total_i, 100*(total_validated/total_i) ))"
   ]
  },
  {
   "cell_type": "code",
   "execution_count": 58,
   "metadata": {},
   "outputs": [
    {
     "name": "stdout",
     "output_type": "stream",
     "text": [
      "0.9966783655856332\n",
      "0.9869207567642858\n",
      "0.8887485662570443\n",
      "0.9047426046372589\n"
     ]
    }
   ],
   "source": [
    "print( R(goldset_VAF[snv_highconf], wes_VAF[snv_highconf]) )\n",
    "print( R(goldset_VAF[snv_medconf], wes_VAF[snv_medconf]) )\n",
    "print( R(goldset_VAF[snv_lowconf], wes_VAF[snv_lowconf]) )\n",
    "print( R(goldset_VAF[snv_unclassified], wes_VAF[snv_unclassified]) )"
   ]
  },
  {
   "cell_type": "code",
   "execution_count": null,
   "metadata": {},
   "outputs": [],
   "source": []
  },
  {
   "cell_type": "code",
   "execution_count": null,
   "metadata": {},
   "outputs": [],
   "source": []
  },
  {
   "cell_type": "code",
   "execution_count": null,
   "metadata": {},
   "outputs": [],
   "source": []
  },
  {
   "cell_type": "code",
   "execution_count": null,
   "metadata": {},
   "outputs": [],
   "source": []
  },
  {
   "cell_type": "code",
   "execution_count": 59,
   "metadata": {},
   "outputs": [],
   "source": [
    "tEA1 = '/home/lethalfang/Documents/Bina/SMWG/Manuscript_01_Files/WES/VAF.sINDEL.v1.1.WES_EA_T_1.bwa.dedup.bam.txt.gz'\n",
    "tEA2 = '/home/lethalfang/Documents/Bina/SMWG/Manuscript_01_Files/WES/VAF.sINDEL.v1.1.WES_EA_T_2.bwa.dedup.bam.txt.gz'\n",
    "tFD1 = '/home/lethalfang/Documents/Bina/SMWG/Manuscript_01_Files/WES/VAF.sINDEL.v1.1.WES_FD_T_1.bwa.dedup.bam.txt.gz'\n",
    "tFD2 = '/home/lethalfang/Documents/Bina/SMWG/Manuscript_01_Files/WES/VAF.sINDEL.v1.1.WES_FD_T_2.bwa.dedup.bam.txt.gz'\n",
    "tFD3 = '/home/lethalfang/Documents/Bina/SMWG/Manuscript_01_Files/WES/VAF.sINDEL.v1.1.WES_FD_T_3.bwa.dedup.bam.txt.gz'\n",
    "tIL1 = '/home/lethalfang/Documents/Bina/SMWG/Manuscript_01_Files/WES/VAF.sINDEL.v1.1.WES_IL_T_1.bwa.dedup.bam.txt.gz'\n",
    "tIL2 = '/home/lethalfang/Documents/Bina/SMWG/Manuscript_01_Files/WES/VAF.sINDEL.v1.1.WES_IL_T_2.bwa.dedup.bam.txt.gz'\n",
    "tIL3 = '/home/lethalfang/Documents/Bina/SMWG/Manuscript_01_Files/WES/VAF.sINDEL.v1.1.WES_IL_T_3.bwa.dedup.bam.txt.gz'\n",
    "tIL4 = '/home/lethalfang/Documents/Bina/SMWG/Manuscript_01_Files/WES/VAF.sINDEL.v1.1.WES_IL_T_4.bwa.dedup.bam.txt.gz'\n",
    "tIL5 = '/home/lethalfang/Documents/Bina/SMWG/Manuscript_01_Files/WES/VAF.sINDEL.v1.1.WES_IL_T_5.bwa.dedup.bam.txt.gz'\n",
    "tIL6 = '/home/lethalfang/Documents/Bina/SMWG/Manuscript_01_Files/WES/VAF.sINDEL.v1.1.WES_IL_T_6.bwa.dedup.bam.txt.gz'\n",
    "tLL1 = '/home/lethalfang/Documents/Bina/SMWG/Manuscript_01_Files/WES/VAF.sINDEL.v1.1.WES_LL_T_1.bwa.dedup.bam.txt.gz'\n",
    "tNC1 = '/home/lethalfang/Documents/Bina/SMWG/Manuscript_01_Files/WES/VAF.sINDEL.v1.1.WES_NC_T_1.bwa.dedup.bam.txt.gz'\n",
    "tNV1 = '/home/lethalfang/Documents/Bina/SMWG/Manuscript_01_Files/WES/VAF.sINDEL.v1.1.WES_NV_T_1.bwa.dedup.bam.txt.gz'\n",
    "tNV2 = '/home/lethalfang/Documents/Bina/SMWG/Manuscript_01_Files/WES/VAF.sINDEL.v1.1.WES_NV_T_2.bwa.dedup.bam.txt.gz'\n",
    "tNV3 = '/home/lethalfang/Documents/Bina/SMWG/Manuscript_01_Files/WES/VAF.sINDEL.v1.1.WES_NV_T_3.bwa.dedup.bam.txt.gz'\n",
    "\n",
    "nEA1 = '/home/lethalfang/Documents/Bina/SMWG/Manuscript_01_Files/WES/VAF.sINDEL.v1.1.WES_EA_N_1.bwa.dedup.bam.txt.gz'\n",
    "nEA2 = '/home/lethalfang/Documents/Bina/SMWG/Manuscript_01_Files/WES/VAF.sINDEL.v1.1.WES_EA_N_2.bwa.dedup.bam.txt.gz'\n",
    "nFD1 = '/home/lethalfang/Documents/Bina/SMWG/Manuscript_01_Files/WES/VAF.sINDEL.v1.1.WES_FD_N_1.bwa.dedup.bam.txt.gz'\n",
    "nFD2 = '/home/lethalfang/Documents/Bina/SMWG/Manuscript_01_Files/WES/VAF.sINDEL.v1.1.WES_FD_N_2.bwa.dedup.bam.txt.gz'\n",
    "nFD3 = '/home/lethalfang/Documents/Bina/SMWG/Manuscript_01_Files/WES/VAF.sINDEL.v1.1.WES_FD_N_3.bwa.dedup.bam.txt.gz'\n",
    "nIL1 = '/home/lethalfang/Documents/Bina/SMWG/Manuscript_01_Files/WES/VAF.sINDEL.v1.1.WES_IL_N_1.bwa.dedup.bam.txt.gz'\n",
    "nIL2 = '/home/lethalfang/Documents/Bina/SMWG/Manuscript_01_Files/WES/VAF.sINDEL.v1.1.WES_IL_N_2.bwa.dedup.bam.txt.gz'\n",
    "nIL3 = '/home/lethalfang/Documents/Bina/SMWG/Manuscript_01_Files/WES/VAF.sINDEL.v1.1.WES_IL_N_3.bwa.dedup.bam.txt.gz'\n",
    "nIL4 = '/home/lethalfang/Documents/Bina/SMWG/Manuscript_01_Files/WES/VAF.sINDEL.v1.1.WES_IL_N_4.bwa.dedup.bam.txt.gz'\n",
    "nIL5 = '/home/lethalfang/Documents/Bina/SMWG/Manuscript_01_Files/WES/VAF.sINDEL.v1.1.WES_IL_N_5.bwa.dedup.bam.txt.gz'\n",
    "nIL6 = '/home/lethalfang/Documents/Bina/SMWG/Manuscript_01_Files/WES/VAF.sINDEL.v1.1.WES_IL_N_6.bwa.dedup.bam.txt.gz'\n",
    "nLL1 = '/home/lethalfang/Documents/Bina/SMWG/Manuscript_01_Files/WES/VAF.sINDEL.v1.1.WES_LL_N_1.bwa.dedup.bam.txt.gz'\n",
    "nNC1 = '/home/lethalfang/Documents/Bina/SMWG/Manuscript_01_Files/WES/VAF.sINDEL.v1.1.WES_NC_N_1.bwa.dedup.bam.txt.gz'\n",
    "nNV1 = '/home/lethalfang/Documents/Bina/SMWG/Manuscript_01_Files/WES/VAF.sINDEL.v1.1.WES_NV_N_1.bwa.dedup.bam.txt.gz'\n",
    "nNV2 = '/home/lethalfang/Documents/Bina/SMWG/Manuscript_01_Files/WES/VAF.sINDEL.v1.1.WES_NV_N_2.bwa.dedup.bam.txt.gz'\n",
    "nNV3 = '/home/lethalfang/Documents/Bina/SMWG/Manuscript_01_Files/WES/VAF.sINDEL.v1.1.WES_NV_N_3.bwa.dedup.bam.txt.gz'\n",
    "\n",
    "t_vafFiles = [tEA1, tEA2, tFD1, tFD2, tFD3, tIL1, tIL2, tIL3, tIL4, tIL5, tIL6, tLL1, tNC1, tNV1, tNV2, tNV3]\n",
    "n_vafFiles = [nEA1, nEA2, nFD1, nFD2, nFD3, nIL1, nIL2, nIL3, nIL4, nIL5, nIL6, nLL1, nNC1, nNV1, nNV2, nNV3]"
   ]
  },
  {
   "cell_type": "code",
   "execution_count": 60,
   "metadata": {},
   "outputs": [],
   "source": [
    "WesVafs = {}\n",
    "for file_i in t_vafFiles:\n",
    "    with genome.open_textfile(file_i) as wes:\n",
    "        line_i = wes.readline().rstrip()\n",
    "        line_i = wes.readline().rstrip()\n",
    "        \n",
    "        while line_i:\n",
    "            \n",
    "            item = line_i.split('\\t')\n",
    "            \n",
    "            variant_id = (item[0], int(item[1]), item[2], item[3])\n",
    "            \n",
    "            if variant_id not in WesVafs:\n",
    "                WesVafs[variant_id] = {'TDP': [], 'TVarDP': [], 'TVAF': [], 'NDP': [], 'NVarDP': [], 'NVAF': [] }\n",
    "                \n",
    "            WesVafs[variant_id]['TDP'].append( int(item[4]) )\n",
    "            WesVafs[variant_id]['TVarDP'].append( int(item[5]) )\n",
    "            WesVafs[variant_id]['TVAF'].append( float(item[6]) )\n",
    "            \n",
    "            line_i = wes.readline().rstrip()\n",
    "            \n",
    "\n",
    "for file_i in n_vafFiles:\n",
    "    with genome.open_textfile(file_i) as wes:\n",
    "        line_i = wes.readline().rstrip()\n",
    "        line_i = wes.readline().rstrip()\n",
    "        \n",
    "        while line_i:\n",
    "            \n",
    "            item = line_i.split('\\t')\n",
    "            \n",
    "            variant_id = (item[0], int(item[1]), item[2], item[3])\n",
    "            \n",
    "            WesVafs[variant_id]['NDP'].append( int(item[4]) )\n",
    "            WesVafs[variant_id]['NVarDP'].append( int(item[5]) )\n",
    "            WesVafs[variant_id]['NVAF'].append( float(item[6]) )\n",
    "            \n",
    "            line_i = wes.readline().rstrip()"
   ]
  },
  {
   "cell_type": "code",
   "execution_count": null,
   "metadata": {},
   "outputs": [],
   "source": []
  },
  {
   "cell_type": "code",
   "execution_count": 61,
   "metadata": {},
   "outputs": [],
   "source": [
    "goldset_VAF = []\n",
    "wes_VAF     = []\n",
    "\n",
    "wes_dp        = []\n",
    "wes_vardp     = []\n",
    "wes_refdp     = []\n",
    "n_wes_vardp   = []\n",
    "n_wes_dp      = []\n",
    "\n",
    "indel_highconf     = []\n",
    "indel_medconf      = []\n",
    "indel_lowconf      = []\n",
    "indel_unclassified = []\n",
    "\n",
    "wes_indels         = []\n",
    "\n",
    "with genome.open_textfile(truth_indel) as superset:\n",
    "    \n",
    "    while line_i.startswith('#'):\n",
    "        line_i = superset.readline().rstrip()\n",
    "    \n",
    "    for line_i in superset:\n",
    "        \n",
    "        vcf_i = genome.Vcf_line( line_i.rstrip() )\n",
    "        \n",
    "        if exome.inRegion( vcf_i.chromosome, vcf_i.position ) and ('ArmLossInNormal' not in vcf_i.info):\n",
    "            \n",
    "            variant_id = vcf_i.chromosome, vcf_i.position, vcf_i.refbase, vcf_i.altbase\n",
    "            wes_indels.append(variant_id)\n",
    "            \n",
    "            goldset_VAF.append( float(vcf_i.get_info_value('TVAF')) )\n",
    "            \n",
    "            wes_VAF.append( np.median(WesVafs[variant_id]['TVAF'] ) )\n",
    "            \n",
    "            wes_dp.append( sum(WesVafs[variant_id]['TDP'] ) )\n",
    "            wes_vardp.append( sum(WesVafs[variant_id]['TVarDP'] ) )\n",
    "            \n",
    "            n_wes_dp.append( sum(WesVafs[variant_id]['NDP'] ) )\n",
    "            n_wes_vardp.append( sum(WesVafs[variant_id]['NVarDP'] ) )\n",
    "            \n",
    "            if re.search(r'HighConf', vcf_i.filters):\n",
    "                indel_highconf.append( True )\n",
    "                indel_medconf.append( False )\n",
    "                indel_lowconf.append( False )\n",
    "                indel_unclassified.append( False )\n",
    "                \n",
    "            elif re.search(r'MedConf', vcf_i.filters):\n",
    "                indel_highconf.append( False )\n",
    "                indel_medconf.append( True )\n",
    "                indel_lowconf.append( False )\n",
    "                indel_unclassified.append( False )\n",
    "                \n",
    "            elif re.search(r'LowConf', vcf_i.filters):\n",
    "                indel_highconf.append( False )\n",
    "                indel_medconf.append( False )\n",
    "                indel_lowconf.append( True )\n",
    "                indel_unclassified.append( False )\n",
    "                \n",
    "            elif re.search(r'Unclassified', vcf_i.filters):\n",
    "                indel_highconf.append(  False )\n",
    "                indel_medconf.append( False )\n",
    "                indel_lowconf.append( False )\n",
    "                indel_unclassified.append( True )"
   ]
  },
  {
   "cell_type": "code",
   "execution_count": 62,
   "metadata": {},
   "outputs": [],
   "source": [
    "indel_highconf     = np.array(indel_highconf, dtype=bool)\n",
    "indel_medconf      = np.array(indel_medconf, dtype=bool)\n",
    "indel_lowconf      = np.array(indel_lowconf, dtype=bool)\n",
    "indel_unclassified = np.array(indel_unclassified, dtype=bool)\n",
    "\n",
    "goldset_VAF   = np.array(goldset_VAF)\n",
    "wes_VAF       = np.array(wes_VAF)\n",
    "\n",
    "wes_vardp     = np.array(wes_vardp)\n",
    "wes_refdp     = np.array(wes_refdp)\n",
    "wes_dp        = np.array(wes_dp)\n",
    "n_wes_vardp   = np.array(n_wes_vardp)\n",
    "n_wes_dp      = np.array(n_wes_dp)"
   ]
  },
  {
   "cell_type": "code",
   "execution_count": 63,
   "metadata": {},
   "outputs": [],
   "source": [
    "indelValidated = []\n",
    "indelInvalidated = []\n",
    "indelUnknown = []\n",
    "\n",
    "for i, yes in enumerate(wes_VAF):\n",
    "        \n",
    "    # Simple rule to decide if validated or not:\n",
    "    if wes_dp[i] >= 100 and n_wes_dp[i] >= 100:\n",
    "            \n",
    "        # VALIDATED\n",
    "        # If tumor DP low, at least 2 variants. \n",
    "        # If tumor DP>50, VAF at least 4% (need more than 2).\n",
    "        if (wes_vardp[i] >= 32) and (wes_vardp[i]/wes_dp[i] > 10*n_wes_vardp[i]/n_wes_dp[i]):\n",
    "            indelValidated.append(True)\n",
    "            indelInvalidated.append(False)\n",
    "            indelUnknown.append(False)            \n",
    "            \n",
    "        # INVALIDATED (Germline Signal)\n",
    "        elif (n_wes_vardp[i] >= 0.02*n_wes_dp[i]):\n",
    "            indelValidated.append(False)\n",
    "            indelInvalidated.append(True)\n",
    "            indelUnknown.append(False)\n",
    "\n",
    "        # INVALIDATED (NO variant signal)\n",
    "        # Expect variant DP >= 10, but gets one or less.\n",
    "        elif wes_vardp[i] <= 1 and wes_dp[i]*goldset_VAF[i] >= 10:\n",
    "            indelValidated.append(False)\n",
    "            indelInvalidated.append(True)\n",
    "            indelUnknown.append(False)\n",
    "            \n",
    "        elif wes_vardp[i] <= 5 and wes_dp[i]*goldset_VAF[i] >= 50:\n",
    "            indelValidated.append(False)\n",
    "            indelInvalidated.append(True)\n",
    "            indelUnknown.append(False)\n",
    "\n",
    "        # UNKNOWN\n",
    "        else:\n",
    "            indelValidated.append(False)\n",
    "            indelInvalidated.append(False)\n",
    "            indelUnknown.append(True)\n",
    "\n",
    "    # UNKNOWN  \n",
    "    else:\n",
    "        indelValidated.append(False)\n",
    "        indelInvalidated.append(False)\n",
    "        indelUnknown.append(True)\n",
    "\n",
    "indelValidated   = np.array(indelValidated)\n",
    "indelInvalidated = np.array(indelInvalidated)\n",
    "indelUnknown     = np.array(indelUnknown)"
   ]
  },
  {
   "cell_type": "code",
   "execution_count": 64,
   "metadata": {},
   "outputs": [],
   "source": [
    "for i, variant_i in enumerate(wes_indels):\n",
    "    \n",
    "    if variant_i not in validationKeeper:\n",
    "        validationKeeper[variant_i] = {}\n",
    "        \n",
    "    if indel_highconf[i]:\n",
    "        validationKeeper[variant_i]['confLabel'] = 'HighConf'\n",
    "    elif indel_medconf[i]:\n",
    "        validationKeeper[variant_i]['confLabel'] = 'MedConf'\n",
    "    elif indel_lowconf[i]:\n",
    "        validationKeeper[variant_i]['confLabel'] = 'LowConf'\n",
    "    elif indel_unclassified[i]:\n",
    "        validationKeeper[variant_i]['confLabel'] = 'Unclassified'\n",
    "    else:\n",
    "        print(variant_i)\n",
    "        \n",
    "    if indelValidated[i]:\n",
    "        validationKeeper[variant_i]['hiseqWES'] = 'YES'\n",
    "    elif indelInvalidated[i]:\n",
    "        validationKeeper[variant_i]['hiseqWES'] = 'NO'\n",
    "    elif indelUnknown[i]:\n",
    "        validationKeeper[variant_i]['hiseqWES'] = 'UNKNOWN'\n",
    "    else:\n",
    "        print(variant_i)    "
   ]
  },
  {
   "cell_type": "code",
   "execution_count": 65,
   "metadata": {},
   "outputs": [
    {
     "data": {
      "text/plain": [
       "{'confLabel': 'LowConf', 'ampliSeq': 'UNKNOWN'}"
      ]
     },
     "execution_count": 65,
     "metadata": {},
     "output_type": "execute_result"
    }
   ],
   "source": [
    "validationKeeper[('chr11', 34844360, 'C', 'A')]"
   ]
  },
  {
   "cell_type": "code",
   "execution_count": 66,
   "metadata": {},
   "outputs": [
    {
     "data": {
      "image/png": "[encoded data removed]",
      "text/plain": [
       "<Figure size 576x432 with 1 Axes>"
      ]
     },
     "metadata": {
      "needs_background": "light"
     },
     "output_type": "display_data"
    }
   ],
   "source": [
    "plt.figure(figsize=(8,6))\n",
    "\n",
    "\n",
    "ms=36\n",
    "\n",
    "# plt.scatter(0,1, s=ms*1.8, color=unclassifiedColor, marker='1' )\n",
    "# plt.scatter(0,1, s=ms*1.8, color=lowConfColor,      marker='2' )\n",
    "# plt.scatter(0,1, s=ms*1.8, color=medConfColor,      marker='+' )\n",
    "# plt.scatter(0,1, s=ms, color=highConfColor,     marker='x')\n",
    "# plt.scatter(0,1, s=markersize, color='white')\n",
    "\n",
    "# plt.legend(('Unclassified', 'LowConf', 'MedConf',  'HighConf',  ), fontsize=12, loc='upper left')\n",
    "\n",
    "\n",
    "plt.scatter(goldset_VAF[ np.all( (indel_unclassified, indelValidated), axis=0 ) ], \\\n",
    "            wes_VAF[     np.all( (indel_unclassified, indelValidated), axis=0 ) ], s=ms*1.3, color=unclassifiedColor, alpha=0.7, marker='v')\n",
    "\n",
    "plt.scatter(goldset_VAF[ np.all( (indel_lowconf, indelValidated), axis=0 ) ], \\\n",
    "            wes_VAF[     np.all( (indel_lowconf, indelValidated), axis=0 ) ] , s=ms*1.3, color=lowConfColor,  alpha=1, marker='^' )\n",
    "\n",
    "plt.scatter(goldset_VAF[ np.all( (indel_medconf, indelValidated), axis=0 ) ], \\\n",
    "            wes_VAF[     np.all( (indel_medconf, indelValidated), axis=0 ) ] , s=ms, color=medConfColor,  alpha=1, marker='s' )\n",
    "\n",
    "plt.scatter(goldset_VAF[ np.all( (indel_highconf, indelValidated), axis=0 ) ], \\\n",
    "            wes_VAF[     np.all( (indel_highconf, indelValidated), axis=0 ) ], s=ms, color=highConfColor, alpha=0.7, marker='o' )\n",
    "\n",
    "\n",
    "\n",
    "\n",
    "plt.scatter(goldset_VAF[ np.all( (indel_unclassified, indelInvalidated), axis=0 ) ], \\\n",
    "            wes_VAF[     np.all( (indel_unclassified, indelInvalidated), axis=0 ) ], s=ms*1.3, color=unclassifiedColor, alpha=0.7, facecolors='none', marker='v')\n",
    "\n",
    "plt.scatter(goldset_VAF[ np.all( (indel_lowconf, indelInvalidated), axis=0 ) ], \\\n",
    "            wes_VAF[     np.all( (indel_lowconf, indelInvalidated), axis=0 ) ], s=ms*1.3, color=lowConfColor,  facecolors='none', marker='^')\n",
    "\n",
    "plt.scatter(goldset_VAF[ np.all( (indel_medconf, indelInvalidated), axis=0 ) ], \\\n",
    "            wes_VAF[     np.all( (indel_medconf, indelInvalidated), axis=0 ) ], s=ms, color=medConfColor,  facecolors='none', marker='s')\n",
    "\n",
    "plt.scatter(goldset_VAF[ np.all( (indel_highconf, indelInvalidated), axis=0 ) ], \\\n",
    "            wes_VAF[     np.all( (indel_highconf, indelInvalidated), axis=0 ) ], s=ms, color=highConfColor, facecolors='none', marker='o')\n",
    "\n",
    "\n",
    "\n",
    "\n",
    "# plt.scatter(goldset_VAF[ np.all( (indel_unclassified, indelUnknown), axis=0 ) ], \\\n",
    "#             wes_VAF[     np.all( (indel_unclassified, indelUnknown), axis=0 ) ], s=ms*1.8, color=unclassifiedColor, alpha=0.7, marker='1')\n",
    "\n",
    "# plt.scatter(goldset_VAF[ np.all( (indel_lowconf, indelUnknown), axis=0 ) ], \\\n",
    "#             wes_VAF[     np.all( (indel_lowconf, indelUnknown), axis=0 ) ], s=ms*1.8, color=lowConfColor,  marker='2')\n",
    "\n",
    "# plt.scatter(goldset_VAF[ np.all( (indel_medconf, indelUnknown), axis=0 ) ], \\\n",
    "#             wes_VAF[     np.all( (indel_medconf, indelUnknown), axis=0 ) ], s=ms*1.8,  color=medConfColor,  marker='+')\n",
    "\n",
    "# plt.scatter(goldset_VAF[ np.all( (indel_highconf, indelUnknown), axis=0 ) ], \\\n",
    "#             wes_VAF[     np.all( (indel_highconf, indelUnknown), axis=0 ) ], s=ms, color=highConfColor, marker='x')\n",
    "\n",
    "\n",
    "x_range     = []\n",
    "lower_bound = []\n",
    "upper_bound = []\n",
    "\n",
    "vaf_i = 0.001\n",
    "while vaf_i < 1:\n",
    "    a, b = scipystats.binom.interval(0.95, 100,vaf_i)\n",
    "    x_range.append(vaf_i)\n",
    "    lower_bound.append(a/100)\n",
    "    upper_bound.append(b/100)\n",
    "    vaf_i += 0.001\n",
    "    \n",
    "plt.plot(x_range, lower_bound, color='gray', linestyle = 'dashed')\n",
    "plt.plot(x_range, upper_bound, color='gray', linestyle = 'dashed')\n",
    "\n",
    "plt.xlabel('VAF (WGS Set)', size=12)\n",
    "plt.ylabel('VAF (WES Set)', size=12)\n",
    "\n",
    "plt.savefig('../Extended_Data_Figures/Extended_Data_Fig_03c_WES_SNV_CrossValidation.pdf', bbox_inches='tight')"
   ]
  },
  {
   "cell_type": "code",
   "execution_count": 67,
   "metadata": {},
   "outputs": [
    {
     "name": "stdout",
     "output_type": "stream",
     "text": [
      "56 HighConf\t(56/56) 100.0%\t(56/56) 100.0%\t100.0%\n",
      "3 MedConf\t(3/3) 100.0%\t(3/3) 100.0%\t100.0%\n",
      "16 LowConf\t(14/16) 87.5%\t(10/14) 71.4%\t62.5%\n",
      "49 Unclassified\t(26/49) 53.1%\t(10/26) 38.5%\t20.4%\n",
      "56\t(56/56) 100.0%\t(56/56) 100.0%\t(56/56) 100.0%\n",
      "3\t(3/3) 100.0%\t(3/3) 100.0%\t(3/3) 100.0%\n",
      "16\t(14/16) 87.5%\t(10/14) 71.4%\t(10/16) 62.5%\n",
      "49\t(26/49) 53.1%\t(10/26) 38.5%\t(10/49) 20.4%\n"
     ]
    }
   ],
   "source": [
    "for conf_i, label_i in zip((indel_highconf, indel_medconf, indel_lowconf, indel_unclassified), ('HighConf', 'MedConf', 'LowConf', 'Unclassified')):\n",
    "    \n",
    "    total_i            = sum(conf_i)\n",
    "    total_validated    = sum(np.all( (conf_i, indelValidated), axis=0 ))\n",
    "    total_invalidated  = sum(np.all( (conf_i, indelInvalidated), axis=0 ))\n",
    "    validate_rate      = total_validated / (total_validated + total_invalidated)\n",
    "    interpretable_rate = (total_validated + total_invalidated)/total_i\n",
    "\n",
    "    totalStats['indel'][label_i]['total']         += total_i\n",
    "    totalStats['indel'][label_i]['interpretable'] += (total_validated+total_invalidated)\n",
    "    totalStats['indel'][label_i]['validated']     += total_validated\n",
    "    totalStats['indel'][label_i]['notValidated']  += total_invalidated\n",
    "\n",
    "    print('%g %s\\t(%i/%i) %.1f%%\\t(%i/%i) %.1f%%\\t%.1f%%' % (total_i, label_i, total_validated+total_invalidated, total_i, 100*interpretable_rate, total_validated, total_validated + total_invalidated, 100*validate_rate, 100*interpretable_rate*validate_rate) )\n",
    "    \n",
    "    \n",
    "for conf_i, label_i in zip((indel_highconf, indel_medconf, indel_lowconf, indel_unclassified), ('HighConf', 'MedConf', 'LowConf', 'Unclassified')):\n",
    "    \n",
    "    total_i            = sum(conf_i)\n",
    "    total_validated    = sum(np.all( (conf_i, indelValidated), axis=0 ))\n",
    "    total_invalidated  = sum(np.all( (conf_i, indelInvalidated), axis=0 ))\n",
    "    validate_rate      = total_validated / (total_validated + total_invalidated)\n",
    "    interpretable_rate = (total_validated + total_invalidated)/total_i\n",
    "    \n",
    "    print('%g\\t(%i/%i) %.1f%%\\t(%i/%i) %.1f%%\\t(%i/%i) %.1f%%' % (total_i, total_validated+total_invalidated, total_i, 100*interpretable_rate, total_validated, total_validated + total_invalidated, 100*validate_rate , total_validated, total_i, 100*(total_validated/total_i) ))"
   ]
  },
  {
   "cell_type": "code",
   "execution_count": 68,
   "metadata": {},
   "outputs": [
    {
     "name": "stdout",
     "output_type": "stream",
     "text": [
      "0.9899741062856326\n",
      "-0.8840962693604557\n",
      "0.9008669278341128\n",
      "0.6643007244653949\n"
     ]
    }
   ],
   "source": [
    "print( R(goldset_VAF[indel_highconf], wes_VAF[indel_highconf]) )\n",
    "print( R(goldset_VAF[indel_medconf], wes_VAF[indel_medconf]) )\n",
    "print( R(goldset_VAF[indel_lowconf], wes_VAF[indel_lowconf]) )\n",
    "print( R(goldset_VAF[indel_unclassified], wes_VAF[indel_unclassified]) )"
   ]
  },
  {
   "cell_type": "code",
   "execution_count": null,
   "metadata": {},
   "outputs": [],
   "source": []
  },
  {
   "cell_type": "code",
   "execution_count": 69,
   "metadata": {},
   "outputs": [
    {
     "data": {
      "text/plain": [
       "array([], shape=(0, 4), dtype='<U70')"
      ]
     },
     "execution_count": 69,
     "metadata": {},
     "output_type": "execute_result"
    }
   ],
   "source": [
    "np.array(wes_indels)[(np.all( (indel_highconf,     indelInvalidated), axis=0 ))]"
   ]
  },
  {
   "cell_type": "code",
   "execution_count": null,
   "metadata": {},
   "outputs": [],
   "source": []
  },
  {
   "cell_type": "code",
   "execution_count": 70,
   "metadata": {
    "scrolled": true
   },
   "outputs": [
    {
     "name": "stdout",
     "output_type": "stream",
     "text": [
      "('chr9', 105607844, 'G', 'A') HighConf YES YES\n",
      "('chr9', 129102404, 'T', 'C') HighConf YES YES\n",
      "('chr12', 131844177, 'G', 'C') HighConf YES INSPECTION,YES\n",
      "('chr15', 28815512, 'G', 'A') HighConf NO YES\n",
      "('chr17', 4545725, 'T', 'C') HighConf YES YES\n",
      "('chr19', 35488730, 'A', 'C') LowConf YES YES\n",
      "('chr22', 23875150, 'G', 'A') HighConf YES YES\n"
     ]
    }
   ],
   "source": [
    "for variant_i in ampliseqSnvResults:\n",
    "    if variant_i in ionSnvResults:\n",
    "        print(variant_i, ionSnvResults[variant_i]['confLabel'], ionSnvResults[variant_i]['Validation'], ampliseqSnvResults[variant_i]['Validation'])"
   ]
  },
  {
   "cell_type": "code",
   "execution_count": null,
   "metadata": {},
   "outputs": [],
   "source": [
    "\n"
   ]
  },
  {
   "cell_type": "code",
   "execution_count": 71,
   "metadata": {},
   "outputs": [
    {
     "name": "stdout",
     "output_type": "stream",
     "text": [
      "Combined Validation Rates for SNV:\n",
      "Total\tInterpretable\tValidation Rate\n",
      "2053\t(1969/2053) 95.9%\t(1962/1969) 99.6%\n",
      "145\t(119/145) 82.1%\t(119/119) 100.0%\n",
      "689\t(322/689) 46.7%\t(256/322) 79.5%\n",
      "1716\t(670/1716) 39.0%\t(93/670) 13.9%\n"
     ]
    }
   ],
   "source": [
    "print('Combined Validation Rates for SNV:')\n",
    "print('Total\\tInterpretable\\tValidation Rate')\n",
    "for conf_i in ('HighConf', 'MedConf', 'LowConf', 'Unclassified'):\n",
    "    \n",
    "    total_i            = totalStats['snv'][conf_i]['total']\n",
    "    total_validated    = totalStats['snv'][conf_i]['validated']\n",
    "    total_invalidated  = totalStats['snv'][conf_i]['notValidated']\n",
    "    interpretable_rate = totalStats['snv'][conf_i]['interpretable'] / total_i\n",
    "    validate_rate      = total_validated / (total_validated + total_invalidated)\n",
    "    \n",
    "    print('%g\\t(%i/%i) %.1f%%\\t(%i/%i) %.1f%%' % (total_i, total_validated+total_invalidated, total_i, 100*interpretable_rate, total_validated, total_validated + total_invalidated, 100*validate_rate) )"
   ]
  },
  {
   "cell_type": "code",
   "execution_count": 72,
   "metadata": {},
   "outputs": [
    {
     "name": "stdout",
     "output_type": "stream",
     "text": [
      "Combined Validation Rates for INDEL:\n",
      "Total\tInterpretable\tValidation Rate\n",
      "113\t(102/113) 90.3%\t(99/102) 97.1%\n",
      "7\t(5/7) 71.4%\t(5/5) 100.0%\n",
      "27\t(18/27) 66.7%\t(12/18) 66.7%\n",
      "75\t(30/75) 40.0%\t(13/30) 43.3%\n"
     ]
    }
   ],
   "source": [
    "print('Combined Validation Rates for INDEL:')\n",
    "print('Total\\tInterpretable\\tValidation Rate')\n",
    "for conf_i in ('HighConf', 'MedConf', 'LowConf', 'Unclassified'):\n",
    "    \n",
    "    total_i            = totalStats['indel'][conf_i]['total']\n",
    "    total_validated    = totalStats['indel'][conf_i]['validated']\n",
    "    total_invalidated  = totalStats['indel'][conf_i]['notValidated']\n",
    "    interpretable_rate = totalStats['indel'][conf_i]['interpretable'] / total_i\n",
    "    validate_rate      = total_validated / (total_validated + total_invalidated)\n",
    "    \n",
    "    print('%g\\t(%i/%i) %.1f%%\\t(%i/%i) %.1f%%' % (total_i, total_validated+total_invalidated, total_i, 100*interpretable_rate, total_validated, total_validated + total_invalidated, 100*validate_rate) )"
   ]
  },
  {
   "cell_type": "code",
   "execution_count": null,
   "metadata": {},
   "outputs": [],
   "source": []
  },
  {
   "cell_type": "code",
   "execution_count": 73,
   "metadata": {},
   "outputs": [],
   "source": [
    "totalData = { \\\n",
    "              'snv':  {'HighConf':     {'total': 0, 'interpretable': 0, 'validated': 0, 'notValidated': 0}, \\\n",
    "                       'MedConf' :     {'total': 0, 'interpretable': 0, 'validated': 0, 'notValidated': 0}, \\\n",
    "                       'LowConf' :     {'total': 0, 'interpretable': 0, 'validated': 0, 'notValidated': 0}, \\\n",
    "                       'Unclassified': {'total': 0, 'interpretable': 0, 'validated': 0, 'notValidated': 0}, \\\n",
    "                      }, \\\n",
    "              'indel': {'HighConf':     {'total': 0, 'interpretable': 0, 'validated': 0, 'notValidated': 0}, \\\n",
    "                        'MedConf' :     {'total': 0, 'interpretable': 0, 'validated': 0, 'notValidated': 0}, \\\n",
    "                        'LowConf' :     {'total': 0, 'interpretable': 0, 'validated': 0, 'notValidated': 0}, \\\n",
    "                        'Unclassified': {'total': 0, 'interpretable': 0, 'validated': 0, 'notValidated': 0}, \\\n",
    "                       }, \\\n",
    "             }"
   ]
  },
  {
   "cell_type": "code",
   "execution_count": 74,
   "metadata": {},
   "outputs": [],
   "source": [
    "snvData = {'HignConf'}\n",
    "indelData = {}\n",
    "\n",
    "for variant_i in validationKeeper:\n",
    "    \n",
    "    if len(variant_i[2]) == 1 and len(variant_i[3]) == 1:\n",
    "        vType = 'snv'\n",
    "    else:\n",
    "        vType = 'indel'\n",
    "        \n",
    "    confLevel_i =  validationKeeper[variant_i]['confLabel']\n",
    "    totalData[vType][confLevel_i]['total'] += 1\n",
    "            \n",
    "    if ('hiseqWES'   in validationKeeper[variant_i] and validationKeeper[variant_i]['hiseqWES']=='YES') or \\\n",
    "       ('ionTorrent' in validationKeeper[variant_i] and validationKeeper[variant_i]['ionTorrent']=='YES') or \\\n",
    "       ('ampliSeq'   in validationKeeper[variant_i] and validationKeeper[variant_i]['ampliSeq']=='YES'):\n",
    "                \n",
    "        totalData[vType][confLevel_i]['validated'] += 1\n",
    "        totalData[vType][confLevel_i]['interpretable'] += 1\n",
    "        \n",
    "    elif ('hiseqWES'   in validationKeeper[variant_i] and validationKeeper[variant_i]['hiseqWES']=='NO') or \\\n",
    "         ('ionTorrent' in validationKeeper[variant_i] and validationKeeper[variant_i]['ionTorrent']=='NO') or \\\n",
    "         ('ampliSeq'   in validationKeeper[variant_i] and validationKeeper[variant_i]['ampliSeq']=='NO'):\n",
    "        \n",
    "        totalData[vType][confLevel_i]['notValidated'] += 1\n",
    "        totalData[vType][confLevel_i]['interpretable'] += 1"
   ]
  },
  {
   "cell_type": "code",
   "execution_count": 75,
   "metadata": {},
   "outputs": [
    {
     "name": "stdout",
     "output_type": "stream",
     "text": [
      "Total unique counts: SNV\n",
      "1427\t(1417/1427) 99.3%\t(1416/1417) 99.9%\n",
      "1669\t(854/1669) 51.2%\t(314/854) 36.8%\n"
     ]
    }
   ],
   "source": [
    "print('Total unique counts: SNV')\n",
    "\n",
    "snvTotal         = totalData['snv']['HighConf']['total']         + totalData['snv']['MedConf']['total']\n",
    "snvInterpretable = totalData['snv']['HighConf']['interpretable'] + totalData['snv']['MedConf']['interpretable']\n",
    "snvValidated     = totalData['snv']['HighConf']['validated']     + totalData['snv']['MedConf']['validated']\n",
    "snvVRate         = 100 * snvValidated / snvInterpretable\n",
    "snvInterRate     = 100 * snvInterpretable / snvTotal\n",
    "print( '%i\\t(%i/%i) %.1f%%\\t(%i/%i) %.1f%%' % (snvTotal, snvInterpretable, snvTotal, snvInterRate, snvValidated, snvInterpretable, snvVRate) )\n",
    "\n",
    "\n",
    "snvTotal         = totalData['snv']['LowConf']['total']         + totalData['snv']['Unclassified']['total']\n",
    "snvInterpretable = totalData['snv']['LowConf']['interpretable'] + totalData['snv']['Unclassified']['interpretable']\n",
    "snvValidated     = totalData['snv']['LowConf']['validated']     + totalData['snv']['Unclassified']['validated']\n",
    "snvVRate         = 100 * snvValidated / snvInterpretable\n",
    "snvInterRate     = 100 * snvInterpretable / snvTotal\n",
    "\n",
    "print( '%i\\t(%i/%i) %.1f%%\\t(%i/%i) %.1f%%' % (snvTotal, snvInterpretable, snvTotal, snvInterRate, snvValidated, snvInterpretable, snvVRate) )"
   ]
  },
  {
   "cell_type": "code",
   "execution_count": 76,
   "metadata": {},
   "outputs": [
    {
     "name": "stdout",
     "output_type": "stream",
     "text": [
      "Total unique counts: indels\n",
      "80\t(78/80) 97.5%\t(78/78) 100.0%\n",
      "69\t(42/69) 60.9%\t(20/42) 47.6%\n"
     ]
    }
   ],
   "source": [
    "print('Total unique counts: indels')\n",
    "\n",
    "\n",
    "indelTotal         = totalData['indel']['HighConf']['total']         + totalData['indel']['MedConf']['total']\n",
    "indelInterpretable = totalData['indel']['HighConf']['interpretable'] + totalData['indel']['MedConf']['interpretable']\n",
    "indelValidated     = totalData['indel']['HighConf']['validated']     + totalData['indel']['MedConf']['validated']\n",
    "indelVRate         = 100 * indelValidated / indelInterpretable\n",
    "indelInterRate     = 100 * indelInterpretable / indelTotal\n",
    "print( '%i\\t(%i/%i) %.1f%%\\t(%i/%i) %.1f%%' % (indelTotal, indelInterpretable, indelTotal, indelInterRate, indelValidated, indelInterpretable, indelVRate) )\n",
    "\n",
    "\n",
    "indelTotal         = totalData['indel']['LowConf']['total']         + totalData['indel']['Unclassified']['total']\n",
    "indelInterpretable = totalData['indel']['LowConf']['interpretable'] + totalData['indel']['Unclassified']['interpretable']\n",
    "indelValidated     = totalData['indel']['LowConf']['validated']     + totalData['indel']['Unclassified']['validated']\n",
    "indelVRate         = 100 * indelValidated / indelInterpretable\n",
    "indelInterRate     = 100 * indelInterpretable / indelTotal\n",
    "\n",
    "print( '%i\\t(%i/%i) %.1f%%\\t(%i/%i) %.1f%%' % (indelTotal, indelInterpretable, indelTotal, indelInterRate, indelValidated, indelInterpretable, indelVRate) )"
   ]
  },
  {
   "cell_type": "code",
   "execution_count": null,
   "metadata": {},
   "outputs": [],
   "source": []
  },
  {
   "cell_type": "code",
   "execution_count": null,
   "metadata": {},
   "outputs": [],
   "source": []
  },
  {
   "cell_type": "code",
   "execution_count": null,
   "metadata": {},
   "outputs": [],
   "source": []
  },
  {
   "cell_type": "code",
   "execution_count": null,
   "metadata": {},
   "outputs": [],
   "source": []
  },
  {
   "cell_type": "code",
   "execution_count": null,
   "metadata": {},
   "outputs": [],
   "source": []
  },
  {
   "cell_type": "code",
   "execution_count": 77,
   "metadata": {},
   "outputs": [
    {
     "data": {
      "text/plain": [
       "'3.0.3'"
      ]
     },
     "execution_count": 77,
     "metadata": {},
     "output_type": "execute_result"
    }
   ],
   "source": [
    "import matplotlib\n",
    "matplotlib.__version__"
   ]
  },
  {
   "cell_type": "code",
   "execution_count": null,
   "metadata": {},
   "outputs": [],
   "source": []
  }
 ],
 "metadata": {
  "kernelspec": {
   "display_name": "Python 3",
   "language": "python",
   "name": "python3"
  },
  "language_info": {
   "codemirror_mode": {
    "name": "ipython",
    "version": 3
   },
   "file_extension": ".py",
   "mimetype": "text/x-python",
   "name": "python",
   "nbconvert_exporter": "python",
   "pygments_lexer": "ipython3",
   "version": "3.7.9"
  }
 },
 "nbformat": 4,
 "nbformat_minor": 4
}
