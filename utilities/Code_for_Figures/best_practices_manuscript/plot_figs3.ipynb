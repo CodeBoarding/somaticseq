{
 "cells": [
  {
   "cell_type": "code",
   "execution_count": 1,
   "id": "occupied-nevada",
   "metadata": {},
   "outputs": [],
   "source": [
    "import pandas as pd\n",
    "import matplotlib.pyplot as plt\n",
    "import numpy as np\n",
    "from matplotlib.lines import Line2D"
   ]
  },
  {
   "cell_type": "code",
   "execution_count": 2,
   "id": "infinite-filling",
   "metadata": {},
   "outputs": [],
   "source": [
    "data_3a = pd.read_excel('Fig.3a.xlsx', engine='openpyxl', index_col=0, sheet_name='Sheet1')\n",
    "data_3a2 = pd.read_excel('Fig.3a.xlsx', engine='openpyxl', index_col=0, sheet_name='Sheet2')"
   ]
  },
  {
   "cell_type": "code",
   "execution_count": null,
   "id": "insured-offset",
   "metadata": {},
   "outputs": [],
   "source": []
  },
  {
   "cell_type": "code",
   "execution_count": 3,
   "id": "aquatic-quantum",
   "metadata": {},
   "outputs": [],
   "source": [
    "data_3a.columns = ['lib', 'caller', 'quantity', \n",
    "                   'bowtie2_total', 'bowtie2_fscore', 'bowtie2_recall', 'bowtie2_precision', \n",
    "                   'None',  'bwa_total', 'bwa_fscore', 'bwa_recall', 'bwa_precision', \n",
    "                   'novo_total', 'novo_fscore', 'novo_recall', 'novo_precision',]"
   ]
  },
  {
   "cell_type": "code",
   "execution_count": 4,
   "id": "surprised-depression",
   "metadata": {},
   "outputs": [],
   "source": [
    "data_3a = data_3a.drop(['None'], axis=1).drop(['Samples'])\n",
    "data_3a = data_3a[~data_3a.index.isna()]"
   ]
  },
  {
   "cell_type": "code",
   "execution_count": null,
   "id": "spoken-korean",
   "metadata": {},
   "outputs": [],
   "source": []
  },
  {
   "cell_type": "code",
   "execution_count": 5,
   "id": "minor-extension",
   "metadata": {},
   "outputs": [],
   "source": [
    "mutect_fscores  = { 'TruSeq1000':{}, 'TruSeq250':{}, 'TruSeq100':{}, 'TruSeq10':{}, 'TruSeq1':{}, 'Nextera100':{}, 'Nextera10':{}, 'Nextera1':{} }\n",
    "strelka_fscores = { 'TruSeq1000':{}, 'TruSeq250':{}, 'TruSeq100':{}, 'TruSeq10':{}, 'TruSeq1':{}, 'Nextera100':{}, 'Nextera10':{}, 'Nextera1':{} }\n",
    "sniper_fscores  = { 'TruSeq1000':{}, 'TruSeq250':{}, 'TruSeq100':{}, 'TruSeq10':{}, 'TruSeq1':{}, 'Nextera100':{}, 'Nextera10':{}, 'Nextera1':{} }\n",
    "\n",
    "for i, row_i in data_3a.iterrows():\n",
    "    if row_i.caller == 'muTect2':\n",
    "        mutect_fscores['{}{}'.format(row_i.lib, row_i.quantity)]['bowtie2'] = row_i.bowtie2_fscore\n",
    "        mutect_fscores['{}{}'.format(row_i.lib, row_i.quantity)]['bwa'] = row_i.bwa_fscore\n",
    "        mutect_fscores['{}{}'.format(row_i.lib, row_i.quantity)]['novo'] = row_i.novo_fscore\n",
    "    \n",
    "    elif row_i.caller == 'strelka':\n",
    "        strelka_fscores['{}{}'.format(row_i.lib, row_i.quantity)]['bowtie2'] = row_i.bowtie2_fscore\n",
    "        strelka_fscores['{}{}'.format(row_i.lib, row_i.quantity)]['bwa'] = row_i.bwa_fscore\n",
    "        strelka_fscores['{}{}'.format(row_i.lib, row_i.quantity)]['novo'] = row_i.novo_fscore\n",
    "        \n",
    "    elif row_i.caller == 'somaticSniper':\n",
    "        sniper_fscores['{}{}'.format(row_i.lib, row_i.quantity)]['bowtie2'] = row_i.bowtie2_fscore\n",
    "        sniper_fscores['{}{}'.format(row_i.lib, row_i.quantity)]['bwa'] = row_i.bwa_fscore\n",
    "        sniper_fscores['{}{}'.format(row_i.lib, row_i.quantity)]['novo'] = row_i.novo_fscore"
   ]
  },
  {
   "cell_type": "code",
   "execution_count": null,
   "id": "roman-stylus",
   "metadata": {},
   "outputs": [],
   "source": []
  },
  {
   "cell_type": "code",
   "execution_count": null,
   "id": "blind-insulin",
   "metadata": {},
   "outputs": [],
   "source": []
  },
  {
   "cell_type": "code",
   "execution_count": null,
   "id": "dense-italian",
   "metadata": {},
   "outputs": [],
   "source": []
  },
  {
   "cell_type": "code",
   "execution_count": 6,
   "id": "prompt-prevention",
   "metadata": {},
   "outputs": [],
   "source": [
    "mutect_fscores_list = (\n",
    "          [mutect_fscores['TruSeq1000']['bowtie2'], mutect_fscores['TruSeq250']['bowtie2'], mutect_fscores['TruSeq100']['bowtie2'], mutect_fscores['TruSeq10']['bowtie2'], mutect_fscores['TruSeq1']['bowtie2'], mutect_fscores['Nextera100']['bowtie2'], mutect_fscores['Nextera10']['bowtie2'], mutect_fscores['Nextera1']['bowtie2']],\n",
    "          [mutect_fscores['TruSeq1000']['bwa'], mutect_fscores['TruSeq250']['bwa'], mutect_fscores['TruSeq100']['bwa'], mutect_fscores['TruSeq10']['bwa'], mutect_fscores['TruSeq1']['bwa'], mutect_fscores['Nextera100']['bwa'], mutect_fscores['Nextera10']['bwa'], mutect_fscores['Nextera1']['bwa']],\n",
    "          [mutect_fscores['TruSeq1000']['novo'], mutect_fscores['TruSeq250']['novo'], mutect_fscores['TruSeq100']['novo'], mutect_fscores['TruSeq10']['novo'], mutect_fscores['TruSeq1']['novo'], mutect_fscores['Nextera100']['novo'], mutect_fscores['Nextera10']['novo'], mutect_fscores['Nextera1']['novo']],\n",
    ")"
   ]
  },
  {
   "cell_type": "code",
   "execution_count": 7,
   "id": "dying-combine",
   "metadata": {},
   "outputs": [],
   "source": [
    "strelka_fscores_list = (\n",
    "          [strelka_fscores['TruSeq1000']['bowtie2'], strelka_fscores['TruSeq250']['bowtie2'], strelka_fscores['TruSeq100']['bowtie2'], strelka_fscores['TruSeq10']['bowtie2'], strelka_fscores['TruSeq1']['bowtie2'], strelka_fscores['Nextera100']['bowtie2'], strelka_fscores['Nextera10']['bowtie2'], strelka_fscores['Nextera1']['bowtie2']],\n",
    "          [strelka_fscores['TruSeq1000']['bwa'], strelka_fscores['TruSeq250']['bwa'], strelka_fscores['TruSeq100']['bwa'], strelka_fscores['TruSeq10']['bwa'], strelka_fscores['TruSeq1']['bwa'], strelka_fscores['Nextera100']['bwa'], strelka_fscores['Nextera10']['bwa'], strelka_fscores['Nextera1']['bwa']],\n",
    "          [strelka_fscores['TruSeq1000']['novo'], strelka_fscores['TruSeq250']['novo'], strelka_fscores['TruSeq100']['novo'], strelka_fscores['TruSeq10']['novo'], strelka_fscores['TruSeq1']['novo'], strelka_fscores['Nextera100']['novo'], strelka_fscores['Nextera10']['novo'], strelka_fscores['Nextera1']['novo']],\n",
    ")"
   ]
  },
  {
   "cell_type": "code",
   "execution_count": 8,
   "id": "level-drove",
   "metadata": {},
   "outputs": [],
   "source": [
    "sniper_fscores_list = (\n",
    "          [sniper_fscores['TruSeq1000']['bowtie2'], sniper_fscores['TruSeq250']['bowtie2'], sniper_fscores['TruSeq100']['bowtie2'], sniper_fscores['TruSeq10']['bowtie2'], sniper_fscores['TruSeq1']['bowtie2'], sniper_fscores['Nextera100']['bowtie2'], sniper_fscores['Nextera10']['bowtie2'], sniper_fscores['Nextera1']['bowtie2']],\n",
    "          [sniper_fscores['TruSeq1000']['bwa'], sniper_fscores['TruSeq250']['bwa'], sniper_fscores['TruSeq100']['bwa'], sniper_fscores['TruSeq10']['bwa'], sniper_fscores['TruSeq1']['bwa'], sniper_fscores['Nextera100']['bwa'], sniper_fscores['Nextera10']['bwa'], sniper_fscores['Nextera1']['bwa']],\n",
    "          [sniper_fscores['TruSeq1000']['novo'], sniper_fscores['TruSeq250']['novo'], sniper_fscores['TruSeq100']['novo'], sniper_fscores['TruSeq10']['novo'], sniper_fscores['TruSeq1']['novo'], sniper_fscores['Nextera100']['novo'], sniper_fscores['Nextera10']['novo'], sniper_fscores['Nextera1']['novo']],\n",
    ")"
   ]
  },
  {
   "cell_type": "code",
   "execution_count": null,
   "id": "unusual-bearing",
   "metadata": {},
   "outputs": [],
   "source": []
  },
  {
   "cell_type": "code",
   "execution_count": 9,
   "id": "fossil-handle",
   "metadata": {},
   "outputs": [
    {
     "data": {
      "image/png": "[encoded data removed]",
      "text/plain": [
       "<Figure size 1296x648 with 3 Axes>"
      ]
     },
     "metadata": {
      "needs_background": "light"
     },
     "output_type": "display_data"
    }
   ],
   "source": [
    "fig = plt.figure(figsize=(18, 9))\n",
    "\n",
    "X = np.arange(len(mutect_fscores_list[0]))\n",
    "\n",
    "ax = fig.add_subplot(1, 3, 1)\n",
    "ax.bar(X + 0.00, mutect_fscores_list[0], color = 'tab:blue', width = 0.22)\n",
    "ax.bar(X + 0.25, mutect_fscores_list[1], color = 'tab:orange', width = 0.22)\n",
    "ax.bar(X + 0.5, mutect_fscores_list[2],  color = 'tab:gray', width = 0.22)\n",
    "#ax.legend(('Bowtie2', 'BWA', 'NovoAlign'), fontsize=12)\n",
    "ax.set_title('MuTect2', size=14)\n",
    "_ = plt.xticks( X+0.25, ('1000 ng', '250 ng', '100 ng', '10 ng', '1 ng', '100 ng', '10 ng', '1 ng'), rotation=90, size=14 )\n",
    "_ = plt.yticks(size=14)\n",
    "ax.set_ylim((0, 1))\n",
    "ax.set_ylabel('F-Score', size=14)\n",
    "ax.spines['right'].set_visible(False)\n",
    "ax.spines['top'].set_visible(False)\n",
    "ax.text(-0.1, -0.17, 'TruSeq', size=14)\n",
    "ax.text( 1.9, -0.17, 'TruSeq-Nano', size=14)\n",
    "ax.text( 5.5, -0.17, 'Nextera', size=14)\n",
    "\n",
    "\n",
    "ax = fig.add_subplot(1, 3, 2)\n",
    "ax.bar(X + 0.00, strelka_fscores_list[0], color = 'tab:blue', width = 0.22)\n",
    "ax.bar(X + 0.25, strelka_fscores_list[1], color = 'tab:orange', width = 0.22)\n",
    "ax.bar(X + 0.5,  strelka_fscores_list[2],  color = 'tab:gray', width = 0.22)\n",
    "#ax.legend(('Bowtie2', 'BWA', 'NovoAlign'), fontsize=12)\n",
    "ax.set_title('Strelka2', size=14)\n",
    "_ = plt.xticks( X+0.25, ('1000 ng', '250 ng', '100 ng', '10 ng', '1 ng', '100 ng', '10 ng', '1 ng'), rotation=90, size=14 )\n",
    "ax.set_ylim((0, 1))\n",
    "ax.spines['right'].set_visible(False)\n",
    "ax.spines['top'].set_visible(False)\n",
    "ax.spines['left'].set_visible(False)\n",
    "ax.axes.get_yaxis().set_visible(False)\n",
    "ax.text(-0.1, -0.17, 'TruSeq', size=14)\n",
    "ax.text( 1.9, -0.17, 'TruSeq-Nano', size=14)\n",
    "ax.text( 5.5, -0.17, 'Nextera', size=14)\n",
    "\n",
    "\n",
    "ax = fig.add_subplot(1, 3, 3)\n",
    "ax.bar(X + 0.00, sniper_fscores_list[0], color = 'tab:blue', width = 0.22)\n",
    "ax.bar(X + 0.25, sniper_fscores_list[1], color = 'tab:orange', width = 0.22)\n",
    "ax.bar(X + 0.5,  sniper_fscores_list[2], color = 'tab:gray', width = 0.22)\n",
    "\n",
    "ax.legend(('Bowtie2', 'BWA', 'NovoAlign'), fontsize=14, bbox_to_anchor=(0.5, 0.92), frameon=False)\n",
    "\n",
    "ax.set_title('SomaticSniper', size=14)\n",
    "_ = plt.xticks( X+0.25, ('1000 ng', '250 ng', '100 ng', '10 ng', '1 ng', '100 ng', '10 ng', '1 ng'), rotation=90, size=14 )\n",
    "ax.set_ylim((0, 1))\n",
    "ax.spines['right'].set_visible(False)\n",
    "ax.spines['top'].set_visible(False)\n",
    "ax.spines['left'].set_visible(False)\n",
    "ax.axes.get_yaxis().set_visible(False)\n",
    "\n",
    "ax.text(-0.1, -0.17, 'TruSeq', size=14)\n",
    "ax.text( 1.9, -0.17, 'TruSeq-Nano', size=14)\n",
    "ax.text( 5.5, -0.17, 'Nextera', size=14)\n",
    "\n",
    "_ = plt.savefig('../Main_Figs/Fig_3a.pdf', bbox_inches='tight')"
   ]
  },
  {
   "cell_type": "code",
   "execution_count": null,
   "id": "accepted-google",
   "metadata": {},
   "outputs": [],
   "source": []
  },
  {
   "cell_type": "code",
   "execution_count": 10,
   "id": "tired-roulette",
   "metadata": {},
   "outputs": [],
   "source": [
    "data_3b = pd.read_excel('Fig.3b.xlsx', engine='openpyxl')"
   ]
  },
  {
   "cell_type": "code",
   "execution_count": 11,
   "id": "moving-english",
   "metadata": {},
   "outputs": [
    {
     "data": {
      "text/html": [
       "<div>\n",
       "<style scoped>\n",
       "    .dataframe tbody tr th:only-of-type {\n",
       "        vertical-align: middle;\n",
       "    }\n",
       "\n",
       "    .dataframe tbody tr th {\n",
       "        vertical-align: top;\n",
       "    }\n",
       "\n",
       "    .dataframe thead th {\n",
       "        text-align: right;\n",
       "    }\n",
       "</style>\n",
       "<table border=\"1\" class=\"dataframe\">\n",
       "  <thead>\n",
       "    <tr style=\"text-align: right;\">\n",
       "      <th></th>\n",
       "      <th>Unnamed: 0</th>\n",
       "      <th>caller</th>\n",
       "      <th>Samples</th>\n",
       "      <th>total count</th>\n",
       "      <th>F-Score</th>\n",
       "      <th>Recall</th>\n",
       "      <th>Precision</th>\n",
       "    </tr>\n",
       "  </thead>\n",
       "  <tbody>\n",
       "    <tr>\n",
       "      <th>0</th>\n",
       "      <td>FFPE</td>\n",
       "      <td>muTect2</td>\n",
       "      <td>FFG_GZ_T_24h-B</td>\n",
       "      <td>68594.0</td>\n",
       "      <td>0.59</td>\n",
       "      <td>0.79</td>\n",
       "      <td>0.48</td>\n",
       "    </tr>\n",
       "    <tr>\n",
       "      <th>1</th>\n",
       "      <td>FFPE</td>\n",
       "      <td>muTect2</td>\n",
       "      <td>FFG_GZ_T_24h-F</td>\n",
       "      <td>48662.0</td>\n",
       "      <td>0.74</td>\n",
       "      <td>0.81</td>\n",
       "      <td>0.69</td>\n",
       "    </tr>\n",
       "    <tr>\n",
       "      <th>2</th>\n",
       "      <td>FFPE</td>\n",
       "      <td>muTect2</td>\n",
       "      <td>FFG_IL_T_24h</td>\n",
       "      <td>50714.0</td>\n",
       "      <td>0.70</td>\n",
       "      <td>0.78</td>\n",
       "      <td>0.64</td>\n",
       "    </tr>\n",
       "  </tbody>\n",
       "</table>\n",
       "</div>"
      ],
      "text/plain": [
       "  Unnamed: 0   caller         Samples  total count  F-Score  Recall  Precision\n",
       "0       FFPE  muTect2  FFG_GZ_T_24h-B      68594.0     0.59    0.79       0.48\n",
       "1       FFPE  muTect2  FFG_GZ_T_24h-F      48662.0     0.74    0.81       0.69\n",
       "2       FFPE  muTect2    FFG_IL_T_24h      50714.0     0.70    0.78       0.64"
      ]
     },
     "execution_count": 11,
     "metadata": {},
     "output_type": "execute_result"
    }
   ],
   "source": [
    "data_3b.head(3)"
   ]
  },
  {
   "cell_type": "code",
   "execution_count": 12,
   "id": "abandoned-vault",
   "metadata": {},
   "outputs": [],
   "source": [
    "data_3b.columns = ['prep', 'caller', 'samples', 'total_count', 'f_score', 'recall', 'precision']"
   ]
  },
  {
   "cell_type": "code",
   "execution_count": 13,
   "id": "invalid-broad",
   "metadata": {},
   "outputs": [],
   "source": [
    "mutect_fresh_recall    = data_3b[(data_3b.caller=='muTect2') & (data_3b.prep=='Fresh')]['recall']\n",
    "mutect_fresh_precision = data_3b[(data_3b.caller=='muTect2') & (data_3b.prep=='Fresh')]['precision']\n",
    "mutect_ffpe_recall     = data_3b[(data_3b.caller=='muTect2') & (data_3b.prep=='FFPE')]['recall']\n",
    "mutect_ffpe_precision  = data_3b[(data_3b.caller=='muTect2') & (data_3b.prep=='FFPE')]['precision']\n",
    "\n",
    "strelka_fresh_recall    = data_3b[(data_3b.caller=='Strelka') & (data_3b.prep=='Fresh')]['recall']\n",
    "strelka_fresh_precision = data_3b[(data_3b.caller=='Strelka') & (data_3b.prep=='Fresh')]['precision']\n",
    "strelka_ffpe_recall     = data_3b[(data_3b.caller=='Strelka') & (data_3b.prep=='FFPE')]['recall']\n",
    "strelka_ffpe_precision  = data_3b[(data_3b.caller=='Strelka') & (data_3b.prep=='FFPE')]['precision']\n",
    "\n",
    "sniper_fresh_recall    = data_3b[(data_3b.caller=='somaticSniper') & (data_3b.prep=='Fresh')]['recall']\n",
    "sniper_fresh_precision = data_3b[(data_3b.caller=='somaticSniper') & (data_3b.prep=='Fresh')]['precision']\n",
    "sniper_ffpe_recall     = data_3b[(data_3b.caller=='somaticSniper') & (data_3b.prep=='FFPE')]['recall']\n",
    "sniper_ffpe_precision  = data_3b[(data_3b.caller=='somaticSniper') & (data_3b.prep=='FFPE')]['precision']"
   ]
  },
  {
   "cell_type": "code",
   "execution_count": 14,
   "id": "rocky-campaign",
   "metadata": {},
   "outputs": [
    {
     "data": {
      "image/png": "[encoded data removed]",
      "text/plain": [
       "<Figure size 432x432 with 1 Axes>"
      ]
     },
     "metadata": {
      "needs_background": "light"
     },
     "output_type": "display_data"
    }
   ],
   "source": [
    "fig = plt.figure(figsize=(6,6))\n",
    "msize = 60\n",
    "_ = plt.scatter(mutect_ffpe_recall,   mutect_ffpe_precision,   color='tab:red',  marker='o', s=msize)\n",
    "_ = plt.scatter(sniper_ffpe_recall,   sniper_ffpe_precision,   color='tab:blue',   marker='o', s=msize)\n",
    "_ = plt.scatter(strelka_ffpe_recall,  strelka_ffpe_precision,  color='tab:green', marker='o', s=msize)\n",
    "_ = plt.scatter(mutect_fresh_recall,  mutect_fresh_precision,  color='tab:red',  marker='^', s=msize)\n",
    "_ = plt.scatter(sniper_fresh_recall,  sniper_fresh_precision,  color='tab:blue',   marker='^', s=msize)\n",
    "_ = plt.scatter(strelka_fresh_recall, strelka_fresh_precision, color='tab:green', marker='^', s=msize)\n",
    "_ = plt.xlim((0.74, 0.95))\n",
    "_ = plt.ylim((0.2, 0.9))\n",
    "_ = plt.xticks( (0.75, 0.8, 0.85, 0.9, 0.95), (0.75, 0.8, 0.85, 0.9, 0.95), size=12 )\n",
    "_ = plt.yticks( size=12 )\n",
    "_ = plt.xlabel('Recall', size=12)\n",
    "_ = plt.ylabel('Precision', size=12)\n",
    "\n",
    "legend_elements = [Line2D([0], [0], marker='o', color='w', label='MuTect2',       markerfacecolor='tab:red', markersize=12),\n",
    "                   Line2D([0], [0], marker='o', color='w', label='SomaticSniper', markerfacecolor='tab:blue', markersize=12),\n",
    "                   Line2D([0], [0], marker='o', color='w', label='Strelka2',      markerfacecolor='tab:green', markersize=12),\n",
    "                   Line2D([0], [0], marker='o', color='w', label='FFPE',          markerfacecolor='black', markersize=12),\n",
    "                   Line2D([0], [0], marker='^', color='w', label='Fresh',         markerfacecolor='black', markersize=12),\n",
    "                  ]\n",
    "_ = plt.legend(handles=legend_elements, loc='lower right')\n",
    "\n",
    "_ = plt.savefig('../Main_Figs/Fig_3b.pdf')"
   ]
  },
  {
   "cell_type": "code",
   "execution_count": null,
   "id": "particular-access",
   "metadata": {},
   "outputs": [],
   "source": []
  },
  {
   "cell_type": "code",
   "execution_count": null,
   "id": "retired-desire",
   "metadata": {},
   "outputs": [],
   "source": []
  },
  {
   "cell_type": "code",
   "execution_count": null,
   "id": "collected-winter",
   "metadata": {},
   "outputs": [],
   "source": []
  }
 ],
 "metadata": {
  "kernelspec": {
   "display_name": "Python 3",
   "language": "python",
   "name": "python3"
  },
  "language_info": {
   "codemirror_mode": {
    "name": "ipython",
    "version": 3
   },
   "file_extension": ".py",
   "mimetype": "text/x-python",
   "name": "python",
   "nbconvert_exporter": "python",
   "pygments_lexer": "ipython3",
   "version": "3.7.9"
  }
 },
 "nbformat": 4,
 "nbformat_minor": 5
}
